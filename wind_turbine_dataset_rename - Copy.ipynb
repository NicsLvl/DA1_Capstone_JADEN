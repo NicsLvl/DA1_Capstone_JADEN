{
 "cells": [
  {
   "cell_type": "markdown",
   "metadata": {},
   "source": [
    "## Import libraries"
   ]
  },
  {
   "cell_type": "code",
   "execution_count": 1,
   "metadata": {},
   "outputs": [],
   "source": [
    "import pandas as pd"
   ]
  },
  {
   "attachments": {},
   "cell_type": "markdown",
   "metadata": {},
   "source": [
    "## Change wind turbine dataset column names"
   ]
  },
  {
   "cell_type": "code",
   "execution_count": 56,
   "metadata": {},
   "outputs": [
    {
     "data": {
      "text/html": [
       "<div>\n",
       "<style scoped>\n",
       "    .dataframe tbody tr th:only-of-type {\n",
       "        vertical-align: middle;\n",
       "    }\n",
       "\n",
       "    .dataframe tbody tr th {\n",
       "        vertical-align: top;\n",
       "    }\n",
       "\n",
       "    .dataframe thead th {\n",
       "        text-align: right;\n",
       "    }\n",
       "</style>\n",
       "<table border=\"1\" class=\"dataframe\">\n",
       "  <thead>\n",
       "    <tr style=\"text-align: right;\">\n",
       "      <th></th>\n",
       "      <th>case_id</th>\n",
       "      <th>faa_ors</th>\n",
       "      <th>faa_asn</th>\n",
       "      <th>usgs_pr_id</th>\n",
       "      <th>eia_id</th>\n",
       "      <th>t_state</th>\n",
       "      <th>t_county</th>\n",
       "      <th>t_fips</th>\n",
       "      <th>p_name</th>\n",
       "      <th>p_year</th>\n",
       "      <th>p_tnum</th>\n",
       "      <th>p_cap</th>\n",
       "      <th>t_manu</th>\n",
       "      <th>t_model</th>\n",
       "      <th>t_cap</th>\n",
       "      <th>t_hh</th>\n",
       "      <th>t_rd</th>\n",
       "      <th>t_rsa</th>\n",
       "      <th>t_ttlh</th>\n",
       "      <th>retrofit</th>\n",
       "      <th>retrofit_year</th>\n",
       "      <th>t_conf_atr</th>\n",
       "      <th>t_conf_loc</th>\n",
       "      <th>t_img_date</th>\n",
       "      <th>t_img_srce</th>\n",
       "      <th>xlong</th>\n",
       "      <th>ylat</th>\n",
       "    </tr>\n",
       "  </thead>\n",
       "  <tbody>\n",
       "    <tr>\n",
       "      <th>0</th>\n",
       "      <td>3072695</td>\n",
       "      <td>NaN</td>\n",
       "      <td>NaN</td>\n",
       "      <td>5143.0</td>\n",
       "      <td>52161.0</td>\n",
       "      <td>CA</td>\n",
       "      <td>Kern County</td>\n",
       "      <td>6029</td>\n",
       "      <td>251 Wind</td>\n",
       "      <td>1987.0</td>\n",
       "      <td>194</td>\n",
       "      <td>18.43</td>\n",
       "      <td>Vestas</td>\n",
       "      <td>NaN</td>\n",
       "      <td>95.0</td>\n",
       "      <td>NaN</td>\n",
       "      <td>NaN</td>\n",
       "      <td>NaN</td>\n",
       "      <td>NaN</td>\n",
       "      <td>0</td>\n",
       "      <td>NaN</td>\n",
       "      <td>2</td>\n",
       "      <td>3</td>\n",
       "      <td>5/8/2018</td>\n",
       "      <td>Digital Globe</td>\n",
       "      <td>-118.364410</td>\n",
       "      <td>35.077435</td>\n",
       "    </tr>\n",
       "    <tr>\n",
       "      <th>1</th>\n",
       "      <td>3072704</td>\n",
       "      <td>NaN</td>\n",
       "      <td>NaN</td>\n",
       "      <td>5146.0</td>\n",
       "      <td>52161.0</td>\n",
       "      <td>CA</td>\n",
       "      <td>Kern County</td>\n",
       "      <td>6029</td>\n",
       "      <td>251 Wind</td>\n",
       "      <td>1987.0</td>\n",
       "      <td>194</td>\n",
       "      <td>18.43</td>\n",
       "      <td>Vestas</td>\n",
       "      <td>NaN</td>\n",
       "      <td>95.0</td>\n",
       "      <td>NaN</td>\n",
       "      <td>NaN</td>\n",
       "      <td>NaN</td>\n",
       "      <td>NaN</td>\n",
       "      <td>0</td>\n",
       "      <td>NaN</td>\n",
       "      <td>2</td>\n",
       "      <td>3</td>\n",
       "      <td>5/8/2018</td>\n",
       "      <td>Digital Globe</td>\n",
       "      <td>-118.364197</td>\n",
       "      <td>35.077644</td>\n",
       "    </tr>\n",
       "    <tr>\n",
       "      <th>2</th>\n",
       "      <td>3072661</td>\n",
       "      <td>NaN</td>\n",
       "      <td>NaN</td>\n",
       "      <td>5149.0</td>\n",
       "      <td>52161.0</td>\n",
       "      <td>CA</td>\n",
       "      <td>Kern County</td>\n",
       "      <td>6029</td>\n",
       "      <td>251 Wind</td>\n",
       "      <td>1987.0</td>\n",
       "      <td>194</td>\n",
       "      <td>18.43</td>\n",
       "      <td>Vestas</td>\n",
       "      <td>NaN</td>\n",
       "      <td>95.0</td>\n",
       "      <td>NaN</td>\n",
       "      <td>NaN</td>\n",
       "      <td>NaN</td>\n",
       "      <td>NaN</td>\n",
       "      <td>0</td>\n",
       "      <td>NaN</td>\n",
       "      <td>2</td>\n",
       "      <td>3</td>\n",
       "      <td>5/8/2018</td>\n",
       "      <td>Digital Globe</td>\n",
       "      <td>-118.363762</td>\n",
       "      <td>35.077908</td>\n",
       "    </tr>\n",
       "    <tr>\n",
       "      <th>3</th>\n",
       "      <td>3063269</td>\n",
       "      <td>19-028130</td>\n",
       "      <td>2016-WTE-5934-OE</td>\n",
       "      <td>NaN</td>\n",
       "      <td>NaN</td>\n",
       "      <td>IA</td>\n",
       "      <td>Story County</td>\n",
       "      <td>19169</td>\n",
       "      <td>30 MW Iowa DG Portfolio</td>\n",
       "      <td>2017.0</td>\n",
       "      <td>10</td>\n",
       "      <td>30.00</td>\n",
       "      <td>Nordex</td>\n",
       "      <td>AW125/3000</td>\n",
       "      <td>3000.0</td>\n",
       "      <td>87.5</td>\n",
       "      <td>125.0</td>\n",
       "      <td>12271.85</td>\n",
       "      <td>150.0</td>\n",
       "      <td>0</td>\n",
       "      <td>NaN</td>\n",
       "      <td>3</td>\n",
       "      <td>3</td>\n",
       "      <td>7/23/2017</td>\n",
       "      <td>Digital Globe</td>\n",
       "      <td>-93.632835</td>\n",
       "      <td>41.882477</td>\n",
       "    </tr>\n",
       "    <tr>\n",
       "      <th>4</th>\n",
       "      <td>3063321</td>\n",
       "      <td>19-028135</td>\n",
       "      <td>2014-WTE-4087-OE</td>\n",
       "      <td>NaN</td>\n",
       "      <td>NaN</td>\n",
       "      <td>IA</td>\n",
       "      <td>Hardin County</td>\n",
       "      <td>19083</td>\n",
       "      <td>30 MW Iowa DG Portfolio</td>\n",
       "      <td>2017.0</td>\n",
       "      <td>10</td>\n",
       "      <td>30.00</td>\n",
       "      <td>Nordex</td>\n",
       "      <td>AW125/3000</td>\n",
       "      <td>3000.0</td>\n",
       "      <td>87.5</td>\n",
       "      <td>125.0</td>\n",
       "      <td>12271.85</td>\n",
       "      <td>150.0</td>\n",
       "      <td>0</td>\n",
       "      <td>NaN</td>\n",
       "      <td>3</td>\n",
       "      <td>3</td>\n",
       "      <td>6/20/2017</td>\n",
       "      <td>Digital Globe</td>\n",
       "      <td>-93.367798</td>\n",
       "      <td>42.497940</td>\n",
       "    </tr>\n",
       "  </tbody>\n",
       "</table>\n",
       "</div>"
      ],
      "text/plain": [
       "   case_id    faa_ors           faa_asn  usgs_pr_id   eia_id t_state  \\\n",
       "0  3072695        NaN               NaN      5143.0  52161.0      CA   \n",
       "1  3072704        NaN               NaN      5146.0  52161.0      CA   \n",
       "2  3072661        NaN               NaN      5149.0  52161.0      CA   \n",
       "3  3063269  19-028130  2016-WTE-5934-OE         NaN      NaN      IA   \n",
       "4  3063321  19-028135  2014-WTE-4087-OE         NaN      NaN      IA   \n",
       "\n",
       "        t_county  t_fips                   p_name  p_year  p_tnum  p_cap  \\\n",
       "0    Kern County    6029                 251 Wind  1987.0     194  18.43   \n",
       "1    Kern County    6029                 251 Wind  1987.0     194  18.43   \n",
       "2    Kern County    6029                 251 Wind  1987.0     194  18.43   \n",
       "3   Story County   19169  30 MW Iowa DG Portfolio  2017.0      10  30.00   \n",
       "4  Hardin County   19083  30 MW Iowa DG Portfolio  2017.0      10  30.00   \n",
       "\n",
       "   t_manu     t_model   t_cap  t_hh   t_rd     t_rsa  t_ttlh  retrofit  \\\n",
       "0  Vestas         NaN    95.0   NaN    NaN       NaN     NaN         0   \n",
       "1  Vestas         NaN    95.0   NaN    NaN       NaN     NaN         0   \n",
       "2  Vestas         NaN    95.0   NaN    NaN       NaN     NaN         0   \n",
       "3  Nordex  AW125/3000  3000.0  87.5  125.0  12271.85   150.0         0   \n",
       "4  Nordex  AW125/3000  3000.0  87.5  125.0  12271.85   150.0         0   \n",
       "\n",
       "   retrofit_year  t_conf_atr  t_conf_loc t_img_date     t_img_srce  \\\n",
       "0            NaN           2           3   5/8/2018  Digital Globe   \n",
       "1            NaN           2           3   5/8/2018  Digital Globe   \n",
       "2            NaN           2           3   5/8/2018  Digital Globe   \n",
       "3            NaN           3           3  7/23/2017  Digital Globe   \n",
       "4            NaN           3           3  6/20/2017  Digital Globe   \n",
       "\n",
       "        xlong       ylat  \n",
       "0 -118.364410  35.077435  \n",
       "1 -118.364197  35.077644  \n",
       "2 -118.363762  35.077908  \n",
       "3  -93.632835  41.882477  \n",
       "4  -93.367798  42.497940  "
      ]
     },
     "execution_count": 56,
     "metadata": {},
     "output_type": "execute_result"
    }
   ],
   "source": [
    "# define windturbine dataset file name\n",
    "wind_turbine_filename = r'Use this dataset/uswtdb_v5_0_20220427.csv'\n",
    "\n",
    "# read wind turbine dataset\n",
    "wind_turbine_df = pd.read_csv(wind_turbine_filename, encoding = 'Latin-1')\n",
    "\n",
    "# print first 5 rows of wind turbine dataset\n",
    "wind_turbine_df.head()"
   ]
  },
  {
   "cell_type": "code",
   "execution_count": 57,
   "metadata": {},
   "outputs": [
    {
     "data": {
      "text/plain": [
       "(71666, 27)"
      ]
     },
     "execution_count": 57,
     "metadata": {},
     "output_type": "execute_result"
    }
   ],
   "source": [
    "wind_turbine_df.shape"
   ]
  },
  {
   "cell_type": "code",
   "execution_count": 58,
   "metadata": {},
   "outputs": [
    {
     "data": {
      "text/html": [
       "<div>\n",
       "<style scoped>\n",
       "    .dataframe tbody tr th:only-of-type {\n",
       "        vertical-align: middle;\n",
       "    }\n",
       "\n",
       "    .dataframe tbody tr th {\n",
       "        vertical-align: top;\n",
       "    }\n",
       "\n",
       "    .dataframe thead th {\n",
       "        text-align: right;\n",
       "    }\n",
       "</style>\n",
       "<table border=\"1\" class=\"dataframe\">\n",
       "  <thead>\n",
       "    <tr style=\"text-align: right;\">\n",
       "      <th></th>\n",
       "      <th>Key</th>\n",
       "      <th>Value Type</th>\n",
       "      <th>Key Description</th>\n",
       "      <th>Column Name</th>\n",
       "      <th>url</th>\n",
       "    </tr>\n",
       "  </thead>\n",
       "  <tbody>\n",
       "    <tr>\n",
       "      <th>0</th>\n",
       "      <td>case_id</td>\n",
       "      <td>number (integer)</td>\n",
       "      <td>Unique stable identification number.</td>\n",
       "      <td>case_id</td>\n",
       "      <td>NaN</td>\n",
       "    </tr>\n",
       "    <tr>\n",
       "      <th>1</th>\n",
       "      <td>faa_ors</td>\n",
       "      <td>string</td>\n",
       "      <td>Unique identifier for cross-reference to the F...</td>\n",
       "      <td>faa_digital_obstacle_id</td>\n",
       "      <td>https://www.faa.gov/air_traffic/flight_info/ae...</td>\n",
       "    </tr>\n",
       "    <tr>\n",
       "      <th>2</th>\n",
       "      <td>faa_asn</td>\n",
       "      <td>string</td>\n",
       "      <td>Unique identifier for cross-reference to the F...</td>\n",
       "      <td>faa_obstruction_evaluation_id</td>\n",
       "      <td>https://www.faa.gov/air_traffic/obstruction_ev...</td>\n",
       "    </tr>\n",
       "    <tr>\n",
       "      <th>3</th>\n",
       "      <td>usgs_pr_id</td>\n",
       "      <td>number (integer)</td>\n",
       "      <td>Unique identifier for cross-reference to the 2...</td>\n",
       "      <td>usgs_id</td>\n",
       "      <td>NaN</td>\n",
       "    </tr>\n",
       "    <tr>\n",
       "      <th>4</th>\n",
       "      <td>t_state</td>\n",
       "      <td>string</td>\n",
       "      <td>State where turbine is located.</td>\n",
       "      <td>state</td>\n",
       "      <td>NaN</td>\n",
       "    </tr>\n",
       "  </tbody>\n",
       "</table>\n",
       "</div>"
      ],
      "text/plain": [
       "          Key        Value Type  \\\n",
       "0     case_id  number (integer)   \n",
       "1     faa_ors            string   \n",
       "2     faa_asn            string   \n",
       "3  usgs_pr_id  number (integer)   \n",
       "4     t_state            string   \n",
       "\n",
       "                                     Key Description  \\\n",
       "0               Unique stable identification number.   \n",
       "1  Unique identifier for cross-reference to the F...   \n",
       "2  Unique identifier for cross-reference to the F...   \n",
       "3  Unique identifier for cross-reference to the 2...   \n",
       "4                    State where turbine is located.   \n",
       "\n",
       "                     Column Name  \\\n",
       "0                        case_id   \n",
       "1        faa_digital_obstacle_id   \n",
       "2  faa_obstruction_evaluation_id   \n",
       "3                        usgs_id   \n",
       "4                          state   \n",
       "\n",
       "                                                 url  \n",
       "0                                                NaN  \n",
       "1  https://www.faa.gov/air_traffic/flight_info/ae...  \n",
       "2  https://www.faa.gov/air_traffic/obstruction_ev...  \n",
       "3                                                NaN  \n",
       "4                                                NaN  "
      ]
     },
     "execution_count": 58,
     "metadata": {},
     "output_type": "execute_result"
    }
   ],
   "source": [
    "# define datadictionary file name\n",
    "datadictionary_filename = r'data_documentation/windturbine_datadictionary_updated.xlsx'\n",
    "\n",
    "# read datadictionary dataset\n",
    "datadictionary_df = pd.read_excel(datadictionary_filename)\n",
    "\n",
    "# print first 5 rows of datadictionary dataset\n",
    "datadictionary_df.head()"
   ]
  },
  {
   "cell_type": "code",
   "execution_count": 59,
   "metadata": {},
   "outputs": [
    {
     "data": {
      "text/html": [
       "<div>\n",
       "<style scoped>\n",
       "    .dataframe tbody tr th:only-of-type {\n",
       "        vertical-align: middle;\n",
       "    }\n",
       "\n",
       "    .dataframe tbody tr th {\n",
       "        vertical-align: top;\n",
       "    }\n",
       "\n",
       "    .dataframe thead th {\n",
       "        text-align: right;\n",
       "    }\n",
       "</style>\n",
       "<table border=\"1\" class=\"dataframe\">\n",
       "  <thead>\n",
       "    <tr style=\"text-align: right;\">\n",
       "      <th></th>\n",
       "      <th>case_id</th>\n",
       "      <th>faa_digital_obstacle_id</th>\n",
       "      <th>faa_obstruction_evaluation_id</th>\n",
       "      <th>usgs_id</th>\n",
       "      <th>eia_id</th>\n",
       "      <th>state</th>\n",
       "      <th>county</th>\n",
       "      <th>state_county_id</th>\n",
       "      <th>project_name</th>\n",
       "      <th>operational_year</th>\n",
       "      <th>project_turbine_num</th>\n",
       "      <th>cumulative_capacity (MW)</th>\n",
       "      <th>manufacturer</th>\n",
       "      <th>model_name</th>\n",
       "      <th>turbine_capacity (KW)</th>\n",
       "      <th>hub_height (m)</th>\n",
       "      <th>rotor_diameter (m)</th>\n",
       "      <th>rotor_swept area (m2)</th>\n",
       "      <th>max_height (m)</th>\n",
       "      <th>retrofit (y/n)</th>\n",
       "      <th>retrofit_year</th>\n",
       "      <th>attribute_confidence_level (1/2/3)</th>\n",
       "      <th>location_confidence_level (1/2/3)</th>\n",
       "      <th>location_verification_date</th>\n",
       "      <th>image_source</th>\n",
       "      <th>xlong</th>\n",
       "      <th>ylat</th>\n",
       "    </tr>\n",
       "  </thead>\n",
       "  <tbody>\n",
       "    <tr>\n",
       "      <th>0</th>\n",
       "      <td>3072695</td>\n",
       "      <td>NaN</td>\n",
       "      <td>NaN</td>\n",
       "      <td>5143.0</td>\n",
       "      <td>52161.0</td>\n",
       "      <td>CA</td>\n",
       "      <td>Kern County</td>\n",
       "      <td>6029</td>\n",
       "      <td>251 Wind</td>\n",
       "      <td>1987.0</td>\n",
       "      <td>194</td>\n",
       "      <td>18.43</td>\n",
       "      <td>Vestas</td>\n",
       "      <td>NaN</td>\n",
       "      <td>95.0</td>\n",
       "      <td>NaN</td>\n",
       "      <td>NaN</td>\n",
       "      <td>NaN</td>\n",
       "      <td>NaN</td>\n",
       "      <td>0</td>\n",
       "      <td>NaN</td>\n",
       "      <td>2</td>\n",
       "      <td>3</td>\n",
       "      <td>5/8/2018</td>\n",
       "      <td>Digital Globe</td>\n",
       "      <td>-118.364410</td>\n",
       "      <td>35.077435</td>\n",
       "    </tr>\n",
       "    <tr>\n",
       "      <th>1</th>\n",
       "      <td>3072704</td>\n",
       "      <td>NaN</td>\n",
       "      <td>NaN</td>\n",
       "      <td>5146.0</td>\n",
       "      <td>52161.0</td>\n",
       "      <td>CA</td>\n",
       "      <td>Kern County</td>\n",
       "      <td>6029</td>\n",
       "      <td>251 Wind</td>\n",
       "      <td>1987.0</td>\n",
       "      <td>194</td>\n",
       "      <td>18.43</td>\n",
       "      <td>Vestas</td>\n",
       "      <td>NaN</td>\n",
       "      <td>95.0</td>\n",
       "      <td>NaN</td>\n",
       "      <td>NaN</td>\n",
       "      <td>NaN</td>\n",
       "      <td>NaN</td>\n",
       "      <td>0</td>\n",
       "      <td>NaN</td>\n",
       "      <td>2</td>\n",
       "      <td>3</td>\n",
       "      <td>5/8/2018</td>\n",
       "      <td>Digital Globe</td>\n",
       "      <td>-118.364197</td>\n",
       "      <td>35.077644</td>\n",
       "    </tr>\n",
       "    <tr>\n",
       "      <th>2</th>\n",
       "      <td>3072661</td>\n",
       "      <td>NaN</td>\n",
       "      <td>NaN</td>\n",
       "      <td>5149.0</td>\n",
       "      <td>52161.0</td>\n",
       "      <td>CA</td>\n",
       "      <td>Kern County</td>\n",
       "      <td>6029</td>\n",
       "      <td>251 Wind</td>\n",
       "      <td>1987.0</td>\n",
       "      <td>194</td>\n",
       "      <td>18.43</td>\n",
       "      <td>Vestas</td>\n",
       "      <td>NaN</td>\n",
       "      <td>95.0</td>\n",
       "      <td>NaN</td>\n",
       "      <td>NaN</td>\n",
       "      <td>NaN</td>\n",
       "      <td>NaN</td>\n",
       "      <td>0</td>\n",
       "      <td>NaN</td>\n",
       "      <td>2</td>\n",
       "      <td>3</td>\n",
       "      <td>5/8/2018</td>\n",
       "      <td>Digital Globe</td>\n",
       "      <td>-118.363762</td>\n",
       "      <td>35.077908</td>\n",
       "    </tr>\n",
       "    <tr>\n",
       "      <th>3</th>\n",
       "      <td>3063269</td>\n",
       "      <td>19-028130</td>\n",
       "      <td>2016-WTE-5934-OE</td>\n",
       "      <td>NaN</td>\n",
       "      <td>NaN</td>\n",
       "      <td>IA</td>\n",
       "      <td>Story County</td>\n",
       "      <td>19169</td>\n",
       "      <td>30 MW Iowa DG Portfolio</td>\n",
       "      <td>2017.0</td>\n",
       "      <td>10</td>\n",
       "      <td>30.00</td>\n",
       "      <td>Nordex</td>\n",
       "      <td>AW125/3000</td>\n",
       "      <td>3000.0</td>\n",
       "      <td>87.5</td>\n",
       "      <td>125.0</td>\n",
       "      <td>12271.85</td>\n",
       "      <td>150.0</td>\n",
       "      <td>0</td>\n",
       "      <td>NaN</td>\n",
       "      <td>3</td>\n",
       "      <td>3</td>\n",
       "      <td>7/23/2017</td>\n",
       "      <td>Digital Globe</td>\n",
       "      <td>-93.632835</td>\n",
       "      <td>41.882477</td>\n",
       "    </tr>\n",
       "    <tr>\n",
       "      <th>4</th>\n",
       "      <td>3063321</td>\n",
       "      <td>19-028135</td>\n",
       "      <td>2014-WTE-4087-OE</td>\n",
       "      <td>NaN</td>\n",
       "      <td>NaN</td>\n",
       "      <td>IA</td>\n",
       "      <td>Hardin County</td>\n",
       "      <td>19083</td>\n",
       "      <td>30 MW Iowa DG Portfolio</td>\n",
       "      <td>2017.0</td>\n",
       "      <td>10</td>\n",
       "      <td>30.00</td>\n",
       "      <td>Nordex</td>\n",
       "      <td>AW125/3000</td>\n",
       "      <td>3000.0</td>\n",
       "      <td>87.5</td>\n",
       "      <td>125.0</td>\n",
       "      <td>12271.85</td>\n",
       "      <td>150.0</td>\n",
       "      <td>0</td>\n",
       "      <td>NaN</td>\n",
       "      <td>3</td>\n",
       "      <td>3</td>\n",
       "      <td>6/20/2017</td>\n",
       "      <td>Digital Globe</td>\n",
       "      <td>-93.367798</td>\n",
       "      <td>42.497940</td>\n",
       "    </tr>\n",
       "  </tbody>\n",
       "</table>\n",
       "</div>"
      ],
      "text/plain": [
       "   case_id faa_digital_obstacle_id faa_obstruction_evaluation_id  usgs_id  \\\n",
       "0  3072695                     NaN                           NaN   5143.0   \n",
       "1  3072704                     NaN                           NaN   5146.0   \n",
       "2  3072661                     NaN                           NaN   5149.0   \n",
       "3  3063269               19-028130              2016-WTE-5934-OE      NaN   \n",
       "4  3063321               19-028135              2014-WTE-4087-OE      NaN   \n",
       "\n",
       "    eia_id state         county  state_county_id             project_name  \\\n",
       "0  52161.0    CA    Kern County             6029                 251 Wind   \n",
       "1  52161.0    CA    Kern County             6029                 251 Wind   \n",
       "2  52161.0    CA    Kern County             6029                 251 Wind   \n",
       "3      NaN    IA   Story County            19169  30 MW Iowa DG Portfolio   \n",
       "4      NaN    IA  Hardin County            19083  30 MW Iowa DG Portfolio   \n",
       "\n",
       "   operational_year  project_turbine_num  cumulative_capacity (MW)  \\\n",
       "0            1987.0                  194                     18.43   \n",
       "1            1987.0                  194                     18.43   \n",
       "2            1987.0                  194                     18.43   \n",
       "3            2017.0                   10                     30.00   \n",
       "4            2017.0                   10                     30.00   \n",
       "\n",
       "  manufacturer  model_name  turbine_capacity (KW)  hub_height (m)  \\\n",
       "0       Vestas         NaN                   95.0             NaN   \n",
       "1       Vestas         NaN                   95.0             NaN   \n",
       "2       Vestas         NaN                   95.0             NaN   \n",
       "3       Nordex  AW125/3000                 3000.0            87.5   \n",
       "4       Nordex  AW125/3000                 3000.0            87.5   \n",
       "\n",
       "   rotor_diameter (m)  rotor_swept area (m2)  max_height (m)  retrofit (y/n)  \\\n",
       "0                 NaN                    NaN             NaN               0   \n",
       "1                 NaN                    NaN             NaN               0   \n",
       "2                 NaN                    NaN             NaN               0   \n",
       "3               125.0               12271.85           150.0               0   \n",
       "4               125.0               12271.85           150.0               0   \n",
       "\n",
       "   retrofit_year  attribute_confidence_level (1/2/3)  \\\n",
       "0            NaN                                   2   \n",
       "1            NaN                                   2   \n",
       "2            NaN                                   2   \n",
       "3            NaN                                   3   \n",
       "4            NaN                                   3   \n",
       "\n",
       "   location_confidence_level (1/2/3) location_verification_date  \\\n",
       "0                                  3                   5/8/2018   \n",
       "1                                  3                   5/8/2018   \n",
       "2                                  3                   5/8/2018   \n",
       "3                                  3                  7/23/2017   \n",
       "4                                  3                  6/20/2017   \n",
       "\n",
       "    image_source       xlong       ylat  \n",
       "0  Digital Globe -118.364410  35.077435  \n",
       "1  Digital Globe -118.364197  35.077644  \n",
       "2  Digital Globe -118.363762  35.077908  \n",
       "3  Digital Globe  -93.632835  41.882477  \n",
       "4  Digital Globe  -93.367798  42.497940  "
      ]
     },
     "execution_count": 59,
     "metadata": {},
     "output_type": "execute_result"
    }
   ],
   "source": [
    "# set 'Key' column as index in the datadictionary_df dataframe\n",
    "datadictionary_df = datadictionary_df.set_index('Key')\n",
    "\n",
    "# use rename function to map old column names to new column names using the datadictionary_df dataframe\n",
    "wind_turbine_df_rename = wind_turbine_df.rename(columns=datadictionary_df['Column Name'])\n",
    "\n",
    "# reset index of datadictionary_df\n",
    "datadictionary_df = datadictionary_df.reset_index()\n",
    "\n",
    "# print first 5 rows of wind turbine dataset\n",
    "wind_turbine_df_rename.head()"
   ]
  },
  {
   "attachments": {},
   "cell_type": "markdown",
   "metadata": {},
   "source": [
    "## Validate new column names"
   ]
  },
  {
   "cell_type": "code",
   "execution_count": 60,
   "metadata": {},
   "outputs": [
    {
     "name": "stdout",
     "output_type": "stream",
     "text": [
      "Total number of columns: 27\n",
      "Number of columns equal: 27\n",
      "Number of columns not equal: 0\n"
     ]
    }
   ],
   "source": [
    "# create a new df to validate the renaming of the columns\n",
    "rename_validation = pd.DataFrame(wind_turbine_df.columns, columns=['wind_turbine_df'])\n",
    "\n",
    "# add the column names of wind_turbine_df_rename\n",
    "rename_validation['wind_turbine_df_rename'] = wind_turbine_df_rename.columns\n",
    "\n",
    "# maps column names in datadictionary_df to their corresponding 'Key' values\n",
    "key_column = datadictionary_df.set_index('Key')['Column Name']\n",
    "\n",
    "# add the corresponding 'Column Name' values based on the 'Key' values in wind_turbine_df\n",
    "rename_validation['datadictionary'] = rename_validation['wind_turbine_df'].map(key_column)\n",
    "\n",
    "# check if the column names in wind_turbine_df_rename match the corresponding column names in datadictionary_df\n",
    "rename_validation['check'] = rename_validation['wind_turbine_df_rename'] == rename_validation['datadictionary']\n",
    "\n",
    "# print the check of the renamed columns\n",
    "print(f'Total number of columns: {rename_validation.shape[0]}\\n\\\n",
    "Number of columns equal: {rename_validation[rename_validation[\"check\"] == True].shape[0]}\\n\\\n",
    "Number of columns not equal: {rename_validation[rename_validation[\"check\"] == False].shape[0]}')"
   ]
  },
  {
   "attachments": {},
   "cell_type": "markdown",
   "metadata": {},
   "source": [
    "# Filter only current data based on eia 2021 schedule"
   ]
  },
  {
   "cell_type": "code",
   "execution_count": 71,
   "metadata": {},
   "outputs": [
    {
     "data": {
      "text/plain": [
       "Index(['Plant Id', 'Combined Heat And\\nPower Plant', 'Nuclear Unit Id',\n",
       "       'Plant Name', 'Operator Name', 'Operator Id', 'Plant State',\n",
       "       'Census Region', 'NERC Region', 'Reserved', 'NAICS Code',\n",
       "       'EIA Sector Number', 'Sector Name', 'Reported\\nPrime Mover',\n",
       "       'Reported\\nFuel Type Code', 'AER\\nFuel Type Code',\n",
       "       'Balancing\\nAuthority Code', 'Respondent\\nFrequency',\n",
       "       'Physical\\nUnit Label', 'Quantity\\nJanuary', 'Quantity\\nFebruary',\n",
       "       'Quantity\\nMarch', 'Quantity\\nApril', 'Quantity\\nMay', 'Quantity\\nJune',\n",
       "       'Quantity\\nJuly', 'Quantity\\nAugust', 'Quantity\\nSeptember',\n",
       "       'Quantity\\nOctober', 'Quantity\\nNovember', 'Quantity\\nDecember',\n",
       "       'Elec_Quantity\\nJanuary', 'Elec_Quantity\\nFebruary',\n",
       "       'Elec_Quantity\\nMarch', 'Elec_Quantity\\nApril', 'Elec_Quantity\\nMay',\n",
       "       'Elec_Quantity\\nJune', 'Elec_Quantity\\nJuly', 'Elec_Quantity\\nAugust',\n",
       "       'Elec_Quantity\\nSeptember', 'Elec_Quantity\\nOctober',\n",
       "       'Elec_Quantity\\nNovember', 'Elec_Quantity\\nDecember',\n",
       "       'MMBtuPer_Unit\\nJanuary', 'MMBtuPer_Unit\\nFebruary',\n",
       "       'MMBtuPer_Unit\\nMarch', 'MMBtuPer_Unit\\nApril', 'MMBtuPer_Unit\\nMay',\n",
       "       'MMBtuPer_Unit\\nJune', 'MMBtuPer_Unit\\nJuly', 'MMBtuPer_Unit\\nAugust',\n",
       "       'MMBtuPer_Unit\\nSeptember', 'MMBtuPer_Unit\\nOctober',\n",
       "       'MMBtuPer_Unit\\nNovember', 'MMBtuPer_Unit\\nDecember',\n",
       "       'Tot_MMBtu\\nJanuary', 'Tot_MMBtu\\nFebruary', 'Tot_MMBtu\\nMarch',\n",
       "       'Tot_MMBtu\\nApril', 'Tot_MMBtu\\nMay', 'Tot_MMBtu\\nJune',\n",
       "       'Tot_MMBtu\\nJuly', 'Tot_MMBtu\\nAugust', 'Tot_MMBtu\\nSeptember',\n",
       "       'Tot_MMBtu\\nOctober', 'Tot_MMBtu\\nNovember', 'Tot_MMBtu\\nDecember',\n",
       "       'Elec_MMBtu\\nJanuary', 'Elec_MMBtu\\nFebruary', 'Elec_MMBtu\\nMarch',\n",
       "       'Elec_MMBtu\\nApril', 'Elec_MMBtu\\nMay', 'Elec_MMBtu\\nJune',\n",
       "       'Elec_MMBtu\\nJuly', 'Elec_MMBtu\\nAugust', 'Elec_MMBtu\\nSeptember',\n",
       "       'Elec_MMBtu\\nOctober', 'Elec_MMBtu\\nNovember', 'Elec_MMBtu\\nDecember',\n",
       "       'Netgen\\nJanuary', 'Netgen\\nFebruary', 'Netgen\\nMarch', 'Netgen\\nApril',\n",
       "       'Netgen\\nMay', 'Netgen\\nJune', 'Netgen\\nJuly', 'Netgen\\nAugust',\n",
       "       'Netgen\\nSeptember', 'Netgen\\nOctober', 'Netgen\\nNovember',\n",
       "       'Netgen\\nDecember', 'Total Fuel Consumption\\nQuantity',\n",
       "       'Electric Fuel Consumption\\nQuantity', 'Total Fuel Consumption\\nMMBtu',\n",
       "       'Elec Fuel Consumption\\nMMBtu', 'Net Generation\\n(Megawatthours)',\n",
       "       'YEAR'],\n",
       "      dtype='object')"
      ]
     },
     "execution_count": 71,
     "metadata": {},
     "output_type": "execute_result"
    }
   ],
   "source": [
    "# read 2023 Dataset\\EIA923_Schedules_2_3_4_5_M_12_2021_Final_Revision.xlsx\n",
    "eia2021_schedule = pd.read_excel(r'2023 Dataset\\EIA923_Schedules_2_3_4_5_M_12_2021_Final_Revision.xlsx', sheet_name='Page 1 Generation and Fuel Data', header=5)\n",
    "\n",
    "# print eia2021_schedule columns\n",
    "eia2021_schedule.columns"
   ]
  },
  {
   "cell_type": "code",
   "execution_count": 74,
   "metadata": {},
   "outputs": [
    {
     "data": {
      "text/plain": [
       "array(['IC', 'WT', 'HY', 'CA', 'CT', 'ST', 'GT', 'PS', 'CS', 'BA', 'PV',\n",
       "       'CE', 'BT', 'OT', 'FC', 'CP', 'FW', 'WS'], dtype=object)"
      ]
     },
     "execution_count": 74,
     "metadata": {},
     "output_type": "execute_result"
    }
   ],
   "source": [
    "# unique values for Reported\\nPrime Mover\n",
    "eia2021_schedule['Reported\\nPrime Mover'].unique()"
   ]
  },
  {
   "cell_type": "code",
   "execution_count": 75,
   "metadata": {},
   "outputs": [
    {
     "data": {
      "text/plain": [
       "(1280, 97)"
      ]
     },
     "execution_count": 75,
     "metadata": {},
     "output_type": "execute_result"
    }
   ],
   "source": [
    "# filter eia2021_schedule for Reported\\nPrime Mover == 'WT' and 'WS'\n",
    "eia2021_schedule = eia2021_schedule[eia2021_schedule['Reported\\nPrime Mover'].isin(['WT', 'WS'])]\n",
    "\n",
    "# print eia2021_schedule shape\n",
    "eia2021_schedule.shape"
   ]
  },
  {
   "cell_type": "code",
   "execution_count": 76,
   "metadata": {},
   "outputs": [
    {
     "data": {
      "text/plain": [
       "0"
      ]
     },
     "execution_count": 76,
     "metadata": {},
     "output_type": "execute_result"
    }
   ],
   "source": [
    "# check for duplicate rows\n",
    "eia2021_schedule.duplicated().sum()"
   ]
  },
  {
   "cell_type": "code",
   "execution_count": 77,
   "metadata": {},
   "outputs": [
    {
     "data": {
      "text/plain": [
       "Index(['case_id', 'faa_digital_obstacle_id', 'faa_obstruction_evaluation_id',\n",
       "       'usgs_id', 'eia_id', 'state', 'county', 'state_county_id',\n",
       "       'project_name', 'operational_year', 'project_turbine_num',\n",
       "       'cumulative_capacity (MW)', 'manufacturer', 'model_name',\n",
       "       'turbine_capacity (KW)', 'hub_height (m)', 'rotor_diameter (m)',\n",
       "       'rotor_swept area (m2)', 'max_height (m)', 'retrofit (y/n)',\n",
       "       'retrofit_year', 'attribute_confidence_level (1/2/3)',\n",
       "       'location_confidence_level (1/2/3)', 'location_verification_date',\n",
       "       'image_source', 'xlong', 'ylat'],\n",
       "      dtype='object')"
      ]
     },
     "execution_count": 77,
     "metadata": {},
     "output_type": "execute_result"
    }
   ],
   "source": [
    "# print wind_turbine_df_rename columns\n",
    "wind_turbine_df_rename.columns"
   ]
  },
  {
   "cell_type": "code",
   "execution_count": 78,
   "metadata": {},
   "outputs": [
    {
     "data": {
      "text/plain": [
       "(71787, 124)"
      ]
     },
     "execution_count": 78,
     "metadata": {},
     "output_type": "execute_result"
    }
   ],
   "source": [
    "# left join on eia2021_schedule and wind_turbine_df_rename\n",
    "wind_turbine_df_merge = pd.merge(eia2021_schedule, wind_turbine_df_rename, how='outer', left_on='Plant Id', right_on='eia_id')\n",
    "\n",
    "# check merged table size\n",
    "wind_turbine_df_merge.shape"
   ]
  },
  {
   "attachments": {},
   "cell_type": "markdown",
   "metadata": {},
   "source": [
    "# Check for merged tables"
   ]
  },
  {
   "cell_type": "code",
   "execution_count": 80,
   "metadata": {},
   "outputs": [
    {
     "data": {
      "text/plain": [
       "0"
      ]
     },
     "execution_count": 80,
     "metadata": {},
     "output_type": "execute_result"
    }
   ],
   "source": [
    "# show all wind_turbine_df_merge columns without truncated view\n",
    "pd.set_option('display.max_columns', None)\n",
    "\n",
    "# check for duplicate rows\n",
    "wind_turbine_df_merge.duplicated().sum()"
   ]
  },
  {
   "cell_type": "code",
   "execution_count": 81,
   "metadata": {},
   "outputs": [
    {
     "data": {
      "text/plain": [
       "eia_id   xlong        ylat     \n",
       "90.0     -165.434866  64.563367    1\n",
       "59200.0  -99.538193   48.997280    1\n",
       "59083.0  -103.394882  39.309433    1\n",
       "         -103.394417  39.286003    1\n",
       "         -103.393051  39.392204    1\n",
       "                                  ..\n",
       "56984.0  -100.637993  32.525696    1\n",
       "         -100.637291  32.537292    1\n",
       "         -100.634895  32.515694    1\n",
       "         -100.634491  32.535793    1\n",
       "65270.0  -73.292801   42.543793    1\n",
       "Length: 65577, dtype: int64"
      ]
     },
     "execution_count": 81,
     "metadata": {},
     "output_type": "execute_result"
    }
   ],
   "source": [
    "# show count highest eia_id,eia_id, xlong and ylat duplicates\n",
    "wind_turbine_df_merge.groupby(['eia_id', 'xlong', 'ylat']).size().sort_values(ascending=False)"
   ]
  },
  {
   "attachments": {},
   "cell_type": "markdown",
   "metadata": {},
   "source": [
    "# Check for missing data"
   ]
  },
  {
   "cell_type": "code",
   "execution_count": 83,
   "metadata": {},
   "outputs": [
    {
     "data": {
      "text/plain": [
       "Reserved                      71787\n",
       "Physical\\nUnit Label          71787\n",
       "retrofit_year                 65801\n",
       "usgs_id                       33558\n",
       "location_verification_date     8415\n",
       "                              ...  \n",
       "retrofit (y/n)                  121\n",
       "state_county_id                 121\n",
       "state                           121\n",
       "project_turbine_num             121\n",
       "ylat                            121\n",
       "Length: 124, dtype: int64"
      ]
     },
     "execution_count": 83,
     "metadata": {},
     "output_type": "execute_result"
    }
   ],
   "source": [
    "wind_turbine_df_merge.isnull().sum().sort_values(ascending=False)"
   ]
  },
  {
   "attachments": {},
   "cell_type": "markdown",
   "metadata": {},
   "source": [
    "## Save to csv file"
   ]
  },
  {
   "cell_type": "code",
   "execution_count": 84,
   "metadata": {},
   "outputs": [],
   "source": [
    "# save the renamed wind turbine dataset to a new csv file\n",
    "wind_turbine_df_merge.to_csv(wind_turbine_filename.split('.')[0] + '_rename.csv', index=False)"
   ]
  }
 ],
 "metadata": {
  "kernelspec": {
   "display_name": "Python 3",
   "language": "python",
   "name": "python3"
  },
  "language_info": {
   "codemirror_mode": {
    "name": "ipython",
    "version": 3
   },
   "file_extension": ".py",
   "mimetype": "text/x-python",
   "name": "python",
   "nbconvert_exporter": "python",
   "pygments_lexer": "ipython3",
   "version": "3.10.1"
  },
  "orig_nbformat": 4
 },
 "nbformat": 4,
 "nbformat_minor": 2
}
