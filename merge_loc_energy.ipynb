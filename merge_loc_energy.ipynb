{
 "cells": [
  {
   "cell_type": "code",
   "execution_count": 2,
   "metadata": {},
   "outputs": [],
   "source": [
    "import pandas as pd\n",
    "import numpy as np\n",
    "import matplotlib.pyplot as plt\n",
    "import seaborn as sns"
   ]
  },
  {
   "cell_type": "code",
   "execution_count": 44,
   "metadata": {},
   "outputs": [],
   "source": [
    "# read csv files for wind turbine locations 2022\n",
    "#df_loc_2022 = pd.read_csv('wind_turbine_20220114.csv')\n",
    "\n",
    "# read csv files for wind turbine locations 2023\n",
    "df_loc_2023 = pd.read_csv('2023 Dataset/US Wind Turbine Data 2023.csv')\n",
    "\n",
    "# read excel file for energy production 2020\n",
    "#df_energy_2020 = pd.read_excel(r\"C:\\Users\\danie\\Downloads\\EIA923_Schedules_2_3_4_5_M_12_2020_Final_Revision.xlsx\", \n",
    "                          #sheet_name='Page 1 Generation and Fuel Data')\n",
    "\n",
    "# read excel file for energy production 2023\n",
    "df_energy_2021 = pd.read_excel('2023 Dataset/EIA923_Schedules_2_3_4_5_M_12_2021_Final_Revision.xlsx',\n",
    "                            sheet_name='Page 1 Generation and Fuel Data', header=5)"
   ]
  },
  {
   "cell_type": "code",
   "execution_count": 55,
   "metadata": {},
   "outputs": [
    {
     "name": "stdout",
     "output_type": "stream",
     "text": [
      "70808\n",
      "72669\n",
      "15115\n",
      "15796\n"
     ]
    }
   ],
   "source": [
    "print(len(df_loc_2022))\n",
    "print(len(df_loc_2023))\n",
    "print(len(df_energy_2020))\n",
    "print(len(df_energy_2021))"
   ]
  },
  {
   "cell_type": "code",
   "execution_count": 21,
   "metadata": {},
   "outputs": [
    {
     "data": {
      "text/plain": [
       "Index(['case_id', 'faa_ors', 'faa_asn', 'usgs_pr_id', 'eia_id', 't_state',\n",
       "       't_county', 't_fips', 'p_name', 'p_year', 'p_tnum', 'p_cap', 't_manu',\n",
       "       't_model', 't_cap', 't_hh', 't_rd', 't_rsa', 't_ttlh', 'retrofit',\n",
       "       'retrofit_year', 't_conf_atr', 't_conf_loc', 't_img_date', 't_img_srce',\n",
       "       'xlong', 'ylat'],\n",
       "      dtype='object')"
      ]
     },
     "execution_count": 21,
     "metadata": {},
     "output_type": "execute_result"
    }
   ],
   "source": [
    "df_loc_2023.columns"
   ]
  },
  {
   "cell_type": "code",
   "execution_count": 29,
   "metadata": {},
   "outputs": [
    {
     "data": {
      "text/plain": [
       "Index(['Plant Id', 'Combined Heat And\\nPower Plant', 'Nuclear Unit Id',\n",
       "       'Plant Name', 'Operator Name', 'Operator Id', 'Plant State',\n",
       "       'Census Region', 'NERC Region', 'Reserved', 'NAICS Code',\n",
       "       'EIA Sector Number', 'Sector Name', 'Reported\\nPrime Mover',\n",
       "       'Reported\\nFuel Type Code', 'AER\\nFuel Type Code',\n",
       "       'Balancing\\nAuthority Code', 'Reserved.1', 'Physical\\nUnit Label',\n",
       "       'Quantity\\nJanuary', 'Quantity\\nFebruary', 'Quantity\\nMarch',\n",
       "       'Quantity\\nApril', 'Quantity\\nMay', 'Quantity\\nJune', 'Quantity\\nJuly',\n",
       "       'Quantity\\nAugust', 'Quantity\\nSeptember', 'Quantity\\nOctober',\n",
       "       'Quantity\\nNovember', 'Quantity\\nDecember', 'Elec_Quantity\\nJanuary',\n",
       "       'Elec_Quantity\\nFebruary', 'Elec_Quantity\\nMarch',\n",
       "       'Elec_Quantity\\nApril', 'Elec_Quantity\\nMay', 'Elec_Quantity\\nJune',\n",
       "       'Elec_Quantity\\nJuly', 'Elec_Quantity\\nAugust',\n",
       "       'Elec_Quantity\\nSeptember', 'Elec_Quantity\\nOctober',\n",
       "       'Elec_Quantity\\nNovember', 'Elec_Quantity\\nDecember',\n",
       "       'MMBtuPer_Unit\\nJanuary', 'MMBtuPer_Unit\\nFebruary',\n",
       "       'MMBtuPer_Unit\\nMarch', 'MMBtuPer_Unit\\nApril', 'MMBtuPer_Unit\\nMay',\n",
       "       'MMBtuPer_Unit\\nJune', 'MMBtuPer_Unit\\nJuly', 'MMBtuPer_Unit\\nAugust',\n",
       "       'MMBtuPer_Unit\\nSeptember', 'MMBtuPer_Unit\\nOctober',\n",
       "       'MMBtuPer_Unit\\nNovember', 'MMBtuPer_Unit\\nDecember',\n",
       "       'Tot_MMBtu\\nJanuary', 'Tot_MMBtu\\nFebruary', 'Tot_MMBtu\\nMarch',\n",
       "       'Tot_MMBtu\\nApril', 'Tot_MMBtu\\nMay', 'Tot_MMBtu\\nJune',\n",
       "       'Tot_MMBtu\\nJuly', 'Tot_MMBtu\\nAugust', 'Tot_MMBtu\\nSeptember',\n",
       "       'Tot_MMBtu\\nOctober', 'Tot_MMBtu\\nNovember', 'Tot_MMBtu\\nDecember',\n",
       "       'Elec_MMBtu\\nJanuary', 'Elec_MMBtu\\nFebruary', 'Elec_MMBtu\\nMarch',\n",
       "       'Elec_MMBtu\\nApril', 'Elec_MMBtu\\nMay', 'Elec_MMBtu\\nJune',\n",
       "       'Elec_MMBtu\\nJuly', 'Elec_MMBtu\\nAugust', 'Elec_MMBtu\\nSeptember',\n",
       "       'Elec_MMBtu\\nOctober', 'Elec_MMBtu\\nNovember', 'Elec_MMBtu\\nDecember',\n",
       "       'Netgen\\nJanuary', 'Netgen\\nFebruary', 'Netgen\\nMarch', 'Netgen\\nApril',\n",
       "       'Netgen\\nMay', 'Netgen\\nJune', 'Netgen\\nJuly', 'Netgen\\nAugust',\n",
       "       'Netgen\\nSeptember', 'Netgen\\nOctober', 'Netgen\\nNovember',\n",
       "       'Netgen\\nDecember', 'Total Fuel Consumption\\nQuantity',\n",
       "       'Electric Fuel Consumption\\nQuantity', 'Total Fuel Consumption\\nMMBtu',\n",
       "       'Elec Fuel Consumption\\nMMBtu', 'Net Generation\\n(Megawatthours)',\n",
       "       'YEAR'],\n",
       "      dtype='object')"
      ]
     },
     "execution_count": 29,
     "metadata": {},
     "output_type": "execute_result"
    }
   ],
   "source": [
    "df_energy_2021.columns"
   ]
  },
  {
   "cell_type": "code",
   "execution_count": 92,
   "metadata": {},
   "outputs": [],
   "source": [
    "# merge dataframes df_loc_2023 and df_energy_2022\n",
    "df_merge_2023 = pd.merge(df_loc_2023, df_energy_2021[(df_energy_2021['Reported\\nPrime Mover']=='WT') | (df_energy_2021['Reported\\nPrime Mover']=='WS')], left_on='eia_id', right_on='Plant Id', how='left')"
   ]
  },
  {
   "cell_type": "code",
   "execution_count": 90,
   "metadata": {},
   "outputs": [],
   "source": [
    "df_merge_2023 = pd.merge(df_loc_2023, df_energy_2021, left_on='eia_id', right_on='Plant Id', how='left')"
   ]
  },
  {
   "cell_type": "code",
   "execution_count": 94,
   "metadata": {},
   "outputs": [
    {
     "data": {
      "text/plain": [
       "case_id                                    0\n",
       "faa_ors                                 5359\n",
       "faa_asn                                 5132\n",
       "usgs_pr_id                             34765\n",
       "eia_id                                  4322\n",
       "                                       ...  \n",
       "Electric Fuel Consumption\\nQuantity     6598\n",
       "Total Fuel Consumption\\nMMBtu           6598\n",
       "Elec Fuel Consumption\\nMMBtu            6598\n",
       "Net Generation\\n(Megawatthours)         6598\n",
       "YEAR                                    6598\n",
       "Length: 124, dtype: int64"
      ]
     },
     "execution_count": 94,
     "metadata": {},
     "output_type": "execute_result"
    }
   ],
   "source": [
    "df_merge_2023.isna().sum()"
   ]
  },
  {
   "cell_type": "code",
   "execution_count": 95,
   "metadata": {},
   "outputs": [],
   "source": [
    "# export merged dataframe to csv\n",
    "df_merge_2023.to_csv(r\"C:\\Users\\danie\\Downloads\\sprint\\merged.csv\", index=False)"
   ]
  },
  {
   "cell_type": "code",
   "execution_count": 98,
   "metadata": {},
   "outputs": [
    {
     "data": {
      "text/plain": [
       "4322"
      ]
     },
     "execution_count": 98,
     "metadata": {},
     "output_type": "execute_result"
    }
   ],
   "source": [
    "# number of null values contributed by null eia_id values\n",
    "# reason for null eia_id values: retired wind turbines\n",
    "len(df_loc_2023[df_loc_2023['eia_id'].isna()])"
   ]
  },
  {
   "cell_type": "code",
   "execution_count": 99,
   "metadata": {},
   "outputs": [
    {
     "data": {
      "text/plain": [
       "2276"
      ]
     },
     "execution_count": 99,
     "metadata": {},
     "output_type": "execute_result"
    }
   ],
   "source": [
    "# number of null values contributed by value not found in dataset energy_2021\n",
    "# reason for null values: engergy_2021 does not contain data for 2022 and 2023\n",
    "len(df_merge_2023[(df_merge_2023['eia_id'].notna()) & (df_merge_2023['YEAR'].isna())])"
   ]
  },
  {
   "cell_type": "code",
   "execution_count": 100,
   "metadata": {},
   "outputs": [
    {
     "data": {
      "text/plain": [
       "2395"
      ]
     },
     "execution_count": 100,
     "metadata": {},
     "output_type": "execute_result"
    }
   ],
   "source": [
    "# number of turbines online after 2021\n",
    "len(df_loc_2023[df_loc_2023['p_year']>2021])"
   ]
  },
  {
   "cell_type": "code",
   "execution_count": 105,
   "metadata": {},
   "outputs": [
    {
     "data": {
      "text/plain": [
       "1279"
      ]
     },
     "execution_count": 105,
     "metadata": {},
     "output_type": "execute_result"
    }
   ],
   "source": [
    "# get unique id from energy_2021\n",
    "id_energy = df_energy_2021['Plant Id'][(df_energy_2021['Reported\\nPrime Mover']=='WT') | (df_energy_2021['Reported\\nPrime Mover']=='WS')].unique()\n",
    "len(id_energy)"
   ]
  },
  {
   "cell_type": "code",
   "execution_count": 166,
   "metadata": {},
   "outputs": [
    {
     "data": {
      "text/plain": [
       "True"
      ]
     },
     "execution_count": 166,
     "metadata": {},
     "output_type": "execute_result"
    }
   ],
   "source": [
    "# find if 65059 in id_energy\n",
    "65059 in id_loc\n",
    "\n"
   ]
  },
  {
   "cell_type": "code",
   "execution_count": 106,
   "metadata": {},
   "outputs": [
    {
     "data": {
      "text/plain": [
       "1256"
      ]
     },
     "execution_count": 106,
     "metadata": {},
     "output_type": "execute_result"
    }
   ],
   "source": [
    "# get unique id form loc_2023\n",
    "id_loc = df_loc_2023['eia_id'].unique()\n",
    "len(id_loc)"
   ]
  },
  {
   "cell_type": "code",
   "execution_count": 107,
   "metadata": {},
   "outputs": [
    {
     "data": {
      "text/plain": [
       "88"
      ]
     },
     "execution_count": 107,
     "metadata": {},
     "output_type": "execute_result"
    }
   ],
   "source": [
    "# find the list of plant_id that are present in id_energy but not in loc_2023\n",
    "id_missing = np.setdiff1d(id_energy, id_loc)\n",
    "\n",
    "# 88 plant id in energy_2021 are not present in loc_2023\n",
    "len(id_missing)"
   ]
  },
  {
   "cell_type": "code",
   "execution_count": 108,
   "metadata": {},
   "outputs": [],
   "source": [
    "# filter the dataframe from energy_2021 to get the missing id\n",
    "df_missing = df_energy_2021[df_energy_2021['Plant Id'].isin(id_missing) & (df_energy_2021['Reported\\nPrime Mover']=='WT') | (df_energy_2021['Reported\\nPrime Mover']=='WS')]"
   ]
  },
  {
   "cell_type": "code",
   "execution_count": 110,
   "metadata": {},
   "outputs": [],
   "source": [
    "# export missing dataframe to csv\n",
    "df_missing.to_csv(r\"C:\\Users\\danie\\Downloads\\sprint\\missing.csv\", index=False)"
   ]
  },
  {
   "cell_type": "code",
   "execution_count": 116,
   "metadata": {},
   "outputs": [],
   "source": [
    "import difflib"
   ]
  },
  {
   "cell_type": "code",
   "execution_count": 205,
   "metadata": {},
   "outputs": [
    {
     "data": {
      "text/plain": [
       "4311"
      ]
     },
     "execution_count": 205,
     "metadata": {},
     "output_type": "execute_result"
    }
   ],
   "source": [
    "# filter out the null values in eia_id\n",
    "df_loc_2023_null = df_loc_2023[df_loc_2023['eia_id'].isna()]\n",
    "len(df_loc_2023_null)"
   ]
  },
  {
   "cell_type": "code",
   "execution_count": 216,
   "metadata": {},
   "outputs": [
    {
     "name": "stderr",
     "output_type": "stream",
     "text": [
      "c:\\Users\\danie\\AppData\\Local\\Programs\\Python\\Python39\\lib\\site-packages\\pandas\\core\\frame.py:3607: SettingWithCopyWarning: \n",
      "A value is trying to be set on a copy of a slice from a DataFrame.\n",
      "Try using .loc[row_indexer,col_indexer] = value instead\n",
      "\n",
      "See the caveats in the documentation: https://pandas.pydata.org/pandas-docs/stable/user_guide/indexing.html#returning-a-view-versus-a-copy\n",
      "  self._set_item(key, value)\n"
     ]
    }
   ],
   "source": [
    "#create duplicate column to retain team name from df2\n",
    "df_loc_2023_null['Plant Name missing'] = df_loc_2023_null['p_name']\n",
    "df_loc_2023_null['Plant Name all'] = df_loc_2023_null['p_name']"
   ]
  },
  {
   "cell_type": "code",
   "execution_count": 217,
   "metadata": {},
   "outputs": [],
   "source": [
    "# match df_loc_2023 null in eia_id with df_missing(in energy_2021 but not in loc_2023)\n",
    "df_loc_2023_null['Plant Name missing'] = df_loc_2023_null['Plant Name missing'].apply(lambda x: (difflib.get_close_matches(x, df_missing['Plant Name'])[:1] or [None])[0])\n",
    "len(df_loc_2023_null)"
   ]
  },
  {
   "cell_type": "code",
   "execution_count": 224,
   "metadata": {},
   "outputs": [
    {
     "name": "stderr",
     "output_type": "stream",
     "text": [
      "c:\\Users\\danie\\AppData\\Local\\Programs\\Python\\Python39\\lib\\site-packages\\pandas\\core\\frame.py:3607: SettingWithCopyWarning: \n",
      "A value is trying to be set on a copy of a slice from a DataFrame.\n",
      "Try using .loc[row_indexer,col_indexer] = value instead\n",
      "\n",
      "See the caveats in the documentation: https://pandas.pydata.org/pandas-docs/stable/user_guide/indexing.html#returning-a-view-versus-a-copy\n",
      "  self._set_item(key, value)\n"
     ]
    },
    {
     "data": {
      "text/plain": [
       "4311"
      ]
     },
     "execution_count": 224,
     "metadata": {},
     "output_type": "execute_result"
    }
   ],
   "source": [
    "df_860_2021 = pd.read_excel(r\"C:\\Users\\danie\\Downloads\\sprint\\eia8602021\\3_2_Wind_Y2021.xlsx\", \n",
    "                          sheet_name='Operable', header=1)\n",
    "# match df_loc_2023 null in eia_id with df_missing(in energy_2021 but not in loc_2023)\n",
    "df_loc_2023_null['Plant Name all'] = df_loc_2023_null['Plant Name all'].apply(lambda x: (difflib.get_close_matches(x, df_860_2021['Plant Name'])[:1] or [None])[0])\n",
    "len(df_loc_2023_null)"
   ]
  },
  {
   "cell_type": "code",
   "execution_count": 225,
   "metadata": {},
   "outputs": [],
   "source": [
    "# export df_loc_2023_null to investigate\n",
    "df_loc_2023_null.to_csv(r\"C:\\Users\\danie\\Downloads\\sprint\\difflib2.csv\", index=False)"
   ]
  },
  {
   "cell_type": "code",
   "execution_count": 189,
   "metadata": {},
   "outputs": [
    {
     "data": {
      "text/plain": [
       "4321"
      ]
     },
     "execution_count": 189,
     "metadata": {},
     "output_type": "execute_result"
    }
   ],
   "source": [
    "df_loc_2023['eia_id'].isna().sum()"
   ]
  },
  {
   "cell_type": "code",
   "execution_count": 285,
   "metadata": {},
   "outputs": [
    {
     "name": "stdout",
     "output_type": "stream",
     "text": [
      "Int64Index([61933], dtype='int64')\n"
     ]
    },
    {
     "data": {
      "text/html": [
       "<div>\n",
       "<style scoped>\n",
       "    .dataframe tbody tr th:only-of-type {\n",
       "        vertical-align: middle;\n",
       "    }\n",
       "\n",
       "    .dataframe tbody tr th {\n",
       "        vertical-align: top;\n",
       "    }\n",
       "\n",
       "    .dataframe thead th {\n",
       "        text-align: right;\n",
       "    }\n",
       "</style>\n",
       "<table border=\"1\" class=\"dataframe\">\n",
       "  <thead>\n",
       "    <tr style=\"text-align: right;\">\n",
       "      <th></th>\n",
       "      <th>case_id</th>\n",
       "      <th>faa_ors</th>\n",
       "      <th>faa_asn</th>\n",
       "      <th>usgs_pr_id</th>\n",
       "      <th>eia_id</th>\n",
       "      <th>t_state</th>\n",
       "      <th>t_county</th>\n",
       "      <th>t_fips</th>\n",
       "      <th>p_name</th>\n",
       "      <th>p_year</th>\n",
       "      <th>...</th>\n",
       "      <th>t_ttlh</th>\n",
       "      <th>retrofit</th>\n",
       "      <th>retrofit_year</th>\n",
       "      <th>t_conf_atr</th>\n",
       "      <th>t_conf_loc</th>\n",
       "      <th>t_img_date</th>\n",
       "      <th>t_img_srce</th>\n",
       "      <th>xlong</th>\n",
       "      <th>ylat</th>\n",
       "      <th>Plant Name</th>\n",
       "    </tr>\n",
       "  </thead>\n",
       "  <tbody>\n",
       "    <tr>\n",
       "      <th>61933</th>\n",
       "      <td>3056656</td>\n",
       "      <td>17-062248</td>\n",
       "      <td>2016-WTE-7778-OE</td>\n",
       "      <td>NaN</td>\n",
       "      <td>NaN</td>\n",
       "      <td>IL</td>\n",
       "      <td>Champaign County</td>\n",
       "      <td>17019</td>\n",
       "      <td>TAC-Distributed Wind</td>\n",
       "      <td>2017.0</td>\n",
       "      <td>...</td>\n",
       "      <td>NaN</td>\n",
       "      <td>0</td>\n",
       "      <td>NaN</td>\n",
       "      <td>2</td>\n",
       "      <td>3</td>\n",
       "      <td>7/8/2016</td>\n",
       "      <td>Digital Globe</td>\n",
       "      <td>-88.244324</td>\n",
       "      <td>40.088814</td>\n",
       "      <td>TAC-Distributed Wind</td>\n",
       "    </tr>\n",
       "  </tbody>\n",
       "</table>\n",
       "<p>1 rows × 28 columns</p>\n",
       "</div>"
      ],
      "text/plain": [
       "       case_id    faa_ors           faa_asn  usgs_pr_id  eia_id t_state  \\\n",
       "61933  3056656  17-062248  2016-WTE-7778-OE         NaN     NaN      IL   \n",
       "\n",
       "               t_county  t_fips                p_name  p_year  ...  t_ttlh  \\\n",
       "61933  Champaign County   17019  TAC-Distributed Wind  2017.0  ...     NaN   \n",
       "\n",
       "       retrofit retrofit_year t_conf_atr  t_conf_loc  t_img_date  \\\n",
       "61933         0           NaN          2           3    7/8/2016   \n",
       "\n",
       "          t_img_srce      xlong       ylat            Plant Name  \n",
       "61933  Digital Globe -88.244324  40.088814  TAC-Distributed Wind  \n",
       "\n",
       "[1 rows x 28 columns]"
      ]
     },
     "execution_count": 285,
     "metadata": {},
     "output_type": "execute_result"
    }
   ],
   "source": [
    "index = df_loc_2023[(df_loc_2023['p_name']=='TAC-Distributed Wind') & (df_loc_2023['eia_id'].isna())].index\n",
    "print(index)\n",
    "df_loc_2023[(df_loc_2023['p_name']=='TAC-Distributed Wind') & (df_loc_2023['eia_id'].isna())]"
   ]
  },
  {
   "cell_type": "code",
   "execution_count": 287,
   "metadata": {},
   "outputs": [
    {
     "data": {
      "text/html": [
       "<div>\n",
       "<style scoped>\n",
       "    .dataframe tbody tr th:only-of-type {\n",
       "        vertical-align: middle;\n",
       "    }\n",
       "\n",
       "    .dataframe tbody tr th {\n",
       "        vertical-align: top;\n",
       "    }\n",
       "\n",
       "    .dataframe thead th {\n",
       "        text-align: right;\n",
       "    }\n",
       "</style>\n",
       "<table border=\"1\" class=\"dataframe\">\n",
       "  <thead>\n",
       "    <tr style=\"text-align: right;\">\n",
       "      <th></th>\n",
       "      <th>case_id</th>\n",
       "      <th>faa_ors</th>\n",
       "      <th>faa_asn</th>\n",
       "      <th>usgs_pr_id</th>\n",
       "      <th>eia_id</th>\n",
       "      <th>t_state</th>\n",
       "      <th>t_county</th>\n",
       "      <th>t_fips</th>\n",
       "      <th>p_name</th>\n",
       "      <th>p_year</th>\n",
       "      <th>...</th>\n",
       "      <th>t_ttlh</th>\n",
       "      <th>retrofit</th>\n",
       "      <th>retrofit_year</th>\n",
       "      <th>t_conf_atr</th>\n",
       "      <th>t_conf_loc</th>\n",
       "      <th>t_img_date</th>\n",
       "      <th>t_img_srce</th>\n",
       "      <th>xlong</th>\n",
       "      <th>ylat</th>\n",
       "      <th>Plant Name</th>\n",
       "    </tr>\n",
       "  </thead>\n",
       "  <tbody>\n",
       "    <tr>\n",
       "      <th>65325</th>\n",
       "      <td>3083551</td>\n",
       "      <td>48-136706</td>\n",
       "      <td>2017-WTW-5295-OE</td>\n",
       "      <td>NaN</td>\n",
       "      <td>61589.0</td>\n",
       "      <td>TX</td>\n",
       "      <td>Randall County</td>\n",
       "      <td>48381</td>\n",
       "      <td>UL Advanced Wind Turbine Test Facility</td>\n",
       "      <td>2018.0</td>\n",
       "      <td>...</td>\n",
       "      <td>198.1</td>\n",
       "      <td>0</td>\n",
       "      <td>NaN</td>\n",
       "      <td>3</td>\n",
       "      <td>3</td>\n",
       "      <td>8/17/2019</td>\n",
       "      <td>Digital Globe</td>\n",
       "      <td>-101.790001</td>\n",
       "      <td>34.967331</td>\n",
       "      <td>UL Advanced Wind Turbine Test Facility</td>\n",
       "    </tr>\n",
       "    <tr>\n",
       "      <th>65326</th>\n",
       "      <td>3085848</td>\n",
       "      <td>NaN</td>\n",
       "      <td>NaN</td>\n",
       "      <td>NaN</td>\n",
       "      <td>NaN</td>\n",
       "      <td>TX</td>\n",
       "      <td>Randall County</td>\n",
       "      <td>48381</td>\n",
       "      <td>UL Advanced Wind Turbine Test Facility</td>\n",
       "      <td>2015.0</td>\n",
       "      <td>...</td>\n",
       "      <td>46.9</td>\n",
       "      <td>0</td>\n",
       "      <td>NaN</td>\n",
       "      <td>1</td>\n",
       "      <td>3</td>\n",
       "      <td>5/2/2017</td>\n",
       "      <td>Digital Globe</td>\n",
       "      <td>-101.789894</td>\n",
       "      <td>34.969849</td>\n",
       "      <td>UL Advanced Wind Turbine Test Facility</td>\n",
       "    </tr>\n",
       "  </tbody>\n",
       "</table>\n",
       "<p>2 rows × 28 columns</p>\n",
       "</div>"
      ],
      "text/plain": [
       "       case_id    faa_ors           faa_asn  usgs_pr_id   eia_id t_state  \\\n",
       "65325  3083551  48-136706  2017-WTW-5295-OE         NaN  61589.0      TX   \n",
       "65326  3085848        NaN               NaN         NaN      NaN      TX   \n",
       "\n",
       "             t_county  t_fips                                  p_name  p_year  \\\n",
       "65325  Randall County   48381  UL Advanced Wind Turbine Test Facility  2018.0   \n",
       "65326  Randall County   48381  UL Advanced Wind Turbine Test Facility  2015.0   \n",
       "\n",
       "       ...  t_ttlh  retrofit retrofit_year t_conf_atr  t_conf_loc  t_img_date  \\\n",
       "65325  ...   198.1         0           NaN          3           3   8/17/2019   \n",
       "65326  ...    46.9         0           NaN          1           3    5/2/2017   \n",
       "\n",
       "          t_img_srce       xlong       ylat  \\\n",
       "65325  Digital Globe -101.790001  34.967331   \n",
       "65326  Digital Globe -101.789894  34.969849   \n",
       "\n",
       "                                   Plant Name  \n",
       "65325  UL Advanced Wind Turbine Test Facility  \n",
       "65326  UL Advanced Wind Turbine Test Facility  \n",
       "\n",
       "[2 rows x 28 columns]"
      ]
     },
     "execution_count": 287,
     "metadata": {},
     "output_type": "execute_result"
    }
   ],
   "source": [
    "# filter out row with p_name similar to Glenrock\n",
    "df_loc_2023[df_loc_2023['p_name'].str.contains('UL Advanced Wind Turbine Test Facility')]\n"
   ]
  },
  {
   "cell_type": "code",
   "execution_count": 286,
   "metadata": {},
   "outputs": [
    {
     "data": {
      "text/html": [
       "<div>\n",
       "<style scoped>\n",
       "    .dataframe tbody tr th:only-of-type {\n",
       "        vertical-align: middle;\n",
       "    }\n",
       "\n",
       "    .dataframe tbody tr th {\n",
       "        vertical-align: top;\n",
       "    }\n",
       "\n",
       "    .dataframe thead th {\n",
       "        text-align: right;\n",
       "    }\n",
       "</style>\n",
       "<table border=\"1\" class=\"dataframe\">\n",
       "  <thead>\n",
       "    <tr style=\"text-align: right;\">\n",
       "      <th></th>\n",
       "      <th>Plant Id</th>\n",
       "      <th>Combined Heat And\\nPower Plant</th>\n",
       "      <th>Nuclear Unit Id</th>\n",
       "      <th>Plant Name</th>\n",
       "      <th>Operator Name</th>\n",
       "      <th>Operator Id</th>\n",
       "      <th>Plant State</th>\n",
       "      <th>Census Region</th>\n",
       "      <th>NERC Region</th>\n",
       "      <th>Reserved</th>\n",
       "      <th>...</th>\n",
       "      <th>Netgen\\nSeptember</th>\n",
       "      <th>Netgen\\nOctober</th>\n",
       "      <th>Netgen\\nNovember</th>\n",
       "      <th>Netgen\\nDecember</th>\n",
       "      <th>Total Fuel Consumption\\nQuantity</th>\n",
       "      <th>Electric Fuel Consumption\\nQuantity</th>\n",
       "      <th>Total Fuel Consumption\\nMMBtu</th>\n",
       "      <th>Elec Fuel Consumption\\nMMBtu</th>\n",
       "      <th>Net Generation\\n(Megawatthours)</th>\n",
       "      <th>YEAR</th>\n",
       "    </tr>\n",
       "  </thead>\n",
       "  <tbody>\n",
       "    <tr>\n",
       "      <th>12778</th>\n",
       "      <td>61589</td>\n",
       "      <td>N</td>\n",
       "      <td>.</td>\n",
       "      <td>UL Advanced Wind Turbine Test Facility</td>\n",
       "      <td>West Texas A&amp;M University</td>\n",
       "      <td>61188</td>\n",
       "      <td>TX</td>\n",
       "      <td>WSC</td>\n",
       "      <td>MRO</td>\n",
       "      <td>NaN</td>\n",
       "      <td>...</td>\n",
       "      <td>494.28</td>\n",
       "      <td>615.588</td>\n",
       "      <td>600.871</td>\n",
       "      <td>682.444</td>\n",
       "      <td>0</td>\n",
       "      <td>0</td>\n",
       "      <td>62420</td>\n",
       "      <td>62420</td>\n",
       "      <td>7058.0</td>\n",
       "      <td>2021</td>\n",
       "    </tr>\n",
       "  </tbody>\n",
       "</table>\n",
       "<p>1 rows × 97 columns</p>\n",
       "</div>"
      ],
      "text/plain": [
       "       Plant Id Combined Heat And\\nPower Plant Nuclear Unit Id  \\\n",
       "12778     61589                              N               .   \n",
       "\n",
       "                                   Plant Name              Operator Name  \\\n",
       "12778  UL Advanced Wind Turbine Test Facility  West Texas A&M University   \n",
       "\n",
       "      Operator Id Plant State Census Region NERC Region  Reserved  ...  \\\n",
       "12778       61188          TX           WSC         MRO       NaN  ...   \n",
       "\n",
       "       Netgen\\nSeptember  Netgen\\nOctober Netgen\\nNovember Netgen\\nDecember  \\\n",
       "12778             494.28          615.588          600.871          682.444   \n",
       "\n",
       "      Total Fuel Consumption\\nQuantity Electric Fuel Consumption\\nQuantity  \\\n",
       "12778                                0                                   0   \n",
       "\n",
       "      Total Fuel Consumption\\nMMBtu Elec Fuel Consumption\\nMMBtu  \\\n",
       "12778                         62420                        62420   \n",
       "\n",
       "      Net Generation\\n(Megawatthours)  YEAR  \n",
       "12778                          7058.0  2021  \n",
       "\n",
       "[1 rows x 97 columns]"
      ]
     },
     "execution_count": 286,
     "metadata": {},
     "output_type": "execute_result"
    }
   ],
   "source": [
    "df_energy_2021[df_energy_2021['Plant Name']=='UL Advanced Wind Turbine Test Facility']"
   ]
  },
  {
   "cell_type": "code",
   "execution_count": 196,
   "metadata": {},
   "outputs": [],
   "source": [
    "# set cell value in df_loc_2023 with the value in df_energy_2021\n",
    "df_loc_2023.loc[13764,'eia_id'] =  \\\n",
    "df_energy_2021[df_energy_2021['Plant Name']=='Coastal Virginia Offshore Wind (CVOW) pilot project']['Plant Id'].values[0] \n",
    "\n",
    "df_loc_2023.loc[55987:55989,'eia_id'] =  \\\n",
    "df_energy_2021[df_energy_2021['Plant Name']=='Sand Point']['Plant Id'].values[0] \n",
    "\n",
    "df_loc_2023.loc[64373:64381,'eia_id'] =  \\\n",
    "df_energy_2021[df_energy_2021['Plant Name']=='Tuana Springs']['Plant Id'].values[0] "
   ]
  },
  {
   "cell_type": "code",
   "execution_count": 288,
   "metadata": {},
   "outputs": [],
   "source": [
    "df_loc_2023.loc[281,'eia_id'] =  \\\n",
    "df_energy_2021[df_energy_2021['Plant Name']=='Allegheny Ridge Wind Farm']['Plant Id'].values[0] \n",
    "\n",
    "df_loc_2023.loc[1173,'eia_id'] =  \\\n",
    "df_energy_2021[df_energy_2021['Plant Name']=='Armadillo Flats Wind Project, LLC']['Plant Id'].values[0] \n",
    "\n",
    "df_loc_2023.loc[[16240, 16246, 16260, 16284, 16290],'eia_id'] =  \\\n",
    "df_energy_2021[df_energy_2021['Plant Name']=='Diamond Spring, LLC']['Plant Id'].values[0] \n",
    "\n",
    "df_loc_2023.loc[[20426, 20459],'eia_id'] =  \\\n",
    "df_energy_2021[df_energy_2021['Plant Name']=='Foard City Wind']['Plant Id'].values[0] \n",
    "\n",
    "df_loc_2023.loc[22070,'eia_id'] =  \\\n",
    "df_energy_2021[df_energy_2021['Plant Name']=='Glenrock']['Plant Id'].values[0]\n",
    "\n",
    "df_loc_2023.loc[22070,'eia_id'] = 63710\n",
    "\n",
    "df_loc_2023.loc[[33652, 33656, 33670, 33678, 33698, 33714, 33723, 33739, 33745, 33763 ],'eia_id'] =  \\\n",
    "df_energy_2021[df_energy_2021['Plant Name']=='Las Majadas Wind Farm']['Plant Id'].values[0]\n",
    "\n",
    "df_loc_2023.loc[[42817, 42819, 42852],'eia_id'] =  \\\n",
    "df_energy_2021[df_energy_2021['Plant Name']=='Niyol Wind, LLC']['Plant Id'].values[0]\n",
    "\n",
    "df_loc_2023.loc[48795,'eia_id'] =  57291\n",
    "\n",
    "df_loc_2023.loc[[55654, 55670, 55692],'eia_id'] =  \\\n",
    "df_energy_2021[df_energy_2021['Plant Name']=='San Gorgonio Farms Wind Farm']['Plant Id'].values[0]\n",
    "\n",
    "df_loc_2023.loc[61933,'eia_id'] =  \\\n",
    "df_energy_2021[df_energy_2021['Plant Name']=='TAC-Distributed Energy Resource Hybrid']['Plant Id'].values[0]\n",
    "\n",
    "df_loc_2023.loc[65326,'eia_id'] =  \\\n",
    "df_energy_2021[df_energy_2021['Plant Name']=='UL Advanced Wind Turbine Test Facility']['Plant Id'].values[0]\n"
   ]
  },
  {
   "cell_type": "code",
   "execution_count": 187,
   "metadata": {},
   "outputs": [
    {
     "data": {
      "text/plain": [
       "59693"
      ]
     },
     "execution_count": 187,
     "metadata": {},
     "output_type": "execute_result"
    }
   ],
   "source": [
    "df_energy_2021[df_energy_2021['Plant Name']=='Coastal Virginia Offshore Wind (CVOW) pilot project']['Plant Id'].values[0] "
   ]
  },
  {
   "cell_type": "code",
   "execution_count": 289,
   "metadata": {},
   "outputs": [
    {
     "data": {
      "text/plain": [
       "4283"
      ]
     },
     "execution_count": 289,
     "metadata": {},
     "output_type": "execute_result"
    }
   ],
   "source": [
    "df_loc_2023['eia_id'].isna().sum()"
   ]
  },
  {
   "cell_type": "code",
   "execution_count": 221,
   "metadata": {},
   "outputs": [
    {
     "data": {
      "text/html": [
       "<div>\n",
       "<style scoped>\n",
       "    .dataframe tbody tr th:only-of-type {\n",
       "        vertical-align: middle;\n",
       "    }\n",
       "\n",
       "    .dataframe tbody tr th {\n",
       "        vertical-align: top;\n",
       "    }\n",
       "\n",
       "    .dataframe thead th {\n",
       "        text-align: right;\n",
       "    }\n",
       "</style>\n",
       "<table border=\"1\" class=\"dataframe\">\n",
       "  <thead>\n",
       "    <tr style=\"text-align: right;\">\n",
       "      <th></th>\n",
       "      <th>Plant Id</th>\n",
       "      <th>Combined Heat And\\nPower Plant</th>\n",
       "      <th>Nuclear Unit Id</th>\n",
       "      <th>Plant Name</th>\n",
       "      <th>Operator Name</th>\n",
       "      <th>Operator Id</th>\n",
       "      <th>Plant State</th>\n",
       "      <th>Census Region</th>\n",
       "      <th>NERC Region</th>\n",
       "      <th>Reserved</th>\n",
       "      <th>...</th>\n",
       "      <th>Netgen\\nSeptember</th>\n",
       "      <th>Netgen\\nOctober</th>\n",
       "      <th>Netgen\\nNovember</th>\n",
       "      <th>Netgen\\nDecember</th>\n",
       "      <th>Total Fuel Consumption\\nQuantity</th>\n",
       "      <th>Electric Fuel Consumption\\nQuantity</th>\n",
       "      <th>Total Fuel Consumption\\nMMBtu</th>\n",
       "      <th>Elec Fuel Consumption\\nMMBtu</th>\n",
       "      <th>Net Generation\\n(Megawatthours)</th>\n",
       "      <th>YEAR</th>\n",
       "    </tr>\n",
       "  </thead>\n",
       "  <tbody>\n",
       "    <tr>\n",
       "      <th>0</th>\n",
       "      <td>1</td>\n",
       "      <td>N</td>\n",
       "      <td>.</td>\n",
       "      <td>Sand Point</td>\n",
       "      <td>TDX Sand Point Generating, LLC</td>\n",
       "      <td>63560</td>\n",
       "      <td>AK</td>\n",
       "      <td>PACN</td>\n",
       "      <td>NaN</td>\n",
       "      <td>NaN</td>\n",
       "      <td>...</td>\n",
       "      <td>305.071</td>\n",
       "      <td>303.095</td>\n",
       "      <td>236.655</td>\n",
       "      <td>263.077</td>\n",
       "      <td>6071</td>\n",
       "      <td>6071</td>\n",
       "      <td>35490</td>\n",
       "      <td>35490</td>\n",
       "      <td>2729.0</td>\n",
       "      <td>2021</td>\n",
       "    </tr>\n",
       "    <tr>\n",
       "      <th>1</th>\n",
       "      <td>1</td>\n",
       "      <td>N</td>\n",
       "      <td>.</td>\n",
       "      <td>Sand Point</td>\n",
       "      <td>TDX Sand Point Generating, LLC</td>\n",
       "      <td>63560</td>\n",
       "      <td>AK</td>\n",
       "      <td>PACN</td>\n",
       "      <td>NaN</td>\n",
       "      <td>NaN</td>\n",
       "      <td>...</td>\n",
       "      <td>13.051</td>\n",
       "      <td>13.182</td>\n",
       "      <td>7.49</td>\n",
       "      <td>13.764</td>\n",
       "      <td>0</td>\n",
       "      <td>0</td>\n",
       "      <td>1184</td>\n",
       "      <td>1184</td>\n",
       "      <td>134.0</td>\n",
       "      <td>2021</td>\n",
       "    </tr>\n",
       "    <tr>\n",
       "      <th>2</th>\n",
       "      <td>2</td>\n",
       "      <td>N</td>\n",
       "      <td>.</td>\n",
       "      <td>Bankhead Dam</td>\n",
       "      <td>Alabama Power Co</td>\n",
       "      <td>195</td>\n",
       "      <td>AL</td>\n",
       "      <td>ESC</td>\n",
       "      <td>SERC</td>\n",
       "      <td>NaN</td>\n",
       "      <td>...</td>\n",
       "      <td>14139.512</td>\n",
       "      <td>14509.501</td>\n",
       "      <td>17005.425</td>\n",
       "      <td>21850.979</td>\n",
       "      <td>0</td>\n",
       "      <td>0</td>\n",
       "      <td>1905404</td>\n",
       "      <td>1905404</td>\n",
       "      <td>215446.0</td>\n",
       "      <td>2021</td>\n",
       "    </tr>\n",
       "    <tr>\n",
       "      <th>3</th>\n",
       "      <td>3</td>\n",
       "      <td>N</td>\n",
       "      <td>.</td>\n",
       "      <td>Barry</td>\n",
       "      <td>Alabama Power Co</td>\n",
       "      <td>195</td>\n",
       "      <td>AL</td>\n",
       "      <td>ESC</td>\n",
       "      <td>SERC</td>\n",
       "      <td>NaN</td>\n",
       "      <td>...</td>\n",
       "      <td>168852</td>\n",
       "      <td>218962</td>\n",
       "      <td>239159</td>\n",
       "      <td>215057</td>\n",
       "      <td>606684</td>\n",
       "      <td>606684</td>\n",
       "      <td>615384</td>\n",
       "      <td>615384</td>\n",
       "      <td>2704852.0</td>\n",
       "      <td>2021</td>\n",
       "    </tr>\n",
       "    <tr>\n",
       "      <th>4</th>\n",
       "      <td>3</td>\n",
       "      <td>N</td>\n",
       "      <td>.</td>\n",
       "      <td>Barry</td>\n",
       "      <td>Alabama Power Co</td>\n",
       "      <td>195</td>\n",
       "      <td>AL</td>\n",
       "      <td>ESC</td>\n",
       "      <td>SERC</td>\n",
       "      <td>NaN</td>\n",
       "      <td>...</td>\n",
       "      <td>326341</td>\n",
       "      <td>415733</td>\n",
       "      <td>444712</td>\n",
       "      <td>411216</td>\n",
       "      <td>54097499</td>\n",
       "      <td>54097499</td>\n",
       "      <td>54874030</td>\n",
       "      <td>54874030</td>\n",
       "      <td>5222203.0</td>\n",
       "      <td>2021</td>\n",
       "    </tr>\n",
       "  </tbody>\n",
       "</table>\n",
       "<p>5 rows × 97 columns</p>\n",
       "</div>"
      ],
      "text/plain": [
       "   Plant Id Combined Heat And\\nPower Plant Nuclear Unit Id    Plant Name  \\\n",
       "0         1                              N               .    Sand Point   \n",
       "1         1                              N               .    Sand Point   \n",
       "2         2                              N               .  Bankhead Dam   \n",
       "3         3                              N               .         Barry   \n",
       "4         3                              N               .         Barry   \n",
       "\n",
       "                    Operator Name Operator Id Plant State Census Region  \\\n",
       "0  TDX Sand Point Generating, LLC       63560          AK          PACN   \n",
       "1  TDX Sand Point Generating, LLC       63560          AK          PACN   \n",
       "2                Alabama Power Co         195          AL           ESC   \n",
       "3                Alabama Power Co         195          AL           ESC   \n",
       "4                Alabama Power Co         195          AL           ESC   \n",
       "\n",
       "  NERC Region  Reserved  ...  Netgen\\nSeptember  Netgen\\nOctober  \\\n",
       "0         NaN       NaN  ...            305.071          303.095   \n",
       "1         NaN       NaN  ...             13.051           13.182   \n",
       "2        SERC       NaN  ...          14139.512        14509.501   \n",
       "3        SERC       NaN  ...             168852           218962   \n",
       "4        SERC       NaN  ...             326341           415733   \n",
       "\n",
       "  Netgen\\nNovember Netgen\\nDecember Total Fuel Consumption\\nQuantity  \\\n",
       "0          236.655          263.077                             6071   \n",
       "1             7.49           13.764                                0   \n",
       "2        17005.425        21850.979                                0   \n",
       "3           239159           215057                           606684   \n",
       "4           444712           411216                         54097499   \n",
       "\n",
       "  Electric Fuel Consumption\\nQuantity Total Fuel Consumption\\nMMBtu  \\\n",
       "0                                6071                         35490   \n",
       "1                                   0                          1184   \n",
       "2                                   0                       1905404   \n",
       "3                              606684                        615384   \n",
       "4                            54097499                      54874030   \n",
       "\n",
       "  Elec Fuel Consumption\\nMMBtu Net Generation\\n(Megawatthours)  YEAR  \n",
       "0                        35490                          2729.0  2021  \n",
       "1                         1184                           134.0  2021  \n",
       "2                      1905404                        215446.0  2021  \n",
       "3                       615384                       2704852.0  2021  \n",
       "4                     54874030                       5222203.0  2021  \n",
       "\n",
       "[5 rows x 97 columns]"
      ]
     },
     "execution_count": 221,
     "metadata": {},
     "output_type": "execute_result"
    }
   ],
   "source": [
    "df_energy_2021.head()"
   ]
  },
  {
   "cell_type": "code",
   "execution_count": 222,
   "metadata": {},
   "outputs": [
    {
     "data": {
      "text/plain": [
       "4311"
      ]
     },
     "execution_count": 222,
     "metadata": {},
     "output_type": "execute_result"
    }
   ],
   "source": [
    "len(df_loc_2023_null)"
   ]
  },
  {
   "cell_type": "code",
   "execution_count": 254,
   "metadata": {},
   "outputs": [],
   "source": [
    "# fillna eia_id with eia_id of row with the same p_name\n",
    "df_loc_2023['eia_id'] = df_loc_2023.groupby('p_name')['eia_id'].transform(lambda x: x.fillna(x.mode()))\n"
   ]
  },
  {
   "cell_type": "code",
   "execution_count": 255,
   "metadata": {},
   "outputs": [
    {
     "data": {
      "text/plain": [
       "4303"
      ]
     },
     "execution_count": 255,
     "metadata": {},
     "output_type": "execute_result"
    }
   ],
   "source": [
    "df_loc_2023['eia_id'].isna().sum()"
   ]
  },
  {
   "cell_type": "code",
   "execution_count": 291,
   "metadata": {},
   "outputs": [
    {
     "data": {
      "text/html": [
       "<div>\n",
       "<style scoped>\n",
       "    .dataframe tbody tr th:only-of-type {\n",
       "        vertical-align: middle;\n",
       "    }\n",
       "\n",
       "    .dataframe tbody tr th {\n",
       "        vertical-align: top;\n",
       "    }\n",
       "\n",
       "    .dataframe thead th {\n",
       "        text-align: right;\n",
       "    }\n",
       "</style>\n",
       "<table border=\"1\" class=\"dataframe\">\n",
       "  <thead>\n",
       "    <tr style=\"text-align: right;\">\n",
       "      <th></th>\n",
       "      <th>Plant Id</th>\n",
       "      <th>Combined Heat And\\nPower Plant</th>\n",
       "      <th>Nuclear Unit Id</th>\n",
       "      <th>Plant Name</th>\n",
       "      <th>Operator Name</th>\n",
       "      <th>Operator Id</th>\n",
       "      <th>Plant State</th>\n",
       "      <th>Census Region</th>\n",
       "      <th>NERC Region</th>\n",
       "      <th>Reserved</th>\n",
       "      <th>...</th>\n",
       "      <th>Netgen\\nSeptember</th>\n",
       "      <th>Netgen\\nOctober</th>\n",
       "      <th>Netgen\\nNovember</th>\n",
       "      <th>Netgen\\nDecember</th>\n",
       "      <th>Total Fuel Consumption\\nQuantity</th>\n",
       "      <th>Electric Fuel Consumption\\nQuantity</th>\n",
       "      <th>Total Fuel Consumption\\nMMBtu</th>\n",
       "      <th>Elec Fuel Consumption\\nMMBtu</th>\n",
       "      <th>Net Generation\\n(Megawatthours)</th>\n",
       "      <th>YEAR</th>\n",
       "    </tr>\n",
       "  </thead>\n",
       "  <tbody>\n",
       "    <tr>\n",
       "      <th>0</th>\n",
       "      <td>1</td>\n",
       "      <td>N</td>\n",
       "      <td>.</td>\n",
       "      <td>Sand Point</td>\n",
       "      <td>TDX Sand Point Generating, LLC</td>\n",
       "      <td>63560</td>\n",
       "      <td>AK</td>\n",
       "      <td>PACN</td>\n",
       "      <td>NaN</td>\n",
       "      <td>NaN</td>\n",
       "      <td>...</td>\n",
       "      <td>305.071</td>\n",
       "      <td>303.095</td>\n",
       "      <td>236.655</td>\n",
       "      <td>263.077</td>\n",
       "      <td>6071</td>\n",
       "      <td>6071</td>\n",
       "      <td>35490</td>\n",
       "      <td>35490</td>\n",
       "      <td>2729.000</td>\n",
       "      <td>2021</td>\n",
       "    </tr>\n",
       "    <tr>\n",
       "      <th>1</th>\n",
       "      <td>1</td>\n",
       "      <td>N</td>\n",
       "      <td>.</td>\n",
       "      <td>Sand Point</td>\n",
       "      <td>TDX Sand Point Generating, LLC</td>\n",
       "      <td>63560</td>\n",
       "      <td>AK</td>\n",
       "      <td>PACN</td>\n",
       "      <td>NaN</td>\n",
       "      <td>NaN</td>\n",
       "      <td>...</td>\n",
       "      <td>13.051</td>\n",
       "      <td>13.182</td>\n",
       "      <td>7.49</td>\n",
       "      <td>13.764</td>\n",
       "      <td>0</td>\n",
       "      <td>0</td>\n",
       "      <td>1184</td>\n",
       "      <td>1184</td>\n",
       "      <td>134.000</td>\n",
       "      <td>2021</td>\n",
       "    </tr>\n",
       "    <tr>\n",
       "      <th>76</th>\n",
       "      <td>90</td>\n",
       "      <td>N</td>\n",
       "      <td>.</td>\n",
       "      <td>Snake River</td>\n",
       "      <td>Nome Joint Utility Systems</td>\n",
       "      <td>13642</td>\n",
       "      <td>AK</td>\n",
       "      <td>PACN</td>\n",
       "      <td>NaN</td>\n",
       "      <td>NaN</td>\n",
       "      <td>...</td>\n",
       "      <td>3507.256</td>\n",
       "      <td>3484.534</td>\n",
       "      <td>2720.705</td>\n",
       "      <td>3024.472</td>\n",
       "      <td>46401</td>\n",
       "      <td>46401</td>\n",
       "      <td>269127</td>\n",
       "      <td>269127</td>\n",
       "      <td>31374.000</td>\n",
       "      <td>2021</td>\n",
       "    </tr>\n",
       "    <tr>\n",
       "      <th>77</th>\n",
       "      <td>90</td>\n",
       "      <td>N</td>\n",
       "      <td>.</td>\n",
       "      <td>Snake River</td>\n",
       "      <td>Nome Joint Utility Systems</td>\n",
       "      <td>13642</td>\n",
       "      <td>AK</td>\n",
       "      <td>PACN</td>\n",
       "      <td>NaN</td>\n",
       "      <td>NaN</td>\n",
       "      <td>...</td>\n",
       "      <td>207.46</td>\n",
       "      <td>209.538</td>\n",
       "      <td>119.062</td>\n",
       "      <td>218.786</td>\n",
       "      <td>0</td>\n",
       "      <td>0</td>\n",
       "      <td>18837</td>\n",
       "      <td>18837</td>\n",
       "      <td>2130.000</td>\n",
       "      <td>2021</td>\n",
       "    </tr>\n",
       "    <tr>\n",
       "      <th>443</th>\n",
       "      <td>508</td>\n",
       "      <td>N</td>\n",
       "      <td>.</td>\n",
       "      <td>Lamar Plant</td>\n",
       "      <td>City of Lamar - (CO)</td>\n",
       "      <td>10633</td>\n",
       "      <td>CO</td>\n",
       "      <td>MTN</td>\n",
       "      <td>WECC</td>\n",
       "      <td>NaN</td>\n",
       "      <td>...</td>\n",
       "      <td>0</td>\n",
       "      <td>0</td>\n",
       "      <td>0</td>\n",
       "      <td>0</td>\n",
       "      <td>0</td>\n",
       "      <td>0</td>\n",
       "      <td>0</td>\n",
       "      <td>0</td>\n",
       "      <td>0.000</td>\n",
       "      <td>2021</td>\n",
       "    </tr>\n",
       "    <tr>\n",
       "      <th>...</th>\n",
       "      <td>...</td>\n",
       "      <td>...</td>\n",
       "      <td>...</td>\n",
       "      <td>...</td>\n",
       "      <td>...</td>\n",
       "      <td>...</td>\n",
       "      <td>...</td>\n",
       "      <td>...</td>\n",
       "      <td>...</td>\n",
       "      <td>...</td>\n",
       "      <td>...</td>\n",
       "      <td>...</td>\n",
       "      <td>...</td>\n",
       "      <td>...</td>\n",
       "      <td>...</td>\n",
       "      <td>...</td>\n",
       "      <td>...</td>\n",
       "      <td>...</td>\n",
       "      <td>...</td>\n",
       "      <td>...</td>\n",
       "      <td>...</td>\n",
       "    </tr>\n",
       "    <tr>\n",
       "      <th>15659</th>\n",
       "      <td>99999</td>\n",
       "      <td>Y</td>\n",
       "      <td>.</td>\n",
       "      <td>State-Fuel Level Increment</td>\n",
       "      <td>State-Fuel Level Increment</td>\n",
       "      <td>99999</td>\n",
       "      <td>DC</td>\n",
       "      <td>SAT</td>\n",
       "      <td>NaN</td>\n",
       "      <td>NaN</td>\n",
       "      <td>...</td>\n",
       "      <td>2187.7</td>\n",
       "      <td>2040.798</td>\n",
       "      <td>2140.373</td>\n",
       "      <td>2336.21</td>\n",
       "      <td>392630</td>\n",
       "      <td>302982</td>\n",
       "      <td>400356</td>\n",
       "      <td>308948</td>\n",
       "      <td>26620.977</td>\n",
       "      <td>2021</td>\n",
       "    </tr>\n",
       "    <tr>\n",
       "      <th>15660</th>\n",
       "      <td>99999</td>\n",
       "      <td>Y</td>\n",
       "      <td>.</td>\n",
       "      <td>State-Fuel Level Increment</td>\n",
       "      <td>State-Fuel Level Increment</td>\n",
       "      <td>99999</td>\n",
       "      <td>CA</td>\n",
       "      <td>PACC</td>\n",
       "      <td>NaN</td>\n",
       "      <td>NaN</td>\n",
       "      <td>...</td>\n",
       "      <td>42.385</td>\n",
       "      <td>17.466</td>\n",
       "      <td>5.368</td>\n",
       "      <td>20.812</td>\n",
       "      <td>12180</td>\n",
       "      <td>2964</td>\n",
       "      <td>12586</td>\n",
       "      <td>3065</td>\n",
       "      <td>396.165</td>\n",
       "      <td>2021</td>\n",
       "    </tr>\n",
       "    <tr>\n",
       "      <th>15661</th>\n",
       "      <td>99999</td>\n",
       "      <td>N</td>\n",
       "      <td>.</td>\n",
       "      <td>State-Fuel Level Increment</td>\n",
       "      <td>State-Fuel Level Increment</td>\n",
       "      <td>99999</td>\n",
       "      <td>SC</td>\n",
       "      <td>SAT</td>\n",
       "      <td>NaN</td>\n",
       "      <td>NaN</td>\n",
       "      <td>...</td>\n",
       "      <td>.</td>\n",
       "      <td>.</td>\n",
       "      <td>.</td>\n",
       "      <td>0</td>\n",
       "      <td>0</td>\n",
       "      <td>0</td>\n",
       "      <td>0</td>\n",
       "      <td>0</td>\n",
       "      <td>0.000</td>\n",
       "      <td>2021</td>\n",
       "    </tr>\n",
       "    <tr>\n",
       "      <th>15637</th>\n",
       "      <td>99999</td>\n",
       "      <td>N</td>\n",
       "      <td>.</td>\n",
       "      <td>State-Fuel Level Increment</td>\n",
       "      <td>State-Fuel Level Increment</td>\n",
       "      <td>99999</td>\n",
       "      <td>SC</td>\n",
       "      <td>SAT</td>\n",
       "      <td>NaN</td>\n",
       "      <td>NaN</td>\n",
       "      <td>...</td>\n",
       "      <td>.</td>\n",
       "      <td>.</td>\n",
       "      <td>.</td>\n",
       "      <td>85631.041</td>\n",
       "      <td>1011013</td>\n",
       "      <td>1011013</td>\n",
       "      <td>1040332</td>\n",
       "      <td>1040332</td>\n",
       "      <td>85631.041</td>\n",
       "      <td>2021</td>\n",
       "    </tr>\n",
       "    <tr>\n",
       "      <th>15795</th>\n",
       "      <td>99999</td>\n",
       "      <td>N</td>\n",
       "      <td>.</td>\n",
       "      <td>State-Fuel Level Increment</td>\n",
       "      <td>State-Fuel Level Increment</td>\n",
       "      <td>99999</td>\n",
       "      <td>IN</td>\n",
       "      <td>ENC</td>\n",
       "      <td>NaN</td>\n",
       "      <td>NaN</td>\n",
       "      <td>...</td>\n",
       "      <td>.</td>\n",
       "      <td>.</td>\n",
       "      <td>.</td>\n",
       "      <td>.</td>\n",
       "      <td>0</td>\n",
       "      <td>0</td>\n",
       "      <td>336674</td>\n",
       "      <td>336674</td>\n",
       "      <td>38068.027</td>\n",
       "      <td>2021</td>\n",
       "    </tr>\n",
       "  </tbody>\n",
       "</table>\n",
       "<p>300 rows × 97 columns</p>\n",
       "</div>"
      ],
      "text/plain": [
       "       Plant Id Combined Heat And\\nPower Plant Nuclear Unit Id  \\\n",
       "0             1                              N               .   \n",
       "1             1                              N               .   \n",
       "76           90                              N               .   \n",
       "77           90                              N               .   \n",
       "443         508                              N               .   \n",
       "...         ...                            ...             ...   \n",
       "15659     99999                              Y               .   \n",
       "15660     99999                              Y               .   \n",
       "15661     99999                              N               .   \n",
       "15637     99999                              N               .   \n",
       "15795     99999                              N               .   \n",
       "\n",
       "                       Plant Name                   Operator Name Operator Id  \\\n",
       "0                      Sand Point  TDX Sand Point Generating, LLC       63560   \n",
       "1                      Sand Point  TDX Sand Point Generating, LLC       63560   \n",
       "76                    Snake River      Nome Joint Utility Systems       13642   \n",
       "77                    Snake River      Nome Joint Utility Systems       13642   \n",
       "443                   Lamar Plant            City of Lamar - (CO)       10633   \n",
       "...                           ...                             ...         ...   \n",
       "15659  State-Fuel Level Increment      State-Fuel Level Increment       99999   \n",
       "15660  State-Fuel Level Increment      State-Fuel Level Increment       99999   \n",
       "15661  State-Fuel Level Increment      State-Fuel Level Increment       99999   \n",
       "15637  State-Fuel Level Increment      State-Fuel Level Increment       99999   \n",
       "15795  State-Fuel Level Increment      State-Fuel Level Increment       99999   \n",
       "\n",
       "      Plant State Census Region NERC Region  Reserved  ...  Netgen\\nSeptember  \\\n",
       "0              AK          PACN         NaN       NaN  ...            305.071   \n",
       "1              AK          PACN         NaN       NaN  ...             13.051   \n",
       "76             AK          PACN         NaN       NaN  ...           3507.256   \n",
       "77             AK          PACN         NaN       NaN  ...             207.46   \n",
       "443            CO           MTN        WECC       NaN  ...                  0   \n",
       "...           ...           ...         ...       ...  ...                ...   \n",
       "15659          DC           SAT         NaN       NaN  ...             2187.7   \n",
       "15660          CA          PACC         NaN       NaN  ...             42.385   \n",
       "15661          SC           SAT         NaN       NaN  ...                  .   \n",
       "15637          SC           SAT         NaN       NaN  ...                  .   \n",
       "15795          IN           ENC         NaN       NaN  ...                  .   \n",
       "\n",
       "       Netgen\\nOctober Netgen\\nNovember Netgen\\nDecember  \\\n",
       "0              303.095          236.655          263.077   \n",
       "1               13.182             7.49           13.764   \n",
       "76            3484.534         2720.705         3024.472   \n",
       "77             209.538          119.062          218.786   \n",
       "443                  0                0                0   \n",
       "...                ...              ...              ...   \n",
       "15659         2040.798         2140.373          2336.21   \n",
       "15660           17.466            5.368           20.812   \n",
       "15661                .                .                0   \n",
       "15637                .                .        85631.041   \n",
       "15795                .                .                .   \n",
       "\n",
       "      Total Fuel Consumption\\nQuantity Electric Fuel Consumption\\nQuantity  \\\n",
       "0                                 6071                                6071   \n",
       "1                                    0                                   0   \n",
       "76                               46401                               46401   \n",
       "77                                   0                                   0   \n",
       "443                                  0                                   0   \n",
       "...                                ...                                 ...   \n",
       "15659                           392630                              302982   \n",
       "15660                            12180                                2964   \n",
       "15661                                0                                   0   \n",
       "15637                          1011013                             1011013   \n",
       "15795                                0                                   0   \n",
       "\n",
       "      Total Fuel Consumption\\nMMBtu Elec Fuel Consumption\\nMMBtu  \\\n",
       "0                             35490                        35490   \n",
       "1                              1184                         1184   \n",
       "76                           269127                       269127   \n",
       "77                            18837                        18837   \n",
       "443                               0                            0   \n",
       "...                             ...                          ...   \n",
       "15659                        400356                       308948   \n",
       "15660                         12586                         3065   \n",
       "15661                             0                            0   \n",
       "15637                       1040332                      1040332   \n",
       "15795                        336674                       336674   \n",
       "\n",
       "      Net Generation\\n(Megawatthours)  YEAR  \n",
       "0                            2729.000  2021  \n",
       "1                             134.000  2021  \n",
       "76                          31374.000  2021  \n",
       "77                           2130.000  2021  \n",
       "443                             0.000  2021  \n",
       "...                               ...   ...  \n",
       "15659                       26620.977  2021  \n",
       "15660                         396.165  2021  \n",
       "15661                           0.000  2021  \n",
       "15637                       85631.041  2021  \n",
       "15795                       38068.027  2021  \n",
       "\n",
       "[300 rows x 97 columns]"
      ]
     },
     "execution_count": 291,
     "metadata": {},
     "output_type": "execute_result"
    }
   ],
   "source": [
    "# filter out plant id with more than 1 row from energy_2021 and at least 1 row from 'Reported\\nPrime Mover' is 'WT' \n",
    "df_hybrid = df_energy_2021[df_energy_2021['Plant Id'].duplicated(keep=False)].sort_values('Plant Id')\n",
    "df_hybrid_wt_ws = df_hybrid[df_hybrid['Reported\\nPrime Mover'].isin(['WT','WS'])]\n",
    "df_hybrid = df_hybrid[df_hybrid['Plant Id'].isin(df_hybrid_wt_ws['Plant Id'])]\n",
    "df_hybrid"
   ]
  },
  {
   "cell_type": "code",
   "execution_count": 292,
   "metadata": {},
   "outputs": [
    {
     "data": {
      "text/plain": [
       "34"
      ]
     },
     "execution_count": 292,
     "metadata": {},
     "output_type": "execute_result"
    }
   ],
   "source": [
    "len(df_hybrid['Plant Id'].unique())"
   ]
  },
  {
   "cell_type": "code",
   "execution_count": 293,
   "metadata": {},
   "outputs": [],
   "source": [
    "df_hybrid.to_csv(r\"C:\\Users\\danie\\Downloads\\sprint\\hybrid.csv\", index=False)"
   ]
  },
  {
   "cell_type": "code",
   "execution_count": null,
   "metadata": {},
   "outputs": [],
   "source": []
  }
 ],
 "metadata": {
  "kernelspec": {
   "display_name": "Python 3",
   "language": "python",
   "name": "python3"
  },
  "language_info": {
   "codemirror_mode": {
    "name": "ipython",
    "version": 3
   },
   "file_extension": ".py",
   "mimetype": "text/x-python",
   "name": "python",
   "nbconvert_exporter": "python",
   "pygments_lexer": "ipython3",
   "version": "3.9.5"
  },
  "orig_nbformat": 4
 },
 "nbformat": 4,
 "nbformat_minor": 2
}
