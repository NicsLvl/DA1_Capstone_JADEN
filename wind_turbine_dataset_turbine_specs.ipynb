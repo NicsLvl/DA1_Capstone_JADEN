{
 "cells": [
  {
   "attachments": {},
   "cell_type": "markdown",
   "metadata": {},
   "source": [
    "## Import libraries"
   ]
  },
  {
   "cell_type": "code",
   "execution_count": 2,
   "metadata": {},
   "outputs": [],
   "source": [
    "import pandas as pd\n",
    "import seaborn as sns\n",
    "import matplotlib.pyplot as plt"
   ]
  },
  {
   "attachments": {},
   "cell_type": "markdown",
   "metadata": {},
   "source": [
    "## Data Preprocessing"
   ]
  },
  {
   "cell_type": "code",
   "execution_count": 3,
   "metadata": {},
   "outputs": [
    {
     "name": "stderr",
     "output_type": "stream",
     "text": [
      "C:\\Users\\quakl\\AppData\\Local\\Temp\\ipykernel_9552\\587385051.py:5: DtypeWarning: Columns (1,2,3,4,6,7,8,12,13,14,15,16,17,19,20,21,22,23,24,25,26,27,28,29,30,31,32,33,34,35,36,37,38,39,40,41,42,43,44,45,46,47,48,49,50,51,52,53,54,55,56,57,58,59,60,61,62,63,64,65,66,67,68,69,70,71,72,73,74,75,76,77,78,79,80,81,82,83,84,85,86,87,88,89,90) have mixed types. Specify dtype option on import or set low_memory=False.\n",
      "  wind_turbine_df = pd.read_csv(filename)\n"
     ]
    },
    {
     "data": {
      "text/plain": [
       "(71784, 124)"
      ]
     },
     "execution_count": 3,
     "metadata": {},
     "output_type": "execute_result"
    }
   ],
   "source": [
    "# define file name\n",
    "filename = r'Use this dataset\\uswtdb_v5_0_20220427_rename.csv'\n",
    "\n",
    "# read csv file\n",
    "wind_turbine_df = pd.read_csv(filename)\n",
    "\n",
    "# check number of rows and columns\n",
    "wind_turbine_df.shape"
   ]
  },
  {
   "cell_type": "code",
   "execution_count": 4,
   "metadata": {},
   "outputs": [
    {
     "data": {
      "text/plain": [
       "Index(['Plant Id', 'Combined Heat And\\nPower Plant', 'Nuclear Unit Id',\n",
       "       'Plant Name', 'Operator Name', 'Operator Id', 'Plant State',\n",
       "       'Census Region', 'NERC Region', 'Reserved',\n",
       "       ...\n",
       "       'rotor_swept area (m2)', 'max_height (m)', 'retrofit (y/n)',\n",
       "       'retrofit_year', 'attribute_confidence_level (1/2/3)',\n",
       "       'location_confidence_level (1/2/3)', 'location_verification_date',\n",
       "       'image_source', 'xlong', 'ylat'],\n",
       "      dtype='object', length=124)"
      ]
     },
     "execution_count": 4,
     "metadata": {},
     "output_type": "execute_result"
    }
   ],
   "source": [
    "# get the columns of the dataframe\n",
    "wind_turbine_df.columns"
   ]
  },
  {
   "cell_type": "code",
   "execution_count": 5,
   "metadata": {},
   "outputs": [
    {
     "data": {
      "text/plain": [
       "1"
      ]
     },
     "execution_count": 5,
     "metadata": {},
     "output_type": "execute_result"
    }
   ],
   "source": [
    "# filter unecessary columns\n",
    "wind_turbine_df = wind_turbine_df[[#'faa_digital_obstacle_id', 'faa_obstruction_evaluation_id', 'usgs_id', \n",
    "                                   'Plant Id', 'eia_id', \n",
    "                                   # 'state', 'county',\n",
    "                                   # 'state_county_id',\n",
    "                                   'project_name', \n",
    "                                   # 'operational_year', 'project_turbine_num',\n",
    "                                   # 'cumulative_capacity (MW)',\n",
    "                                   # 'manufacturer', 'model_name', \n",
    "                                   'turbine_capacity (KW)',\n",
    "                                   'hub_height (m)', \n",
    "                                   'rotor_diameter (m)', 'rotor_swept area (m2)', 'max_height (m)',\n",
    "                                   # 'retrofit (y/n)',\n",
    "                                   # 'retrofit_year', 'attribute_confidence_level (1/2/3)',\n",
    "                                   # 'location_confidence_level (1/2/3)', 'location_verification_date', 'image_source', \n",
    "                                   'xlong', 'ylat']]\n",
    "\n",
    "# check for duplicates\n",
    "wind_turbine_df.duplicated().sum()"
   ]
  },
  {
   "cell_type": "code",
   "execution_count": 6,
   "metadata": {},
   "outputs": [
    {
     "data": {
      "text/html": [
       "<div>\n",
       "<style scoped>\n",
       "    .dataframe tbody tr th:only-of-type {\n",
       "        vertical-align: middle;\n",
       "    }\n",
       "\n",
       "    .dataframe tbody tr th {\n",
       "        vertical-align: top;\n",
       "    }\n",
       "\n",
       "    .dataframe thead th {\n",
       "        text-align: right;\n",
       "    }\n",
       "</style>\n",
       "<table border=\"1\" class=\"dataframe\">\n",
       "  <thead>\n",
       "    <tr style=\"text-align: right;\">\n",
       "      <th></th>\n",
       "      <th>Plant Id</th>\n",
       "      <th>eia_id</th>\n",
       "      <th>project_name</th>\n",
       "      <th>turbine_capacity (KW)</th>\n",
       "      <th>hub_height (m)</th>\n",
       "      <th>rotor_diameter (m)</th>\n",
       "      <th>rotor_swept area (m2)</th>\n",
       "      <th>max_height (m)</th>\n",
       "      <th>xlong</th>\n",
       "      <th>ylat</th>\n",
       "    </tr>\n",
       "  </thead>\n",
       "  <tbody>\n",
       "    <tr>\n",
       "      <th>63989</th>\n",
       "      <td>99999.0</td>\n",
       "      <td>NaN</td>\n",
       "      <td>NaN</td>\n",
       "      <td>NaN</td>\n",
       "      <td>NaN</td>\n",
       "      <td>NaN</td>\n",
       "      <td>NaN</td>\n",
       "      <td>NaN</td>\n",
       "      <td>NaN</td>\n",
       "      <td>NaN</td>\n",
       "    </tr>\n",
       "  </tbody>\n",
       "</table>\n",
       "</div>"
      ],
      "text/plain": [
       "       Plant Id  eia_id project_name  turbine_capacity (KW)  hub_height (m)  \\\n",
       "63989   99999.0     NaN          NaN                    NaN             NaN   \n",
       "\n",
       "       rotor_diameter (m)  rotor_swept area (m2)  max_height (m)  xlong  ylat  \n",
       "63989                 NaN                    NaN             NaN    NaN   NaN  "
      ]
     },
     "execution_count": 6,
     "metadata": {},
     "output_type": "execute_result"
    }
   ],
   "source": [
    "# show duplicated rows\n",
    "wind_turbine_df[wind_turbine_df.duplicated()]"
   ]
  },
  {
   "cell_type": "code",
   "execution_count": 7,
   "metadata": {},
   "outputs": [
    {
     "data": {
      "text/plain": [
       "0"
      ]
     },
     "execution_count": 7,
     "metadata": {},
     "output_type": "execute_result"
    }
   ],
   "source": [
    "# drop Plant Id = 99999.0\n",
    "wind_turbine_df = wind_turbine_df[wind_turbine_df['Plant Id'] != 99999.0]\n",
    "\n",
    "# check for duplicates\n",
    "wind_turbine_df.duplicated().sum()"
   ]
  },
  {
   "cell_type": "code",
   "execution_count": 8,
   "metadata": {},
   "outputs": [
    {
     "data": {
      "text/plain": [
       "Plant Id                 7794\n",
       "eia_id                   6205\n",
       "max_height (m)           5139\n",
       "hub_height (m)           5138\n",
       "rotor_diameter (m)       4893\n",
       "rotor_swept area (m2)    4893\n",
       "turbine_capacity (KW)    4439\n",
       "project_name              116\n",
       "xlong                     116\n",
       "ylat                      116\n",
       "dtype: int64"
      ]
     },
     "execution_count": 8,
     "metadata": {},
     "output_type": "execute_result"
    }
   ],
   "source": [
    "# check null values\n",
    "wind_turbine_df.isnull().sum()[lambda x: x > 0].sort_values(ascending=False)"
   ]
  },
  {
   "cell_type": "code",
   "execution_count": 9,
   "metadata": {},
   "outputs": [
    {
     "data": {
      "text/plain": [
       "max_height (m)           1507\n",
       "hub_height (m)           1506\n",
       "rotor_diameter (m)       1270\n",
       "rotor_swept area (m2)    1270\n",
       "turbine_capacity (KW)     871\n",
       "eia_id                    116\n",
       "project_name              116\n",
       "xlong                     116\n",
       "ylat                      116\n",
       "dtype: int64"
      ]
     },
     "execution_count": 9,
     "metadata": {},
     "output_type": "execute_result"
    }
   ],
   "source": [
    "# drop for Plant Id that is null\n",
    "wind_turbine_df = wind_turbine_df[wind_turbine_df['Plant Id'].notna()]\n",
    "\n",
    "# check null values\n",
    "wind_turbine_df.isnull().sum()[lambda x: x > 0].sort_values(ascending=False)"
   ]
  },
  {
   "cell_type": "code",
   "execution_count": 10,
   "metadata": {},
   "outputs": [
    {
     "data": {
      "text/html": [
       "<div>\n",
       "<style scoped>\n",
       "    .dataframe tbody tr th:only-of-type {\n",
       "        vertical-align: middle;\n",
       "    }\n",
       "\n",
       "    .dataframe tbody tr th {\n",
       "        vertical-align: top;\n",
       "    }\n",
       "\n",
       "    .dataframe thead th {\n",
       "        text-align: right;\n",
       "    }\n",
       "</style>\n",
       "<table border=\"1\" class=\"dataframe\">\n",
       "  <thead>\n",
       "    <tr style=\"text-align: right;\">\n",
       "      <th></th>\n",
       "      <th>Plant Id</th>\n",
       "      <th>eia_id</th>\n",
       "      <th>project_name</th>\n",
       "      <th>turbine_capacity (KW)</th>\n",
       "      <th>hub_height (m)</th>\n",
       "      <th>rotor_diameter (m)</th>\n",
       "      <th>rotor_swept area (m2)</th>\n",
       "      <th>max_height (m)</th>\n",
       "      <th>xlong</th>\n",
       "      <th>ylat</th>\n",
       "    </tr>\n",
       "  </thead>\n",
       "  <tbody>\n",
       "    <tr>\n",
       "      <th>0</th>\n",
       "      <td>1.0</td>\n",
       "      <td>NaN</td>\n",
       "      <td>NaN</td>\n",
       "      <td>NaN</td>\n",
       "      <td>NaN</td>\n",
       "      <td>NaN</td>\n",
       "      <td>NaN</td>\n",
       "      <td>NaN</td>\n",
       "      <td>NaN</td>\n",
       "      <td>NaN</td>\n",
       "    </tr>\n",
       "    <tr>\n",
       "      <th>1433</th>\n",
       "      <td>52142.0</td>\n",
       "      <td>NaN</td>\n",
       "      <td>NaN</td>\n",
       "      <td>NaN</td>\n",
       "      <td>NaN</td>\n",
       "      <td>NaN</td>\n",
       "      <td>NaN</td>\n",
       "      <td>NaN</td>\n",
       "      <td>NaN</td>\n",
       "      <td>NaN</td>\n",
       "    </tr>\n",
       "    <tr>\n",
       "      <th>1506</th>\n",
       "      <td>54299.0</td>\n",
       "      <td>NaN</td>\n",
       "      <td>NaN</td>\n",
       "      <td>NaN</td>\n",
       "      <td>NaN</td>\n",
       "      <td>NaN</td>\n",
       "      <td>NaN</td>\n",
       "      <td>NaN</td>\n",
       "      <td>NaN</td>\n",
       "      <td>NaN</td>\n",
       "    </tr>\n",
       "    <tr>\n",
       "      <th>1507</th>\n",
       "      <td>54300.0</td>\n",
       "      <td>NaN</td>\n",
       "      <td>NaN</td>\n",
       "      <td>NaN</td>\n",
       "      <td>NaN</td>\n",
       "      <td>NaN</td>\n",
       "      <td>NaN</td>\n",
       "      <td>NaN</td>\n",
       "      <td>NaN</td>\n",
       "      <td>NaN</td>\n",
       "    </tr>\n",
       "    <tr>\n",
       "      <th>1547</th>\n",
       "      <td>54647.0</td>\n",
       "      <td>NaN</td>\n",
       "      <td>NaN</td>\n",
       "      <td>NaN</td>\n",
       "      <td>NaN</td>\n",
       "      <td>NaN</td>\n",
       "      <td>NaN</td>\n",
       "      <td>NaN</td>\n",
       "      <td>NaN</td>\n",
       "      <td>NaN</td>\n",
       "    </tr>\n",
       "    <tr>\n",
       "      <th>...</th>\n",
       "      <td>...</td>\n",
       "      <td>...</td>\n",
       "      <td>...</td>\n",
       "      <td>...</td>\n",
       "      <td>...</td>\n",
       "      <td>...</td>\n",
       "      <td>...</td>\n",
       "      <td>...</td>\n",
       "      <td>...</td>\n",
       "      <td>...</td>\n",
       "    </tr>\n",
       "    <tr>\n",
       "      <th>63983</th>\n",
       "      <td>65059.0</td>\n",
       "      <td>NaN</td>\n",
       "      <td>NaN</td>\n",
       "      <td>NaN</td>\n",
       "      <td>NaN</td>\n",
       "      <td>NaN</td>\n",
       "      <td>NaN</td>\n",
       "      <td>NaN</td>\n",
       "      <td>NaN</td>\n",
       "      <td>NaN</td>\n",
       "    </tr>\n",
       "    <tr>\n",
       "      <th>63984</th>\n",
       "      <td>65143.0</td>\n",
       "      <td>NaN</td>\n",
       "      <td>NaN</td>\n",
       "      <td>NaN</td>\n",
       "      <td>NaN</td>\n",
       "      <td>NaN</td>\n",
       "      <td>NaN</td>\n",
       "      <td>NaN</td>\n",
       "      <td>NaN</td>\n",
       "      <td>NaN</td>\n",
       "    </tr>\n",
       "    <tr>\n",
       "      <th>63985</th>\n",
       "      <td>65478.0</td>\n",
       "      <td>NaN</td>\n",
       "      <td>NaN</td>\n",
       "      <td>NaN</td>\n",
       "      <td>NaN</td>\n",
       "      <td>NaN</td>\n",
       "      <td>NaN</td>\n",
       "      <td>NaN</td>\n",
       "      <td>NaN</td>\n",
       "      <td>NaN</td>\n",
       "    </tr>\n",
       "    <tr>\n",
       "      <th>63986</th>\n",
       "      <td>65479.0</td>\n",
       "      <td>NaN</td>\n",
       "      <td>NaN</td>\n",
       "      <td>NaN</td>\n",
       "      <td>NaN</td>\n",
       "      <td>NaN</td>\n",
       "      <td>NaN</td>\n",
       "      <td>NaN</td>\n",
       "      <td>NaN</td>\n",
       "      <td>NaN</td>\n",
       "    </tr>\n",
       "    <tr>\n",
       "      <th>63987</th>\n",
       "      <td>65484.0</td>\n",
       "      <td>NaN</td>\n",
       "      <td>NaN</td>\n",
       "      <td>NaN</td>\n",
       "      <td>NaN</td>\n",
       "      <td>NaN</td>\n",
       "      <td>NaN</td>\n",
       "      <td>NaN</td>\n",
       "      <td>NaN</td>\n",
       "      <td>NaN</td>\n",
       "    </tr>\n",
       "  </tbody>\n",
       "</table>\n",
       "<p>116 rows × 10 columns</p>\n",
       "</div>"
      ],
      "text/plain": [
       "       Plant Id  eia_id project_name  turbine_capacity (KW)  hub_height (m)  \\\n",
       "0           1.0     NaN          NaN                    NaN             NaN   \n",
       "1433    52142.0     NaN          NaN                    NaN             NaN   \n",
       "1506    54299.0     NaN          NaN                    NaN             NaN   \n",
       "1507    54300.0     NaN          NaN                    NaN             NaN   \n",
       "1547    54647.0     NaN          NaN                    NaN             NaN   \n",
       "...         ...     ...          ...                    ...             ...   \n",
       "63983   65059.0     NaN          NaN                    NaN             NaN   \n",
       "63984   65143.0     NaN          NaN                    NaN             NaN   \n",
       "63985   65478.0     NaN          NaN                    NaN             NaN   \n",
       "63986   65479.0     NaN          NaN                    NaN             NaN   \n",
       "63987   65484.0     NaN          NaN                    NaN             NaN   \n",
       "\n",
       "       rotor_diameter (m)  rotor_swept area (m2)  max_height (m)  xlong  ylat  \n",
       "0                     NaN                    NaN             NaN    NaN   NaN  \n",
       "1433                  NaN                    NaN             NaN    NaN   NaN  \n",
       "1506                  NaN                    NaN             NaN    NaN   NaN  \n",
       "1507                  NaN                    NaN             NaN    NaN   NaN  \n",
       "1547                  NaN                    NaN             NaN    NaN   NaN  \n",
       "...                   ...                    ...             ...    ...   ...  \n",
       "63983                 NaN                    NaN             NaN    NaN   NaN  \n",
       "63984                 NaN                    NaN             NaN    NaN   NaN  \n",
       "63985                 NaN                    NaN             NaN    NaN   NaN  \n",
       "63986                 NaN                    NaN             NaN    NaN   NaN  \n",
       "63987                 NaN                    NaN             NaN    NaN   NaN  \n",
       "\n",
       "[116 rows x 10 columns]"
      ]
     },
     "execution_count": 10,
     "metadata": {},
     "output_type": "execute_result"
    }
   ],
   "source": [
    "# show values for eia_id that are null\n",
    "wind_turbine_df[wind_turbine_df['eia_id'].isnull()]"
   ]
  },
  {
   "cell_type": "code",
   "execution_count": 11,
   "metadata": {},
   "outputs": [
    {
     "data": {
      "text/plain": [
       "max_height (m)           1391\n",
       "hub_height (m)           1390\n",
       "rotor_diameter (m)       1154\n",
       "rotor_swept area (m2)    1154\n",
       "turbine_capacity (KW)     755\n",
       "dtype: int64"
      ]
     },
     "execution_count": 11,
     "metadata": {},
     "output_type": "execute_result"
    }
   ],
   "source": [
    "# remove for eia_id that are null\n",
    "wind_turbine_df = wind_turbine_df[wind_turbine_df['eia_id'].notna()]\n",
    "\n",
    "# check null values\n",
    "wind_turbine_df.isnull().sum()[lambda x: x > 0].sort_values(ascending=False)"
   ]
  },
  {
   "cell_type": "code",
   "execution_count": 12,
   "metadata": {},
   "outputs": [
    {
     "data": {
      "text/html": [
       "<div>\n",
       "<style scoped>\n",
       "    .dataframe tbody tr th:only-of-type {\n",
       "        vertical-align: middle;\n",
       "    }\n",
       "\n",
       "    .dataframe tbody tr th {\n",
       "        vertical-align: top;\n",
       "    }\n",
       "\n",
       "    .dataframe thead th {\n",
       "        text-align: right;\n",
       "    }\n",
       "</style>\n",
       "<table border=\"1\" class=\"dataframe\">\n",
       "  <thead>\n",
       "    <tr style=\"text-align: right;\">\n",
       "      <th></th>\n",
       "      <th>Plant Id</th>\n",
       "      <th>eia_id</th>\n",
       "      <th>project_name</th>\n",
       "      <th>turbine_capacity (KW)</th>\n",
       "      <th>hub_height (m)</th>\n",
       "      <th>rotor_diameter (m)</th>\n",
       "      <th>rotor_swept area (m2)</th>\n",
       "      <th>max_height (m)</th>\n",
       "      <th>xlong</th>\n",
       "      <th>ylat</th>\n",
       "    </tr>\n",
       "  </thead>\n",
       "  <tbody>\n",
       "  </tbody>\n",
       "</table>\n",
       "</div>"
      ],
      "text/plain": [
       "Empty DataFrame\n",
       "Columns: [Plant Id, eia_id, project_name, turbine_capacity (KW), hub_height (m), rotor_diameter (m), rotor_swept area (m2), max_height (m), xlong, ylat]\n",
       "Index: []"
      ]
     },
     "execution_count": 12,
     "metadata": {},
     "output_type": "execute_result"
    }
   ],
   "source": [
    "# check if all Plant Id = eia_id\n",
    "wind_turbine_df[wind_turbine_df['Plant Id'] != wind_turbine_df['eia_id']]"
   ]
  },
  {
   "cell_type": "code",
   "execution_count": 14,
   "metadata": {},
   "outputs": [
    {
     "data": {
      "text/html": [
       "<div>\n",
       "<style scoped>\n",
       "    .dataframe tbody tr th:only-of-type {\n",
       "        vertical-align: middle;\n",
       "    }\n",
       "\n",
       "    .dataframe tbody tr th {\n",
       "        vertical-align: top;\n",
       "    }\n",
       "\n",
       "    .dataframe thead th {\n",
       "        text-align: right;\n",
       "    }\n",
       "</style>\n",
       "<table border=\"1\" class=\"dataframe\">\n",
       "  <thead>\n",
       "    <tr style=\"text-align: right;\">\n",
       "      <th></th>\n",
       "      <th>Plant Id</th>\n",
       "      <th>eia_id</th>\n",
       "      <th>project_name</th>\n",
       "      <th>turbine_capacity (KW)</th>\n",
       "      <th>hub_height (m)</th>\n",
       "      <th>rotor_diameter (m)</th>\n",
       "      <th>rotor_swept area (m2)</th>\n",
       "      <th>max_height (m)</th>\n",
       "      <th>xlong</th>\n",
       "      <th>ylat</th>\n",
       "    </tr>\n",
       "  </thead>\n",
       "  <tbody>\n",
       "    <tr>\n",
       "      <th>57401</th>\n",
       "      <td>62442.0</td>\n",
       "      <td>62442.0</td>\n",
       "      <td>Lake Region Community Hybrid, LLC</td>\n",
       "      <td>2500.0</td>\n",
       "      <td>NaN</td>\n",
       "      <td>NaN</td>\n",
       "      <td>NaN</td>\n",
       "      <td>NaN</td>\n",
       "      <td>-93.307907</td>\n",
       "      <td>43.580891</td>\n",
       "    </tr>\n",
       "  </tbody>\n",
       "</table>\n",
       "</div>"
      ],
      "text/plain": [
       "       Plant Id   eia_id                       project_name  \\\n",
       "57401   62442.0  62442.0  Lake Region Community Hybrid, LLC   \n",
       "\n",
       "       turbine_capacity (KW)  hub_height (m)  rotor_diameter (m)  \\\n",
       "57401                 2500.0             NaN                 NaN   \n",
       "\n",
       "       rotor_swept area (m2)  max_height (m)      xlong       ylat  \n",
       "57401                    NaN             NaN -93.307907  43.580891  "
      ]
     },
     "execution_count": 14,
     "metadata": {},
     "output_type": "execute_result"
    }
   ],
   "source": [
    "# replace project_name = \"Lake Region Community Hybrid, LLC\" with operational_year = 2020, turbine_capacity (KW) = 2500\n",
    "# https://www.albertleatribune.com/2020/08/county-board-gives-go-ahead-for-new-wind-turbine-project/ - proj details\n",
    "# https://eerscmap.usgs.gov/uswtdb/viewer/#10.02/43.6746/-93.3486\n",
    "wind_turbine_df.loc[wind_turbine_df['project_name'] == 'Lake Region Community Hybrid, LLC', 'turbine_capacity (KW)'] = [2500]\n",
    "\n",
    "# check project_name = \"Lake Region Community Hybrid, LLC\"\n",
    "wind_turbine_df[wind_turbine_df['project_name'] == 'Lake Region Community Hybrid, LLC']"
   ]
  },
  {
   "cell_type": "code",
   "execution_count": null,
   "metadata": {},
   "outputs": [],
   "source": []
  },
  {
   "cell_type": "code",
   "execution_count": 109,
   "metadata": {},
   "outputs": [],
   "source": [
    "# save file to csv, removing '_rename.csv' to '_proj_capacity.csv'\n",
    "wind_turbine_df.to_csv(filename.replace('_rename.csv', '_proj_capacity.csv'), index=False)"
   ]
  }
 ],
 "metadata": {
  "kernelspec": {
   "display_name": "Python 3",
   "language": "python",
   "name": "python3"
  },
  "language_info": {
   "codemirror_mode": {
    "name": "ipython",
    "version": 3
   },
   "file_extension": ".py",
   "mimetype": "text/x-python",
   "name": "python",
   "nbconvert_exporter": "python",
   "pygments_lexer": "ipython3",
   "version": "3.10.1"
  },
  "orig_nbformat": 4
 },
 "nbformat": 4,
 "nbformat_minor": 2
}
