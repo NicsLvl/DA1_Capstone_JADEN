{
 "cells": [
  {
   "cell_type": "code",
   "execution_count": 1,
   "metadata": {},
   "outputs": [],
   "source": [
    "import pandas as pd\n",
    "import numpy as np"
   ]
  },
  {
   "cell_type": "code",
   "execution_count": 2,
   "metadata": {},
   "outputs": [],
   "source": [
    "df_2021 = pd.read_excel(r\"C:\\Users\\danie\\Downloads\\sprint\\eia860_10y\\3_2_Wind_Y2021.xlsx\",\n",
    "                        sheet_name=\"Operable\", header=1)\n",
    "df_2020 = pd.read_excel(r\"C:\\Users\\danie\\Downloads\\sprint\\eia860_10y\\3_2_Wind_Y2020.xlsx\",\n",
    "                        sheet_name=\"Operable\", header=1)\n",
    "df_2019 = pd.read_excel(r\"C:\\Users\\danie\\Downloads\\sprint\\eia860_10y\\3_2_Wind_Y2019.xlsx\",\n",
    "                        sheet_name=\"Operable\", header=1)\n",
    "df_2018 = pd.read_excel(r\"C:\\Users\\danie\\Downloads\\sprint\\eia860_10y\\3_2_Wind_Y2018.xlsx\",\n",
    "                        sheet_name=\"Operable\", header=1)\n",
    "df_2017 = pd.read_excel(r\"C:\\Users\\danie\\Downloads\\sprint\\eia860_10y\\3_2_Wind_Y2017.xlsx\",\n",
    "                        sheet_name=\"Operable\", header=1)\n",
    "df_2016 = pd.read_excel(r\"C:\\Users\\danie\\Downloads\\sprint\\eia860_10y\\3_2_Wind_Y2016.xlsx\",\n",
    "                        sheet_name=\"Operable\", header=1)\n",
    "df_2015 = pd.read_excel(r\"C:\\Users\\danie\\Downloads\\sprint\\eia860_10y\\3_2_Wind_Y2015.xlsx\",\n",
    "                        sheet_name=\"Operable\", header=1)\n",
    "df_2014 = pd.read_excel(r\"C:\\Users\\danie\\Downloads\\sprint\\eia860_10y\\3_2_Wind_Y2014.xlsx\",\n",
    "                        sheet_name=\"Operable\", header=1)\n",
    "df_2013 = pd.read_excel(r\"C:\\Users\\danie\\Downloads\\sprint\\eia860_10y\\3_2_Wind_Y2013.xlsx\",  \n",
    "                        sheet_name=\"Operable\", header=1)"
   ]
  },
  {
   "cell_type": "code",
   "execution_count": 5,
   "metadata": {},
   "outputs": [
    {
     "data": {
      "text/plain": [
       "Index(['Utility ID', 'Utility Name', 'Plant Code', 'Plant Name', 'State',\n",
       "       'County', 'Generator ID', 'Status', 'Prime Mover', 'Sector Name',\n",
       "       'Sector', 'Nameplate Capacity (MW)', 'Summer Capacity (MW)',\n",
       "       'Winter Capacity (MW)', 'Operating Month', 'Operating Year',\n",
       "       'Predominant Turbine Manufacturer', 'Predominant Turbine Model Number',\n",
       "       'Design Wind Speed (mph)', 'Wind Quality Class',\n",
       "       'Turbine Hub Height (Feet)', 'FAA Obstacle Number'],\n",
       "      dtype='object')"
      ]
     },
     "execution_count": 5,
     "metadata": {},
     "output_type": "execute_result"
    }
   ],
   "source": [
    "df_2013.columns"
   ]
  },
  {
   "cell_type": "code",
   "execution_count": 3,
   "metadata": {},
   "outputs": [],
   "source": [
    "df_list = [df_2013, df_2014, df_2015, df_2016, df_2017, df_2018, df_2019, df_2020, df_2021]"
   ]
  },
  {
   "cell_type": "code",
   "execution_count": 6,
   "metadata": {},
   "outputs": [],
   "source": [
    "df_2013_2021_capacity = pd.DataFrame()"
   ]
  },
  {
   "cell_type": "code",
   "execution_count": 7,
   "metadata": {},
   "outputs": [],
   "source": [
    "for i, df in enumerate(df_list):\n",
    "    df['Year'] = 2013 + i\n",
    "    df_2013_2021_capacity = pd.concat([df_2013_2021_capacity, df[['Plant Code', 'Plant Name', 'Nameplate Capacity (MW)', 'Year']]])"
   ]
  },
  {
   "cell_type": "code",
   "execution_count": 9,
   "metadata": {},
   "outputs": [],
   "source": [
    "df_2013_2021_capacity.to_csv(r\"C:\\Users\\danie\\Downloads\\sprint\\eia860_10y\\df_2013_2021_capacity.csv\", index=False)"
   ]
  },
  {
   "cell_type": "code",
   "execution_count": 11,
   "metadata": {},
   "outputs": [],
   "source": [
    "df_2013_2021_capacity.groupby(['Plant Code', 'Year'])['Nameplate Capacity (MW)'].sum().reset_index()\\\n",
    "    .to_csv(r\"C:\\Users\\danie\\Downloads\\sprint\\eia860_10y\\df_2013_2021_capacity_sum.csv\", index=False)"
   ]
  },
  {
   "cell_type": "code",
   "execution_count": null,
   "metadata": {},
   "outputs": [],
   "source": [
    "df_2013_2021_capacity[df_2013_2021_capacity['Operator Name'] == '']"
   ]
  }
 ],
 "metadata": {
  "kernelspec": {
   "display_name": "Python 3",
   "language": "python",
   "name": "python3"
  },
  "language_info": {
   "codemirror_mode": {
    "name": "ipython",
    "version": 3
   },
   "file_extension": ".py",
   "mimetype": "text/x-python",
   "name": "python",
   "nbconvert_exporter": "python",
   "pygments_lexer": "ipython3",
   "version": "3.9.5"
  },
  "orig_nbformat": 4
 },
 "nbformat": 4,
 "nbformat_minor": 2
}
