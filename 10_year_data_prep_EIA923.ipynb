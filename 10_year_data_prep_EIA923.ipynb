{
 "cells": [
  {
   "cell_type": "code",
   "execution_count": null,
   "metadata": {},
   "outputs": [],
   "source": [
    "import pandas as pd"
   ]
  },
  {
   "cell_type": "code",
   "execution_count": null,
   "metadata": {},
   "outputs": [],
   "source": [
    "df_energy_2021 = pd.read_excel('eia923_10y_netgen/EIA923_Schedules_2_3_4_5_M_12_2021_Final_Revision.xlsx',\n",
    "                                    sheet_name='Page 1 Generation and Fuel Data', header=5)\n",
    "df_energy_2020 = pd.read_excel('eia923_10y_netgen/EIA923_Schedules_2_3_4_5_M_12_2020_Final_Revision.xlsx',\n",
    "                                    sheet_name='Page 1 Generation and Fuel Data', header=5)\n",
    "df_energy_2019 = pd.read_excel('eia923_10y_netgen/EIA923_Schedules_2_3_4_5_M_12_2019_Final_Revision.xlsx',\n",
    "                                    sheet_name='Page 1 Generation and Fuel Data', header=5)\n",
    "df_energy_2018 = pd.read_excel('eia923_10y_netgen/EIA923_Schedules_2_3_4_5_M_12_2018_Final_Revision.xlsx',\n",
    "                                    sheet_name='Page 1 Generation and Fuel Data', header=5)\n",
    "df_energy_2017 = pd.read_excel('eia923_10y_netgen/EIA923_Schedules_2_3_4_5_M_12_2017_Final_Revision.xlsx',\n",
    "                                    sheet_name='Page 1 Generation and Fuel Data', header=5)\n",
    "df_energy_2016 = pd.read_excel('eia923_10y_netgen/EIA923_Schedules_2_3_4_5_M_12_2016_Final_Revision.xlsx',\n",
    "                                    sheet_name='Page 1 Generation and Fuel Data', header=5)\n",
    "df_energy_2015 = pd.read_excel('eia923_10y_netgen/EIA923_Schedules_2_3_4_5_M_12_2015_Final_Revision.xlsx',\n",
    "                                    sheet_name='Page 1 Generation and Fuel Data', header=5)\n",
    "df_energy_2014 = pd.read_excel('eia923_10y_netgen/EIA923_Schedules_2_3_4_5_M_12_2014_Final_Revision.xlsx',\n",
    "                                    sheet_name='Page 1 Generation and Fuel Data', header=5)\n",
    "df_energy_2013 = pd.read_excel('eia923_10y_netgen/EIA923_Schedules_2_3_4_5_M_12_2013_Final_Revision.xlsx',\n",
    "                                    sheet_name='Page 1 Generation and Fuel Data', header=5)\n",
    "df_energy_2012 = pd.read_excel('eia923_10y_netgen/EIA923_Schedules_2_3_4_5_M_12_2012_Final_Revision.xlsx',\n",
    "                                    sheet_name='Page 1 Generation and Fuel Data', header=5)"
   ]
  },
  {
   "cell_type": "code",
   "execution_count": null,
   "metadata": {},
   "outputs": [],
   "source": [
    "annual = ['Plant Id', 'Plant Name', 'Operator Name', 'Operator Id', 'Plant State',\n",
    "       'Reported\\nPrime Mover', 'Reported\\nFuel Type Code', 'Total Fuel Consumption\\nMMBtu',\n",
    "       'Elec Fuel Consumption\\nMMBtu', 'Net Generation\\n(Megawatthours)',\n",
    "       'YEAR']\n",
    "\n",
    "quantity = ['Quantity\\nJanuary', 'Quantity\\nFebruary',\n",
    "       'Quantity\\nMarch', 'Quantity\\nApril', 'Quantity\\nMay', 'Quantity\\nJune',\n",
    "       'Quantity\\nJuly', 'Quantity\\nAugust', 'Quantity\\nSeptember',\n",
    "       'Quantity\\nOctober', 'Quantity\\nNovember', 'Quantity\\nDecember']\n",
    "\n",
    "elec_quantity = ['Elec_Quantity\\nJanuary', 'Elec_Quantity\\nFebruary',\n",
    "       'Elec_Quantity\\nMarch', 'Elec_Quantity\\nApril', 'Elec_Quantity\\nMay',\n",
    "       'Elec_Quantity\\nJune', 'Elec_Quantity\\nJuly', 'Elec_Quantity\\nAugust',\n",
    "       'Elec_Quantity\\nSeptember', 'Elec_Quantity\\nOctober',\n",
    "       'Elec_Quantity\\nNovember', 'Elec_Quantity\\nDecember']\n",
    "\n",
    "heat_content = ['MMBtuPer_Unit\\nJanuary', 'MMBtuPer_Unit\\nFebruary',\n",
    "       'MMBtuPer_Unit\\nMarch', 'MMBtuPer_Unit\\nApril', 'MMBtuPer_Unit\\nMay',\n",
    "       'MMBtuPer_Unit\\nJune', 'MMBtuPer_Unit\\nJuly', 'MMBtuPer_Unit\\nAugust',\n",
    "       'MMBtuPer_Unit\\nSeptember', 'MMBtuPer_Unit\\nOctober',\n",
    "       'MMBtuPer_Unit\\nNovember', 'MMBtuPer_Unit\\nDecember']\n",
    "\n",
    "fuel_consumed = ['Tot_MMBtu\\nJanuary', 'Tot_MMBtu\\nFebruary', 'Tot_MMBtu\\nMarch',\n",
    "       'Tot_MMBtu\\nApril', 'Tot_MMBtu\\nMay', 'Tot_MMBtu\\nJune',\n",
    "       'Tot_MMBtu\\nJuly', 'Tot_MMBtu\\nAugust', 'Tot_MMBtu\\nSeptember',\n",
    "       'Tot_MMBtu\\nOctober', 'Tot_MMBtu\\nNovember', 'Tot_MMBtu\\nDecember']\n",
    "\n",
    "quatity_consumed = ['Elec_MMBtu\\nJanuary', 'Elec_MMBtu\\nFebruary', 'Elec_MMBtu\\nMarch',\n",
    "                    'Elec_MMBtu\\nApril', 'Elec_MMBtu\\nMay', 'Elec_MMBtu\\nJune',\n",
    "                    'Elec_MMBtu\\nJuly', 'Elec_MMBtu\\nAugust', 'Elec_MMBtu\\nSeptember',\n",
    "                    'Elec_MMBtu\\nOctober', 'Elec_MMBtu\\nNovember', 'Elec_MMBtu\\nDecember']\n",
    "\n",
    "net_generation = ['Netgen\\nJanuary', 'Netgen\\nFebruary', 'Netgen\\nMarch',\n",
    "                  'Netgen\\nApril', 'Netgen\\nMay', 'Netgen\\nJune',\n",
    "                  'Netgen\\nJuly', 'Netgen\\nAugust', 'Netgen\\nSeptember',\n",
    "                  'Netgen\\nOctober', 'Netgen\\nNovember', 'Netgen\\nDecember']"
   ]
  },
  {
   "cell_type": "code",
   "execution_count": null,
   "metadata": {},
   "outputs": [],
   "source": [
    "# function for converting the data from wide to long format\n",
    "def create_monthly_data(df):\n",
    "\n",
    "    df_quantity = pd.melt(df[['Plant Id','Operator Name', 'Reported\\nPrime Mover', 'YEAR'] + quantity], id_vars=['Plant Id','Operator Name', 'Reported\\nPrime Mover', 'YEAR'], var_name='Month', value_name='Quantity')\n",
    "    df_quantity['Month'] = df_quantity['Month'].str.split('\\n').str[1]\n",
    "    df_monthly = df_quantity\n",
    "\n",
    "    df_ele_quantity = pd.melt(df[['Plant Id','Operator Name', 'Reported\\nPrime Mover', 'YEAR'] + elec_quantity], id_vars=['Plant Id','Operator Name', 'Reported\\nPrime Mover', 'YEAR'], var_name='Month', value_name='Elec_Quantity')\n",
    "    df_monthly['Elec_Quantity'] = df_ele_quantity['Elec_Quantity']\n",
    "\n",
    "    df_heat_content = pd.melt(df[['Plant Id','Operator Name', 'Reported\\nPrime Mover', 'YEAR'] + heat_content], id_vars=['Plant Id','Operator Name', 'Reported\\nPrime Mover', 'YEAR'], var_name='Month', value_name='MMBtuPer_Unit')\n",
    "    df_monthly['MMBtuPer_Unit'] = df_heat_content['MMBtuPer_Unit']\n",
    "\n",
    "    df_fuel_consumed = pd.melt(df[['Plant Id','Operator Name', 'Reported\\nPrime Mover', 'YEAR'] + fuel_consumed], id_vars=['Plant Id','Operator Name', 'Reported\\nPrime Mover', 'YEAR'], var_name='Month', value_name='Tot_MMBtu')\n",
    "    df_monthly['Tot_MMBtu'] = df_fuel_consumed['Tot_MMBtu']\n",
    "\n",
    "    df_quatity_consumed = pd.melt(df[['Plant Id','Operator Name', 'Reported\\nPrime Mover', 'YEAR'] + quatity_consumed], id_vars=['Plant Id','Operator Name', 'Reported\\nPrime Mover', 'YEAR'], var_name='Month', value_name='Elec_MMBtu')\n",
    "    df_monthly['Elec_MMBtu'] = df_quatity_consumed['Elec_MMBtu']\n",
    "\n",
    "    df_net_generation = pd.melt(df[['Plant Id','Operator Name', 'Reported\\nPrime Mover', 'YEAR'] + net_generation], id_vars=['Plant Id','Operator Name', 'Reported\\nPrime Mover', 'YEAR'], var_name='Month', value_name='Netgen')\n",
    "    df_monthly['Netgen'] = df_net_generation['Netgen']\n",
    "\n",
    "    df_monthly.to_csv(f\"eia923_10y_netgen/monthly_data_{df_monthly['YEAR'][0]}.csv\", index=False)"
   ]
  },
  {
   "cell_type": "code",
   "execution_count": null,
   "metadata": {},
   "outputs": [],
   "source": [
    "# creating monthly data for each year\n",
    "df_list = [df_energy_2021, df_energy_2020, df_energy_2019, df_energy_2018, df_energy_2017,\n",
    "           df_energy_2016, df_energy_2015, df_energy_2014, df_energy_2013, df_energy_2012]\n",
    "for df in df_list:\n",
    "    create_monthly_data(df)"
   ]
  },
  {
   "cell_type": "code",
   "execution_count": null,
   "metadata": {},
   "outputs": [],
   "source": [
    "# reading monthly data for each year generated from the above code\n",
    "df_monthly_2021 = pd.read_csv('eia923_10y_netgen/monthly_data_2021.csv')\n",
    "df_monthly_2020 = pd.read_csv('eia923_10y_netgen/monthly_data_2020.csv')\n",
    "df_monthly_2019 = pd.read_csv('eia923_10y_netgen/monthly_data_2019.csv')\n",
    "df_monthly_2018 = pd.read_csv('eia923_10y_netgen/monthly_data_2018.csv')\n",
    "df_monthly_2017 = pd.read_csv('eia923_10y_netgen/monthly_data_2017.csv')\n",
    "df_monthly_2017['YEAR'] = 2017\n",
    "df_monthly_2016 = pd.read_csv('eia923_10y_netgen/monthly_data_2016.csv')\n",
    "df_monthly_2016['YEAR'] = 2016\n",
    "df_monthly_2015 = pd.read_csv('eia923_10y_netgen/monthly_data_2015.csv')\n",
    "df_monthly_2015['YEAR'] = 2015\n",
    "df_monthly_2014 = pd.read_csv('eia923_10y_netgen/monthly_data_2014.csv')\n",
    "df_monthly_2014['YEAR'] = 2014\n",
    "df_monthly_2013 = pd.read_csv('eia923_10y_netgen/monthly_data_2013.csv')\n",
    "df_monthly_2012 = pd.read_csv('eia923_10y_netgen/monthly_data_2012.csv')\n",
    "\n",
    "# concatenating all the monthly data for each year\n",
    "df_monthly_2012_2021 = pd.concat([df_monthly_2021, df_monthly_2020, df_monthly_2019, df_monthly_2018, df_monthly_2017,\n",
    "                                  df_monthly_2016, df_monthly_2015, df_monthly_2014, df_monthly_2013, df_monthly_2012], ignore_index=True)\n",
    "df_monthly_2012_2021.to_csv('Use this dataset/monthly_data_2012_2021.csv', index=False)"
   ]
  },
  {
   "cell_type": "code",
   "execution_count": null,
   "metadata": {},
   "outputs": [],
   "source": [
    "# concate month and year\n",
    "df_monthly_2012_2021['date'] = df_monthly_2012_2021['Month'] + ' ' + df_monthly_2012_2021['YEAR'].astype(str)"
   ]
  },
  {
   "cell_type": "code",
   "execution_count": null,
   "metadata": {},
   "outputs": [],
   "source": [
    "# filter out row with 'Reported\\nPrime Mover' == 'ws' and 'wt'\n",
    "print(len(df_monthly_2012_2021))\n",
    "df_monthly_2012_2021_wt_ws = df_monthly_2012_2021[(df_monthly_2012_2021['Reported\\nPrime Mover'] == 'WT') | (df_monthly_2012_2021['Reported\\nPrime Mover'] == 'WS')]\n",
    "print(len(df_monthly_2012_2021_wt_ws))"
   ]
  },
  {
   "cell_type": "code",
   "execution_count": null,
   "metadata": {},
   "outputs": [],
   "source": [
    "# export only wind turbine data to csv\n",
    "df_monthly_2012_2021_wt_ws.to_csv('Use this dataset/monthly_data_2012_2021_wt_ws.csv', index=False)"
   ]
  },
  {
   "cell_type": "code",
   "execution_count": null,
   "metadata": {},
   "outputs": [],
   "source": []
  }
 ],
 "metadata": {
  "language_info": {
   "name": "python"
  },
  "orig_nbformat": 4
 },
 "nbformat": 4,
 "nbformat_minor": 2
}
