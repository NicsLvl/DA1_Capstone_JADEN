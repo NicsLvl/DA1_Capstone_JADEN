{
 "cells": [
  {
   "attachments": {},
   "cell_type": "markdown",
   "metadata": {},
   "source": [
    "## Import libraries"
   ]
  },
  {
   "cell_type": "code",
   "execution_count": 1,
   "metadata": {},
   "outputs": [],
   "source": [
    "# import libraries\n",
    "import pandas as pd\n",
    "from bs4 import BeautifulSoup\n",
    "import requests\n"
   ]
  },
  {
   "attachments": {},
   "cell_type": "markdown",
   "metadata": {},
   "source": [
    "## Get data dictionary from HTML"
   ]
  },
  {
   "cell_type": "code",
   "execution_count": 2,
   "metadata": {},
   "outputs": [
    {
     "data": {
      "text/html": [
       "<div>\n",
       "<style scoped>\n",
       "    .dataframe tbody tr th:only-of-type {\n",
       "        vertical-align: middle;\n",
       "    }\n",
       "\n",
       "    .dataframe tbody tr th {\n",
       "        vertical-align: top;\n",
       "    }\n",
       "\n",
       "    .dataframe thead th {\n",
       "        text-align: right;\n",
       "    }\n",
       "</style>\n",
       "<table border=\"1\" class=\"dataframe\">\n",
       "  <thead>\n",
       "    <tr style=\"text-align: right;\">\n",
       "      <th></th>\n",
       "      <th>Key</th>\n",
       "      <th>Value Type</th>\n",
       "      <th>Key Description</th>\n",
       "    </tr>\n",
       "  </thead>\n",
       "  <tbody>\n",
       "    <tr>\n",
       "      <th>0</th>\n",
       "      <td>case_id</td>\n",
       "      <td>number (integer)</td>\n",
       "      <td>Unique stable identification number.</td>\n",
       "    </tr>\n",
       "    <tr>\n",
       "      <th>1</th>\n",
       "      <td>faa_ors</td>\n",
       "      <td>string</td>\n",
       "      <td>Unique identifier for cross-reference to the Federal Aviation Administration (FAA) digital obstacle files.</td>\n",
       "    </tr>\n",
       "    <tr>\n",
       "      <th>2</th>\n",
       "      <td>faa_asn</td>\n",
       "      <td>string</td>\n",
       "      <td>Unique identifier for cross-reference to the FAA obstruction evaluation airport airspace analysis dataset.</td>\n",
       "    </tr>\n",
       "    <tr>\n",
       "      <th>3</th>\n",
       "      <td>usgs_pr_id</td>\n",
       "      <td>number (integer)</td>\n",
       "      <td>Unique identifier for cross-reference to the 2014 USGS turbine dataset.</td>\n",
       "    </tr>\n",
       "    <tr>\n",
       "      <th>4</th>\n",
       "      <td>t_state</td>\n",
       "      <td>string</td>\n",
       "      <td>State where turbine is located.</td>\n",
       "    </tr>\n",
       "  </tbody>\n",
       "</table>\n",
       "</div>"
      ],
      "text/plain": [
       "          Key        Value Type  \\\n",
       "0     case_id  number (integer)   \n",
       "1     faa_ors            string   \n",
       "2     faa_asn            string   \n",
       "3  usgs_pr_id  number (integer)   \n",
       "4     t_state            string   \n",
       "\n",
       "                                                                                              Key Description  \n",
       "0                                                                        Unique stable identification number.  \n",
       "1  Unique identifier for cross-reference to the Federal Aviation Administration (FAA) digital obstacle files.  \n",
       "2  Unique identifier for cross-reference to the FAA obstruction evaluation airport airspace analysis dataset.  \n",
       "3                                     Unique identifier for cross-reference to the 2014 USGS turbine dataset.  \n",
       "4                                                                             State where turbine is located.  "
      ]
     },
     "execution_count": 2,
     "metadata": {},
     "output_type": "execute_result"
    }
   ],
   "source": [
    "# define url\n",
    "data_dictionary_url = 'https://eerscmap.usgs.gov/uswtdb/api-doc/'\n",
    "\n",
    "# get request\n",
    "response = requests.get(data_dictionary_url).text\n",
    "\n",
    "# find all tables\n",
    "tables_df_list = pd.read_html(response)\n",
    "\n",
    "# get first table\n",
    "data_dictionary = tables_df_list[0]\n",
    "\n",
    "# show the whole length of the column names\n",
    "pd.set_option('display.max_colwidth', None)\n",
    "\n",
    "# print the first 5 rows\n",
    "data_dictionary.head()"
   ]
  },
  {
   "cell_type": "code",
   "execution_count": 3,
   "metadata": {},
   "outputs": [],
   "source": [
    "# replace \"â\" in \"Key Description\" column with \"--\"\n",
    "data_dictionary['Key Description'] = data_dictionary['Key Description'].str.replace('â', '--')\n",
    "\n",
    "# save to xlsx\n",
    "data_dictionary.to_excel('windturbine_datadictionary.xlsx', index=False)"
   ]
  },
  {
   "attachments": {},
   "cell_type": "markdown",
   "metadata": {},
   "source": [
    "## Add descriptive name to data dictionary"
   ]
  },
  {
   "cell_type": "code",
   "execution_count": 4,
   "metadata": {},
   "outputs": [
    {
     "data": {
      "text/html": [
       "<div>\n",
       "<style scoped>\n",
       "    .dataframe tbody tr th:only-of-type {\n",
       "        vertical-align: middle;\n",
       "    }\n",
       "\n",
       "    .dataframe tbody tr th {\n",
       "        vertical-align: top;\n",
       "    }\n",
       "\n",
       "    .dataframe thead th {\n",
       "        text-align: right;\n",
       "    }\n",
       "</style>\n",
       "<table border=\"1\" class=\"dataframe\">\n",
       "  <thead>\n",
       "    <tr style=\"text-align: right;\">\n",
       "      <th></th>\n",
       "      <th>Key</th>\n",
       "      <th>Value Type</th>\n",
       "      <th>Key Description</th>\n",
       "      <th>Column Name</th>\n",
       "      <th>url</th>\n",
       "    </tr>\n",
       "  </thead>\n",
       "  <tbody>\n",
       "    <tr>\n",
       "      <th>0</th>\n",
       "      <td>case_id</td>\n",
       "      <td>number (integer)</td>\n",
       "      <td>Unique stable identification number.</td>\n",
       "      <td>case_id</td>\n",
       "      <td>NaN</td>\n",
       "    </tr>\n",
       "    <tr>\n",
       "      <th>1</th>\n",
       "      <td>faa_ors</td>\n",
       "      <td>string</td>\n",
       "      <td>Unique identifier for cross-reference to the F...</td>\n",
       "      <td>faa_digital_obstacle_id</td>\n",
       "      <td>https://www.faa.gov/air_traffic/flight_info/ae...</td>\n",
       "    </tr>\n",
       "    <tr>\n",
       "      <th>2</th>\n",
       "      <td>faa_asn</td>\n",
       "      <td>string</td>\n",
       "      <td>Unique identifier for cross-reference to the F...</td>\n",
       "      <td>faa_obstruction_evaluation_id</td>\n",
       "      <td>https://www.faa.gov/air_traffic/obstruction_ev...</td>\n",
       "    </tr>\n",
       "    <tr>\n",
       "      <th>3</th>\n",
       "      <td>usgs_pr_id</td>\n",
       "      <td>number (integer)</td>\n",
       "      <td>Unique identifier for cross-reference to the 2...</td>\n",
       "      <td>usgs_id</td>\n",
       "      <td>NaN</td>\n",
       "    </tr>\n",
       "    <tr>\n",
       "      <th>4</th>\n",
       "      <td>t_state</td>\n",
       "      <td>string</td>\n",
       "      <td>State where turbine is located.</td>\n",
       "      <td>state</td>\n",
       "      <td>NaN</td>\n",
       "    </tr>\n",
       "  </tbody>\n",
       "</table>\n",
       "</div>"
      ],
      "text/plain": [
       "          Key        Value Type  \\\n",
       "0     case_id  number (integer)   \n",
       "1     faa_ors            string   \n",
       "2     faa_asn            string   \n",
       "3  usgs_pr_id  number (integer)   \n",
       "4     t_state            string   \n",
       "\n",
       "                                     Key Description  \\\n",
       "0               Unique stable identification number.   \n",
       "1  Unique identifier for cross-reference to the F...   \n",
       "2  Unique identifier for cross-reference to the F...   \n",
       "3  Unique identifier for cross-reference to the 2...   \n",
       "4                    State where turbine is located.   \n",
       "\n",
       "                     Column Name  \\\n",
       "0                        case_id   \n",
       "1        faa_digital_obstacle_id   \n",
       "2  faa_obstruction_evaluation_id   \n",
       "3                        usgs_id   \n",
       "4                          state   \n",
       "\n",
       "                                                 url  \n",
       "0                                                NaN  \n",
       "1  https://www.faa.gov/air_traffic/flight_info/ae...  \n",
       "2  https://www.faa.gov/air_traffic/obstruction_ev...  \n",
       "3                                                NaN  \n",
       "4                                                NaN  "
      ]
     },
     "execution_count": 4,
     "metadata": {},
     "output_type": "execute_result"
    }
   ],
   "source": [
    "# read excel file\n",
    "data_dictionary = pd.read_excel('windturbine_datadictionary_updated.xlsx')\n",
    "\n",
    "# reset the column width\n",
    "pd.set_option('display.max_colwidth', 50)\n",
    "\n",
    "# print the first 5 rows\n",
    "data_dictionary.head()"
   ]
  }
 ],
 "metadata": {
  "kernelspec": {
   "display_name": "Python 3",
   "language": "python",
   "name": "python3"
  },
  "language_info": {
   "codemirror_mode": {
    "name": "ipython",
    "version": 3
   },
   "file_extension": ".py",
   "mimetype": "text/x-python",
   "name": "python",
   "nbconvert_exporter": "python",
   "pygments_lexer": "ipython3",
   "version": "3.10.1"
  },
  "orig_nbformat": 4
 },
 "nbformat": 4,
 "nbformat_minor": 2
}
