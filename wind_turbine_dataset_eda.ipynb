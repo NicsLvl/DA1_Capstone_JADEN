{
 "cells": [
  {
   "attachments": {},
   "cell_type": "markdown",
   "metadata": {},
   "source": [
    "## Import libraries"
   ]
  },
  {
   "cell_type": "code",
   "execution_count": 1,
   "metadata": {},
   "outputs": [],
   "source": [
    "import pandas as pd\n",
    "import seaborn as sns\n",
    "import matplotlib.pyplot as plt"
   ]
  },
  {
   "attachments": {},
   "cell_type": "markdown",
   "metadata": {},
   "source": [
    "## Initial EDA"
   ]
  },
  {
   "cell_type": "code",
   "execution_count": 79,
   "metadata": {},
   "outputs": [
    {
     "name": "stdout",
     "output_type": "stream",
     "text": [
      "<class 'pandas.core.frame.DataFrame'>\n",
      "RangeIndex: 72669 entries, 0 to 72668\n",
      "Data columns (total 27 columns):\n",
      " #   Column                              Non-Null Count  Dtype  \n",
      "---  ------                              --------------  -----  \n",
      " 0   case_id                             72669 non-null  int64  \n",
      " 1   faa_digital_obstacle_id             67310 non-null  object \n",
      " 2   faa_obstruction_evaluation_id       67537 non-null  object \n",
      " 3   usgs_id                             37904 non-null  float64\n",
      " 4   eia_id                              68347 non-null  float64\n",
      " 5   state                               72669 non-null  object \n",
      " 6   county                              72669 non-null  object \n",
      " 7   state_county_id                     72669 non-null  int64  \n",
      " 8   project_name                        72669 non-null  object \n",
      " 9   operational_year                    72113 non-null  float64\n",
      " 10  project_turbine_num                 72669 non-null  int64  \n",
      " 11  cumulative_capacity (MW)            69255 non-null  float64\n",
      " 12  manufacturer                        68096 non-null  object \n",
      " 13  model_name                          67959 non-null  object \n",
      " 14  turbine_capacity (KW)               68267 non-null  float64\n",
      " 15  hub_height (m)                      67771 non-null  float64\n",
      " 16  rotor_diameter (m)                  67829 non-null  float64\n",
      " 17  rotor_swept area (m2)               67829 non-null  float64\n",
      " 18  max_height (m)                      67770 non-null  float64\n",
      " 19  retrofit (y/n)                      72669 non-null  int64  \n",
      " 20  retrofit_year                       6711 non-null   float64\n",
      " 21  attribute_confidence_level (1/2/3)  72669 non-null  int64  \n",
      " 22  location_confidence_level (1/2/3)   72669 non-null  int64  \n",
      " 23  location_verification_date          64710 non-null  object \n",
      " 24  image_source                        72669 non-null  object \n",
      " 25  xlong                               72669 non-null  float64\n",
      " 26  ylat                                72669 non-null  float64\n",
      "dtypes: float64(12), int64(6), object(9)\n",
      "memory usage: 15.0+ MB\n"
     ]
    }
   ],
   "source": [
    "# define file name\n",
    "filename = r'2023 Dataset\\uswtdb_v5_3_20230113_rename.csv'\n",
    "\n",
    "# read csv file\n",
    "wind_turbine_df = pd.read_csv(filename)\n",
    "\n",
    "# get information about the dataframe\n",
    "wind_turbine_df.info()"
   ]
  },
  {
   "cell_type": "code",
   "execution_count": 80,
   "metadata": {},
   "outputs": [
    {
     "data": {
      "text/plain": [
       "retrofit_year                    65958\n",
       "usgs_id                          34765\n",
       "location_verification_date        7959\n",
       "faa_digital_obstacle_id           5359\n",
       "faa_obstruction_evaluation_id     5132\n",
       "max_height (m)                    4899\n",
       "hub_height (m)                    4898\n",
       "rotor_swept area (m2)             4840\n",
       "rotor_diameter (m)                4840\n",
       "model_name                        4710\n",
       "manufacturer                      4573\n",
       "turbine_capacity (KW)             4402\n",
       "eia_id                            4322\n",
       "cumulative_capacity (MW)          3414\n",
       "operational_year                   556\n",
       "dtype: int64"
      ]
     },
     "execution_count": 80,
     "metadata": {},
     "output_type": "execute_result"
    }
   ],
   "source": [
    "# check for missing values\n",
    "wind_turbine_df.isnull().sum().sort_values(ascending=False)[lambda x: x > 0]"
   ]
  },
  {
   "cell_type": "code",
   "execution_count": 81,
   "metadata": {},
   "outputs": [
    {
     "data": {
      "text/plain": [
       "0    True\n",
       "Name: retrofit (y/n), dtype: bool"
      ]
     },
     "execution_count": 81,
     "metadata": {},
     "output_type": "execute_result"
    }
   ],
   "source": [
    "# check if the number of 0 is equal to the number of missing values in retrofit_year\n",
    "# count number of 0 in retrofit (y/n) given that retrofit_year is null\n",
    "wind_turbine_df[wind_turbine_df['retrofit_year'].isnull()]['retrofit (y/n)'].value_counts()\\\n",
    "== wind_turbine_df.isnull().sum().sort_values(ascending=False)[lambda x: x > 0][0]"
   ]
  },
  {
   "attachments": {},
   "cell_type": "markdown",
   "metadata": {},
   "source": [
    "retrofit_year is empty as no retrofitting was done to the respective turbines"
   ]
  },
  {
   "attachments": {},
   "cell_type": "markdown",
   "metadata": {},
   "source": [
    "usgs_id probably not useful, defined as: \"Unique identifier for cross-reference to the 2014 USGS turbine dataset\" "
   ]
  },
  {
   "attachments": {},
   "cell_type": "markdown",
   "metadata": {},
   "source": [
    "location_verification_date probably not useful, defined as: \"Date of image used to visually verify turbine location. Note if source of image is NAIP, the month and day were set to 01/01.\" "
   ]
  },
  {
   "attachments": {},
   "cell_type": "markdown",
   "metadata": {},
   "source": [
    "faa_digital_obstacle_id and faa_obstruction_evaluation_id probably not useful"
   ]
  },
  {
   "cell_type": "code",
   "execution_count": 82,
   "metadata": {},
   "outputs": [
    {
     "data": {
      "text/plain": [
       "NaN           4576\n",
       "180            176\n",
       "V17             49\n",
       "NPS-100         24\n",
       "M65             23\n",
       "250KW            8\n",
       "NW100            7\n",
       "M Sojets         7\n",
       "NM44             5\n",
       "M108             3\n",
       "GE 2.3-116       2\n",
       "NM52             2\n",
       "75/L7            2\n",
       "E-3120           2\n",
       "108              2\n",
       "NM54             1\n",
       "Micon            1\n",
       "V7               1\n",
       "M530             1\n",
       "EW 1.5S          1\n",
       "V34              1\n",
       "60               1\n",
       "120              1\n",
       "Micon 100        1\n",
       "V27              1\n",
       "Zond             1\n",
       "Name: model_name, dtype: int64"
      ]
     },
     "execution_count": 82,
     "metadata": {},
     "output_type": "execute_result"
    }
   ],
   "source": [
    "# count the number of missing values in max_height (m) for every model_name\n",
    "wind_turbine_df[wind_turbine_df['max_height (m)'].isnull()]['model_name'].value_counts(dropna=False)"
   ]
  },
  {
   "cell_type": "code",
   "execution_count": 83,
   "metadata": {},
   "outputs": [
    {
     "name": "stdout",
     "output_type": "stream",
     "text": [
      "0\n"
     ]
    }
   ],
   "source": [
    "# create a list of model_name that has missing values in max_height (m)\n",
    "model_name_list = wind_turbine_df[wind_turbine_df['max_height (m)'].isnull()]['model_name'].unique()\n",
    "\n",
    "# check for non empty values in max_height (m) for every model_name in model_name_list\n",
    "for model_name in model_name_list:\n",
    "    non_empty_values = wind_turbine_df.loc[(wind_turbine_df['model_name'] == model_name) & \n",
    "                                           (wind_turbine_df['max_height (m)'].notnull())]\n",
    "\n",
    "# print the number of rows in non_empty_values\n",
    "print(non_empty_values.shape[0])"
   ]
  },
  {
   "cell_type": "code",
   "execution_count": 84,
   "metadata": {},
   "outputs": [
    {
     "data": {
      "text/plain": [
       "NaN             4576\n",
       "180              176\n",
       "V17               49\n",
       "NPS-100           23\n",
       "M65               23\n",
       "250KW              8\n",
       "M Sojets           7\n",
       "NW100              7\n",
       "NM44               5\n",
       "M108               3\n",
       "75/L7              2\n",
       "E-3120             2\n",
       "108                2\n",
       "NM52               2\n",
       "GE 2.3-116         2\n",
       "V34                1\n",
       "V27                1\n",
       "Micon 100          1\n",
       "120                1\n",
       "60                 1\n",
       "EW 1.5S            1\n",
       "Silver Eagle       1\n",
       "V7                 1\n",
       "NM54               1\n",
       "M530               1\n",
       "Zond               1\n",
       "Name: model_name, dtype: int64"
      ]
     },
     "execution_count": 84,
     "metadata": {},
     "output_type": "execute_result"
    }
   ],
   "source": [
    "# count the number of missing values in hub_height (m) for every model_name\n",
    "wind_turbine_df[wind_turbine_df['hub_height (m)'].isnull()]['model_name'].value_counts(dropna=False)"
   ]
  },
  {
   "cell_type": "code",
   "execution_count": 85,
   "metadata": {},
   "outputs": [
    {
     "name": "stdout",
     "output_type": "stream",
     "text": [
      "0\n"
     ]
    }
   ],
   "source": [
    "# create a list of model_name that has missing values in hub_height (m)\n",
    "model_name_list = wind_turbine_df[wind_turbine_df['hub_height (m)'].isnull()]['model_name'].unique()\n",
    "\n",
    "# check for non empty values in hub_height (m) for every model_name in model_name_list\n",
    "for model_name in model_name_list:\n",
    "    non_empty_values = wind_turbine_df.loc[(wind_turbine_df['model_name'] == model_name) & \n",
    "                                           (wind_turbine_df['hub_height (m)'].notnull())]\n",
    "\n",
    "# print the number of rows in non_empty_values\n",
    "print(non_empty_values.shape[0])"
   ]
  },
  {
   "cell_type": "code",
   "execution_count": 86,
   "metadata": {},
   "outputs": [
    {
     "data": {
      "text/plain": [
       "NaN          4563\n",
       "Bonus         132\n",
       "GE Wind         5\n",
       "Vestas          3\n",
       "Endurance       2\n",
       "Bora            2\n",
       "Entegrity       1\n",
       "NEG Micon       1\n",
       "Seaforth        1\n",
       "Name: manufacturer, dtype: int64"
      ]
     },
     "execution_count": 86,
     "metadata": {},
     "output_type": "execute_result"
    }
   ],
   "source": [
    "# count the number of missing values in model_name for every manufacturer\n",
    "wind_turbine_df[wind_turbine_df['model_name'].isnull()]['manufacturer'].value_counts(dropna=False)"
   ]
  },
  {
   "cell_type": "code",
   "execution_count": 87,
   "metadata": {},
   "outputs": [
    {
     "name": "stdout",
     "output_type": "stream",
     "text": [
      "11\n"
     ]
    }
   ],
   "source": [
    "# create a list of manufacturer_name that has missing values in model_name\n",
    "manufacturer_name_list = wind_turbine_df[wind_turbine_df['model_name'].isnull()]['manufacturer'].unique()\n",
    "\n",
    "# check for non empty values in model_name for every manufacturer in manufacturer_name_list\n",
    "for manufacturer_name in manufacturer_name_list:\n",
    "    non_empty_values = wind_turbine_df.loc[(wind_turbine_df['manufacturer'] == manufacturer_name) & \n",
    "                                           (wind_turbine_df['model_name'].notnull())]\n",
    "    \n",
    "# print the number of rows in non_empty_values\n",
    "print(non_empty_values.shape[0])"
   ]
  },
  {
   "cell_type": "code",
   "execution_count": 76,
   "metadata": {},
   "outputs": [
    {
     "data": {
      "text/html": [
       "<div>\n",
       "<style scoped>\n",
       "    .dataframe tbody tr th:only-of-type {\n",
       "        vertical-align: middle;\n",
       "    }\n",
       "\n",
       "    .dataframe tbody tr th {\n",
       "        vertical-align: top;\n",
       "    }\n",
       "\n",
       "    .dataframe thead th {\n",
       "        text-align: right;\n",
       "    }\n",
       "</style>\n",
       "<table border=\"1\" class=\"dataframe\">\n",
       "  <thead>\n",
       "    <tr style=\"text-align: right;\">\n",
       "      <th></th>\n",
       "      <th>manufacturer</th>\n",
       "      <th>model_name</th>\n",
       "    </tr>\n",
       "  </thead>\n",
       "  <tbody>\n",
       "    <tr>\n",
       "      <th>32592</th>\n",
       "      <td>Seaforth</td>\n",
       "      <td>AOC15/65</td>\n",
       "    </tr>\n",
       "    <tr>\n",
       "      <th>32593</th>\n",
       "      <td>Seaforth</td>\n",
       "      <td>AOC15/65</td>\n",
       "    </tr>\n",
       "    <tr>\n",
       "      <th>32594</th>\n",
       "      <td>Seaforth</td>\n",
       "      <td>AOC15/65</td>\n",
       "    </tr>\n",
       "    <tr>\n",
       "      <th>32595</th>\n",
       "      <td>Seaforth</td>\n",
       "      <td>AOC15/65</td>\n",
       "    </tr>\n",
       "    <tr>\n",
       "      <th>32596</th>\n",
       "      <td>Seaforth</td>\n",
       "      <td>AOC15/65</td>\n",
       "    </tr>\n",
       "    <tr>\n",
       "      <th>32597</th>\n",
       "      <td>Seaforth</td>\n",
       "      <td>AOC15/65</td>\n",
       "    </tr>\n",
       "    <tr>\n",
       "      <th>32603</th>\n",
       "      <td>Seaforth</td>\n",
       "      <td>AOC15/65</td>\n",
       "    </tr>\n",
       "    <tr>\n",
       "      <th>32604</th>\n",
       "      <td>Seaforth</td>\n",
       "      <td>AOC15/65</td>\n",
       "    </tr>\n",
       "    <tr>\n",
       "      <th>32605</th>\n",
       "      <td>Seaforth</td>\n",
       "      <td>AOC15/65</td>\n",
       "    </tr>\n",
       "    <tr>\n",
       "      <th>71016</th>\n",
       "      <td>Seaforth</td>\n",
       "      <td>AOC15/65</td>\n",
       "    </tr>\n",
       "    <tr>\n",
       "      <th>71017</th>\n",
       "      <td>Seaforth</td>\n",
       "      <td>AOC15/65</td>\n",
       "    </tr>\n",
       "  </tbody>\n",
       "</table>\n",
       "</div>"
      ],
      "text/plain": [
       "      manufacturer model_name\n",
       "32592     Seaforth   AOC15/65\n",
       "32593     Seaforth   AOC15/65\n",
       "32594     Seaforth   AOC15/65\n",
       "32595     Seaforth   AOC15/65\n",
       "32596     Seaforth   AOC15/65\n",
       "32597     Seaforth   AOC15/65\n",
       "32603     Seaforth   AOC15/65\n",
       "32604     Seaforth   AOC15/65\n",
       "32605     Seaforth   AOC15/65\n",
       "71016     Seaforth   AOC15/65\n",
       "71017     Seaforth   AOC15/65"
      ]
     },
     "execution_count": 76,
     "metadata": {},
     "output_type": "execute_result"
    }
   ],
   "source": [
    "# print non_empty_values\n",
    "non_empty_values[['manufacturer', 'model_name']]"
   ]
  },
  {
   "cell_type": "code",
   "execution_count": 88,
   "metadata": {},
   "outputs": [
    {
     "data": {
      "text/plain": [
       "AOC15/65    11\n",
       "NaN          1\n",
       "Name: model_name, dtype: int64"
      ]
     },
     "execution_count": 88,
     "metadata": {},
     "output_type": "execute_result"
    }
   ],
   "source": [
    "# print unique values for model_name for manufacturer = 'Seaforth'\n",
    "wind_turbine_df.loc[wind_turbine_df['manufacturer'] == 'Seaforth']['model_name'].value_counts(dropna=False)"
   ]
  },
  {
   "cell_type": "code",
   "execution_count": 111,
   "metadata": {},
   "outputs": [
    {
     "data": {
      "text/plain": [
       "AOC15/65    12\n",
       "Name: model_name, dtype: int64"
      ]
     },
     "execution_count": 111,
     "metadata": {},
     "output_type": "execute_result"
    }
   ],
   "source": [
    "# replace missing values in model_name with the value in manufacturer = 'Seaforth' with model_name = 'AOC15/65'\n",
    "wind_turbine_df.loc[(wind_turbine_df['manufacturer'] == 'Seaforth') &\n",
    "                    (wind_turbine_df['model_name'].isnull()), 'model_name'] = 'AOC15/65'\n",
    "\n",
    "# check the change in manufacturer = 'Seaforth'\n",
    "wind_turbine_df.loc[wind_turbine_df['manufacturer'] == 'Seaforth']['model_name'].value_counts(dropna=False)"
   ]
  },
  {
   "cell_type": "code",
   "execution_count": 78,
   "metadata": {},
   "outputs": [
    {
     "data": {
      "text/plain": [
       "NaN               4563\n",
       "Danwind 23/160      10\n",
       "Name: model_name, dtype: int64"
      ]
     },
     "execution_count": 78,
     "metadata": {},
     "output_type": "execute_result"
    }
   ],
   "source": [
    "# count the number of missing values in manufacturer for every model_name\n",
    "wind_turbine_df[wind_turbine_df['manufacturer'].isnull()]['model_name'].value_counts(dropna=False)"
   ]
  },
  {
   "cell_type": "code",
   "execution_count": 106,
   "metadata": {},
   "outputs": [
    {
     "data": {
      "text/plain": [
       "NaN    10\n",
       "Name: manufacturer, dtype: int64"
      ]
     },
     "execution_count": 106,
     "metadata": {},
     "output_type": "execute_result"
    }
   ],
   "source": [
    "# count the number of 'Danwind 23/160' owned by each manufacturer\n",
    "wind_turbine_df[wind_turbine_df['model_name'] == 'Danwind 23/160']['manufacturer'].value_counts(dropna=False)"
   ]
  },
  {
   "cell_type": "code",
   "execution_count": 107,
   "metadata": {},
   "outputs": [
    {
     "data": {
      "text/plain": [
       "NaN      4401\n",
       "NW100       1\n",
       "Name: model_name, dtype: int64"
      ]
     },
     "execution_count": 107,
     "metadata": {},
     "output_type": "execute_result"
    }
   ],
   "source": [
    "# count the number of missing values in turbine_capcity (KW) for every model\n",
    "wind_turbine_df[wind_turbine_df['turbine_capacity (KW)'].isnull()]['model_name'].value_counts(dropna=False)"
   ]
  },
  {
   "cell_type": "code",
   "execution_count": 108,
   "metadata": {},
   "outputs": [
    {
     "data": {
      "text/plain": [
       "100.0    58\n",
       "NaN       1\n",
       "Name: turbine_capacity (KW), dtype: int64"
      ]
     },
     "execution_count": 108,
     "metadata": {},
     "output_type": "execute_result"
    }
   ],
   "source": [
    "# show the turbine_capacity (KW) for model_name = 'NW100'\n",
    "wind_turbine_df[wind_turbine_df['model_name'] == 'NW100']['turbine_capacity (KW)'].value_counts(dropna=False)"
   ]
  },
  {
   "cell_type": "code",
   "execution_count": 110,
   "metadata": {},
   "outputs": [
    {
     "data": {
      "text/plain": [
       "100.0    59\n",
       "Name: turbine_capacity (KW), dtype: int64"
      ]
     },
     "execution_count": 110,
     "metadata": {},
     "output_type": "execute_result"
    }
   ],
   "source": [
    "# replace the missing values in turbine_capacity (KW) with the value in model_name = 'NW100' with turbine_capacity (KW) = 100\n",
    "wind_turbine_df.loc[(wind_turbine_df['model_name'] == 'NW100') &\n",
    "                    (wind_turbine_df['turbine_capacity (KW)'].isnull()), 'turbine_capacity (KW)'] = 100\n",
    "\n",
    "# check the change in turbine_capacity (KW) for model_name = 'NW100'\n",
    "wind_turbine_df[wind_turbine_df['model_name'] == 'NW100']['turbine_capacity (KW)'].value_counts(dropna=False)"
   ]
  },
  {
   "attachments": {},
   "cell_type": "markdown",
   "metadata": {},
   "source": [
    "eia_id probably not useful, defined as: \"Plant ID from Energy Information Administration (EIA)\" "
   ]
  },
  {
   "cell_type": "code",
   "execution_count": 112,
   "metadata": {},
   "outputs": [
    {
     "data": {
      "text/plain": [
       "unknown Tehachapi Wind Resource Area 1    713\n",
       "Stateline Wind Project                    454\n",
       "Mesa Wind Farm                            432\n",
       "Western Spirit                            377\n",
       "Traverse Wind                             323\n",
       "                                         ... \n",
       "Gaines Cavern Wind Project                  1\n",
       "Mount St. Mary's Abbey                      1\n",
       "GobNob                                      1\n",
       "Golden Acorn Casino                         1\n",
       "Scituate Wind                               1\n",
       "Name: project_name, Length: 1736, dtype: int64"
      ]
     },
     "execution_count": 112,
     "metadata": {},
     "output_type": "execute_result"
    }
   ],
   "source": [
    "# obtain value counts for project_name\n",
    "wind_turbine_df['project_name'].value_counts(dropna=False)"
   ]
  },
  {
   "cell_type": "code",
   "execution_count": 117,
   "metadata": {},
   "outputs": [
    {
     "data": {
      "text/plain": [
       "project_name\n",
       "McNeilus                4\n",
       "South Hurlburt          4\n",
       "Wilton Wind Farm        4\n",
       "Crow Lake               3\n",
       "Shepherds Flat          3\n",
       "                       ..\n",
       "Green Mountain Power    1\n",
       "Gratiot County          1\n",
       "Gratiot                 1\n",
       "Grant Wind              1\n",
       "Grant Plains            1\n",
       "Name: cumulative_capacity (MW), Length: 1548, dtype: int64"
      ]
     },
     "execution_count": 117,
     "metadata": {},
     "output_type": "execute_result"
    }
   ],
   "source": [
    "# check if the cumulative_capacity (KW) is equal across the same project_name\n",
    "wind_turbine_df.groupby('project_name')['cumulative_capacity (MW)'].nunique().sort_values(ascending=False)[lambda x: x > 0]"
   ]
  },
  {
   "cell_type": "code",
   "execution_count": 122,
   "metadata": {},
   "outputs": [
    {
     "data": {
      "text/html": [
       "<div>\n",
       "<style scoped>\n",
       "    .dataframe tbody tr th:only-of-type {\n",
       "        vertical-align: middle;\n",
       "    }\n",
       "\n",
       "    .dataframe tbody tr th {\n",
       "        vertical-align: top;\n",
       "    }\n",
       "\n",
       "    .dataframe thead th {\n",
       "        text-align: right;\n",
       "    }\n",
       "</style>\n",
       "<table border=\"1\" class=\"dataframe\">\n",
       "  <thead>\n",
       "    <tr style=\"text-align: right;\">\n",
       "      <th></th>\n",
       "      <th>cumulative_capacity (MW)</th>\n",
       "    </tr>\n",
       "  </thead>\n",
       "  <tbody>\n",
       "    <tr>\n",
       "      <th>0</th>\n",
       "      <td>9.00</td>\n",
       "    </tr>\n",
       "    <tr>\n",
       "      <th>1</th>\n",
       "      <td>22.80</td>\n",
       "    </tr>\n",
       "    <tr>\n",
       "      <th>2</th>\n",
       "      <td>9.90</td>\n",
       "    </tr>\n",
       "    <tr>\n",
       "      <th>3</th>\n",
       "      <td>1.65</td>\n",
       "    </tr>\n",
       "  </tbody>\n",
       "</table>\n",
       "</div>"
      ],
      "text/plain": [
       "   cumulative_capacity (MW)\n",
       "0                      9.00\n",
       "1                     22.80\n",
       "2                      9.90\n",
       "3                      1.65"
      ]
     },
     "execution_count": 122,
     "metadata": {},
     "output_type": "execute_result"
    }
   ],
   "source": [
    "# show the unique values for cumulative_capacity (MW) for project_name = 'McNeilus'\n",
    "pd.DataFrame(wind_turbine_df[wind_turbine_df['project_name'] == 'McNeilus']['cumulative_capacity (MW)'].unique(), columns=['cumulative_capacity (MW)'])"
   ]
  },
  {
   "cell_type": "code",
   "execution_count": 154,
   "metadata": {},
   "outputs": [
    {
     "data": {
      "text/plain": [
       "project_name\n",
       "San Gorgonio Farms Wind Farm    5\n",
       "McNeilus                        4\n",
       "Twin Groves II                  3\n",
       "Mars Hill                       3\n",
       "Seven Mile Hill I & II          3\n",
       "                               ..\n",
       "Hidalgo                         1\n",
       "Heritage Garden                 1\n",
       "Heritage Flight                 1\n",
       "Hereford 1                      1\n",
       "unknown Yuma County             1\n",
       "Name: project_turbine_num, Length: 1736, dtype: int64"
      ]
     },
     "execution_count": 154,
     "metadata": {},
     "output_type": "execute_result"
    }
   ],
   "source": [
    "# check if the turbine_num is equal across the same project_name\n",
    "wind_turbine_df.groupby('project_name')['project_turbine_num'].nunique().sort_values(ascending=False)[lambda x: x > 0]"
   ]
  },
  {
   "cell_type": "code",
   "execution_count": 125,
   "metadata": {},
   "outputs": [
    {
     "data": {
      "text/html": [
       "<div>\n",
       "<style scoped>\n",
       "    .dataframe tbody tr th:only-of-type {\n",
       "        vertical-align: middle;\n",
       "    }\n",
       "\n",
       "    .dataframe tbody tr th {\n",
       "        vertical-align: top;\n",
       "    }\n",
       "\n",
       "    .dataframe thead th {\n",
       "        text-align: right;\n",
       "    }\n",
       "</style>\n",
       "<table border=\"1\" class=\"dataframe\">\n",
       "  <thead>\n",
       "    <tr style=\"text-align: right;\">\n",
       "      <th></th>\n",
       "      <th>project_turbine_num</th>\n",
       "    </tr>\n",
       "  </thead>\n",
       "  <tbody>\n",
       "    <tr>\n",
       "      <th>0</th>\n",
       "      <td>6</td>\n",
       "    </tr>\n",
       "    <tr>\n",
       "      <th>1</th>\n",
       "      <td>24</td>\n",
       "    </tr>\n",
       "    <tr>\n",
       "      <th>2</th>\n",
       "      <td>10</td>\n",
       "    </tr>\n",
       "    <tr>\n",
       "      <th>3</th>\n",
       "      <td>1</td>\n",
       "    </tr>\n",
       "  </tbody>\n",
       "</table>\n",
       "</div>"
      ],
      "text/plain": [
       "   project_turbine_num\n",
       "0                    6\n",
       "1                   24\n",
       "2                   10\n",
       "3                    1"
      ]
     },
     "execution_count": 125,
     "metadata": {},
     "output_type": "execute_result"
    }
   ],
   "source": [
    "# show the unique values for turbine number for project_name = 'McNeilus'\n",
    "pd.DataFrame(wind_turbine_df[wind_turbine_df['project_name'] == 'McNeilus']['project_turbine_num'].unique(), columns=['project_turbine_num'])"
   ]
  },
  {
   "cell_type": "code",
   "execution_count": 152,
   "metadata": {},
   "outputs": [
    {
     "data": {
      "text/html": [
       "<div>\n",
       "<style scoped>\n",
       "    .dataframe tbody tr th:only-of-type {\n",
       "        vertical-align: middle;\n",
       "    }\n",
       "\n",
       "    .dataframe tbody tr th {\n",
       "        vertical-align: top;\n",
       "    }\n",
       "\n",
       "    .dataframe thead th {\n",
       "        text-align: right;\n",
       "    }\n",
       "</style>\n",
       "<table border=\"1\" class=\"dataframe\">\n",
       "  <thead>\n",
       "    <tr style=\"text-align: right;\">\n",
       "      <th></th>\n",
       "      <th>eia_id</th>\n",
       "      <th>project_name</th>\n",
       "      <th>project_turbine_num</th>\n",
       "      <th>cumulative_capacity (MW)</th>\n",
       "      <th>turbine_capacity (KW)</th>\n",
       "    </tr>\n",
       "  </thead>\n",
       "  <tbody>\n",
       "    <tr>\n",
       "      <th>38306</th>\n",
       "      <td>56054.0</td>\n",
       "      <td>McNeilus</td>\n",
       "      <td>6</td>\n",
       "      <td>9.00</td>\n",
       "      <td>1500.0</td>\n",
       "    </tr>\n",
       "    <tr>\n",
       "      <th>38307</th>\n",
       "      <td>56054.0</td>\n",
       "      <td>McNeilus</td>\n",
       "      <td>24</td>\n",
       "      <td>22.80</td>\n",
       "      <td>950.0</td>\n",
       "    </tr>\n",
       "    <tr>\n",
       "      <th>38310</th>\n",
       "      <td>56307.0</td>\n",
       "      <td>McNeilus</td>\n",
       "      <td>6</td>\n",
       "      <td>9.90</td>\n",
       "      <td>1650.0</td>\n",
       "    </tr>\n",
       "    <tr>\n",
       "      <th>38317</th>\n",
       "      <td>56054.0</td>\n",
       "      <td>McNeilus</td>\n",
       "      <td>10</td>\n",
       "      <td>9.00</td>\n",
       "      <td>900.0</td>\n",
       "    </tr>\n",
       "    <tr>\n",
       "      <th>38319</th>\n",
       "      <td>56054.0</td>\n",
       "      <td>McNeilus</td>\n",
       "      <td>1</td>\n",
       "      <td>1.65</td>\n",
       "      <td>1650.0</td>\n",
       "    </tr>\n",
       "  </tbody>\n",
       "</table>\n",
       "</div>"
      ],
      "text/plain": [
       "        eia_id project_name  project_turbine_num  cumulative_capacity (MW)  \\\n",
       "38306  56054.0     McNeilus                    6                      9.00   \n",
       "38307  56054.0     McNeilus                   24                     22.80   \n",
       "38310  56307.0     McNeilus                    6                      9.90   \n",
       "38317  56054.0     McNeilus                   10                      9.00   \n",
       "38319  56054.0     McNeilus                    1                      1.65   \n",
       "\n",
       "       turbine_capacity (KW)  \n",
       "38306                 1500.0  \n",
       "38307                  950.0  \n",
       "38310                 1650.0  \n",
       "38317                  900.0  \n",
       "38319                 1650.0  "
      ]
     },
     "execution_count": 152,
     "metadata": {},
     "output_type": "execute_result"
    }
   ],
   "source": [
    "# show unique values for project_name equals to 'McNeilus'\n",
    "wind_turbine_df[wind_turbine_df['project_name'] == 'McNeilus']\\\n",
    "[['eia_id','project_name', 'project_turbine_num', 'cumulative_capacity (MW)', 'turbine_capacity (KW)']]\\\n",
    ".drop_duplicates()"
   ]
  },
  {
   "cell_type": "code",
   "execution_count": 155,
   "metadata": {},
   "outputs": [
    {
     "data": {
      "text/plain": [
       "eia_id\n",
       "57833.0    6\n",
       "57294.0    5\n",
       "56608.0    4\n",
       "7526.0     4\n",
       "57291.0    4\n",
       "          ..\n",
       "57214.0    1\n",
       "57239.0    1\n",
       "57240.0    1\n",
       "57244.0    1\n",
       "65525.0    1\n",
       "Name: project_turbine_num, Length: 1255, dtype: int64"
      ]
     },
     "execution_count": 155,
     "metadata": {},
     "output_type": "execute_result"
    }
   ],
   "source": [
    "# check if the project_turbine_num equals to the count of each eia_id\n",
    "wind_turbine_df.groupby('eia_id')['project_turbine_num'].nunique()[lambda x: x > 0].sort_values(ascending=False)\n"
   ]
  },
  {
   "cell_type": "code",
   "execution_count": 149,
   "metadata": {},
   "outputs": [
    {
     "data": {
      "text/html": [
       "<div>\n",
       "<style scoped>\n",
       "    .dataframe tbody tr th:only-of-type {\n",
       "        vertical-align: middle;\n",
       "    }\n",
       "\n",
       "    .dataframe tbody tr th {\n",
       "        vertical-align: top;\n",
       "    }\n",
       "\n",
       "    .dataframe thead th {\n",
       "        text-align: right;\n",
       "    }\n",
       "</style>\n",
       "<table border=\"1\" class=\"dataframe\">\n",
       "  <thead>\n",
       "    <tr style=\"text-align: right;\">\n",
       "      <th></th>\n",
       "      <th>eia_id</th>\n",
       "      <th>project_name</th>\n",
       "      <th>project_turbine_num</th>\n",
       "      <th>cumulative_capacity (MW)</th>\n",
       "      <th>turbine_capacity (KW)</th>\n",
       "    </tr>\n",
       "  </thead>\n",
       "  <tbody>\n",
       "    <tr>\n",
       "      <th>394</th>\n",
       "      <td>57833.0</td>\n",
       "      <td>Alta II</td>\n",
       "      <td>50</td>\n",
       "      <td>150.0</td>\n",
       "      <td>3000.0</td>\n",
       "    </tr>\n",
       "    <tr>\n",
       "      <th>487</th>\n",
       "      <td>57833.0</td>\n",
       "      <td>Alta IV</td>\n",
       "      <td>34</td>\n",
       "      <td>102.0</td>\n",
       "      <td>3000.0</td>\n",
       "    </tr>\n",
       "    <tr>\n",
       "      <th>556</th>\n",
       "      <td>57833.0</td>\n",
       "      <td>Alta V</td>\n",
       "      <td>56</td>\n",
       "      <td>168.0</td>\n",
       "      <td>3000.0</td>\n",
       "    </tr>\n",
       "    <tr>\n",
       "      <th>602</th>\n",
       "      <td>57833.0</td>\n",
       "      <td>Alta VI (partial)</td>\n",
       "      <td>44</td>\n",
       "      <td>132.0</td>\n",
       "      <td>3000.0</td>\n",
       "    </tr>\n",
       "    <tr>\n",
       "      <th>645</th>\n",
       "      <td>57833.0</td>\n",
       "      <td>Alta VIII (partial)</td>\n",
       "      <td>43</td>\n",
       "      <td>129.0</td>\n",
       "      <td>3000.0</td>\n",
       "    </tr>\n",
       "    <tr>\n",
       "      <th>42034</th>\n",
       "      <td>57833.0</td>\n",
       "      <td>Mustang Hills</td>\n",
       "      <td>6</td>\n",
       "      <td>18.0</td>\n",
       "      <td>3000.0</td>\n",
       "    </tr>\n",
       "  </tbody>\n",
       "</table>\n",
       "</div>"
      ],
      "text/plain": [
       "        eia_id         project_name  project_turbine_num  \\\n",
       "394    57833.0              Alta II                   50   \n",
       "487    57833.0              Alta IV                   34   \n",
       "556    57833.0               Alta V                   56   \n",
       "602    57833.0    Alta VI (partial)                   44   \n",
       "645    57833.0  Alta VIII (partial)                   43   \n",
       "42034  57833.0        Mustang Hills                    6   \n",
       "\n",
       "       cumulative_capacity (MW)  turbine_capacity (KW)  \n",
       "394                       150.0                 3000.0  \n",
       "487                       102.0                 3000.0  \n",
       "556                       168.0                 3000.0  \n",
       "602                       132.0                 3000.0  \n",
       "645                       129.0                 3000.0  \n",
       "42034                      18.0                 3000.0  "
      ]
     },
     "execution_count": 149,
     "metadata": {},
     "output_type": "execute_result"
    }
   ],
   "source": [
    "# show the unique values for turbine number for eia_id = 57833.0\n",
    "wind_turbine_df[wind_turbine_df['eia_id'] == 57833.0]\\\n",
    "    [['eia_id','project_name', 'project_turbine_num', 'cumulative_capacity (MW)', 'turbine_capacity (KW)']]\\\n",
    "    .drop_duplicates()"
   ]
  },
  {
   "cell_type": "code",
   "execution_count": 157,
   "metadata": {},
   "outputs": [
    {
     "data": {
      "text/plain": [
       "eia_id\n",
       "57833.0    6\n",
       "57294.0    5\n",
       "6304.0     4\n",
       "57291.0    4\n",
       "56357.0    4\n",
       "          ..\n",
       "57239.0    1\n",
       "57240.0    1\n",
       "57244.0    1\n",
       "57251.0    1\n",
       "65525.0    1\n",
       "Name: cumulative_capacity (MW), Length: 1254, dtype: int64"
      ]
     },
     "execution_count": 157,
     "metadata": {},
     "output_type": "execute_result"
    }
   ],
   "source": [
    "# check if the cumulative_capacity (MW) equals to the count of each eia_id\n",
    "wind_turbine_df.groupby('eia_id')['cumulative_capacity (MW)'].nunique()[lambda x: x > 0].sort_values(ascending=False)"
   ]
  },
  {
   "cell_type": "code",
   "execution_count": 172,
   "metadata": {},
   "outputs": [
    {
     "data": {
      "text/plain": [
       "eia_id_project_name\n",
       "57526.0_South Hurlburt                  4\n",
       "56357.0_Wilton Wind Farm                4\n",
       "56252.0_Century Expansion               3\n",
       "56925.0_Crystal Lake II                 3\n",
       "56843.0_Seven Mile Hill I & II          3\n",
       "                                       ..\n",
       "57195.0_Lower Snake River Phase I       2\n",
       "50281.0_San Gorgonio Farms Wind Farm    2\n",
       "57296.0_Carleton College                2\n",
       "57332.0_Crossroads                      2\n",
       "nan_unknown Riverside County            2\n",
       "Name: cumulative_capacity (MW), Length: 66, dtype: int64"
      ]
     },
     "execution_count": 172,
     "metadata": {},
     "output_type": "execute_result"
    }
   ],
   "source": [
    "# concatenate the eia_id and project_name\n",
    "wind_turbine_df['eia_id_project_name'] = wind_turbine_df['eia_id'].astype(str) + '_' + wind_turbine_df['project_name'] #+ '_' + wind_turbine_df['location_verification_date'].astype(str)\n",
    "\n",
    "# show the unique values for eia_id_project_name\n",
    "wind_turbine_df.groupby('eia_id_project_name')['cumulative_capacity (MW)'].nunique()[lambda x: x > 1].sort_values(ascending=False)"
   ]
  },
  {
   "cell_type": "code",
   "execution_count": 173,
   "metadata": {},
   "outputs": [
    {
     "data": {
      "text/html": [
       "<div>\n",
       "<style scoped>\n",
       "    .dataframe tbody tr th:only-of-type {\n",
       "        vertical-align: middle;\n",
       "    }\n",
       "\n",
       "    .dataframe tbody tr th {\n",
       "        vertical-align: top;\n",
       "    }\n",
       "\n",
       "    .dataframe thead th {\n",
       "        text-align: right;\n",
       "    }\n",
       "</style>\n",
       "<table border=\"1\" class=\"dataframe\">\n",
       "  <thead>\n",
       "    <tr style=\"text-align: right;\">\n",
       "      <th></th>\n",
       "      <th>eia_id_project_name</th>\n",
       "      <th>eia_id</th>\n",
       "      <th>project_name</th>\n",
       "      <th>project_turbine_num</th>\n",
       "      <th>cumulative_capacity (MW)</th>\n",
       "      <th>turbine_capacity (KW)</th>\n",
       "      <th>operational_year</th>\n",
       "    </tr>\n",
       "  </thead>\n",
       "  <tbody>\n",
       "    <tr>\n",
       "      <th>58696</th>\n",
       "      <td>57526.0_South Hurlburt</td>\n",
       "      <td>57526.0</td>\n",
       "      <td>South Hurlburt</td>\n",
       "      <td>82</td>\n",
       "      <td>224.75</td>\n",
       "      <td>2750.0</td>\n",
       "      <td>2011.0</td>\n",
       "    </tr>\n",
       "    <tr>\n",
       "      <th>58697</th>\n",
       "      <td>57526.0_South Hurlburt</td>\n",
       "      <td>57526.0</td>\n",
       "      <td>South Hurlburt</td>\n",
       "      <td>23</td>\n",
       "      <td>63.25</td>\n",
       "      <td>2750.0</td>\n",
       "      <td>2012.0</td>\n",
       "    </tr>\n",
       "    <tr>\n",
       "      <th>58699</th>\n",
       "      <td>57526.0_South Hurlburt</td>\n",
       "      <td>57526.0</td>\n",
       "      <td>South Hurlburt</td>\n",
       "      <td>82</td>\n",
       "      <td>224.75</td>\n",
       "      <td>2500.0</td>\n",
       "      <td>2011.0</td>\n",
       "    </tr>\n",
       "    <tr>\n",
       "      <th>58757</th>\n",
       "      <td>57526.0_South Hurlburt</td>\n",
       "      <td>57526.0</td>\n",
       "      <td>South Hurlburt</td>\n",
       "      <td>116</td>\n",
       "      <td>290.00</td>\n",
       "      <td>2500.0</td>\n",
       "      <td>2012.0</td>\n",
       "    </tr>\n",
       "    <tr>\n",
       "      <th>58803</th>\n",
       "      <td>57526.0_South Hurlburt</td>\n",
       "      <td>57526.0</td>\n",
       "      <td>South Hurlburt</td>\n",
       "      <td>82</td>\n",
       "      <td>205.00</td>\n",
       "      <td>2500.0</td>\n",
       "      <td>2011.0</td>\n",
       "    </tr>\n",
       "  </tbody>\n",
       "</table>\n",
       "</div>"
      ],
      "text/plain": [
       "          eia_id_project_name   eia_id    project_name  project_turbine_num  \\\n",
       "58696  57526.0_South Hurlburt  57526.0  South Hurlburt                   82   \n",
       "58697  57526.0_South Hurlburt  57526.0  South Hurlburt                   23   \n",
       "58699  57526.0_South Hurlburt  57526.0  South Hurlburt                   82   \n",
       "58757  57526.0_South Hurlburt  57526.0  South Hurlburt                  116   \n",
       "58803  57526.0_South Hurlburt  57526.0  South Hurlburt                   82   \n",
       "\n",
       "       cumulative_capacity (MW)  turbine_capacity (KW)  operational_year  \n",
       "58696                    224.75                 2750.0            2011.0  \n",
       "58697                     63.25                 2750.0            2012.0  \n",
       "58699                    224.75                 2500.0            2011.0  \n",
       "58757                    290.00                 2500.0            2012.0  \n",
       "58803                    205.00                 2500.0            2011.0  "
      ]
     },
     "execution_count": 173,
     "metadata": {},
     "output_type": "execute_result"
    }
   ],
   "source": [
    "# show the unique values for eia_id_project_name equals to '56357.0_Wilton Wind Farm'\n",
    "wind_turbine_df[wind_turbine_df['eia_id_project_name'] == '57526.0_South Hurlburt']\\\n",
    "[['eia_id_project_name','eia_id','project_name', 'project_turbine_num', 'cumulative_capacity (MW)', 'turbine_capacity (KW)', 'operational_year']]\\\n",
    ".drop_duplicates()"
   ]
  },
  {
   "cell_type": "code",
   "execution_count": 167,
   "metadata": {},
   "outputs": [
    {
     "data": {
      "text/plain": [
       "Index(['case_id', 'faa_digital_obstacle_id', 'faa_obstruction_evaluation_id',\n",
       "       'usgs_id', 'eia_id', 'state', 'county', 'state_county_id',\n",
       "       'project_name', 'operational_year', 'project_turbine_num',\n",
       "       'cumulative_capacity (MW)', 'manufacturer', 'model_name',\n",
       "       'turbine_capacity (KW)', 'hub_height (m)', 'rotor_diameter (m)',\n",
       "       'rotor_swept area (m2)', 'max_height (m)', 'retrofit (y/n)',\n",
       "       'retrofit_year', 'attribute_confidence_level (1/2/3)',\n",
       "       'location_confidence_level (1/2/3)', 'location_verification_date',\n",
       "       'image_source', 'xlong', 'ylat', 'eia_id_project_name'],\n",
       "      dtype='object')"
      ]
     },
     "execution_count": 167,
     "metadata": {},
     "output_type": "execute_result"
    }
   ],
   "source": [
    "wind_turbine_df.columns"
   ]
  },
  {
   "cell_type": "code",
   "execution_count": 197,
   "metadata": {},
   "outputs": [
    {
     "data": {
      "text/html": [
       "<div>\n",
       "<style scoped>\n",
       "    .dataframe tbody tr th:only-of-type {\n",
       "        vertical-align: middle;\n",
       "    }\n",
       "\n",
       "    .dataframe tbody tr th {\n",
       "        vertical-align: top;\n",
       "    }\n",
       "\n",
       "    .dataframe thead th {\n",
       "        text-align: right;\n",
       "    }\n",
       "</style>\n",
       "<table border=\"1\" class=\"dataframe\">\n",
       "  <thead>\n",
       "    <tr style=\"text-align: right;\">\n",
       "      <th></th>\n",
       "      <th>eia_id</th>\n",
       "      <th>project_name</th>\n",
       "      <th>project_turbine_num</th>\n",
       "      <th>cumulative_capacity (MW)</th>\n",
       "      <th>retrofit (y/n)</th>\n",
       "      <th>retrofit_year</th>\n",
       "      <th>eia_id_project_name</th>\n",
       "    </tr>\n",
       "  </thead>\n",
       "  <tbody>\n",
       "    <tr>\n",
       "      <th>58757</th>\n",
       "      <td>57526.0</td>\n",
       "      <td>South Hurlburt</td>\n",
       "      <td>116</td>\n",
       "      <td>290.00</td>\n",
       "      <td>0</td>\n",
       "      <td>NaN</td>\n",
       "      <td>57526.0_South Hurlburt</td>\n",
       "    </tr>\n",
       "    <tr>\n",
       "      <th>58696</th>\n",
       "      <td>57526.0</td>\n",
       "      <td>South Hurlburt</td>\n",
       "      <td>82</td>\n",
       "      <td>224.75</td>\n",
       "      <td>1</td>\n",
       "      <td>2021.0</td>\n",
       "      <td>57526.0_South Hurlburt</td>\n",
       "    </tr>\n",
       "    <tr>\n",
       "      <th>58803</th>\n",
       "      <td>57526.0</td>\n",
       "      <td>South Hurlburt</td>\n",
       "      <td>82</td>\n",
       "      <td>205.00</td>\n",
       "      <td>1</td>\n",
       "      <td>2021.0</td>\n",
       "      <td>57526.0_South Hurlburt</td>\n",
       "    </tr>\n",
       "    <tr>\n",
       "      <th>58697</th>\n",
       "      <td>57526.0</td>\n",
       "      <td>South Hurlburt</td>\n",
       "      <td>23</td>\n",
       "      <td>63.25</td>\n",
       "      <td>1</td>\n",
       "      <td>2021.0</td>\n",
       "      <td>57526.0_South Hurlburt</td>\n",
       "    </tr>\n",
       "  </tbody>\n",
       "</table>\n",
       "</div>"
      ],
      "text/plain": [
       "        eia_id    project_name  project_turbine_num  cumulative_capacity (MW)  \\\n",
       "58757  57526.0  South Hurlburt                  116                    290.00   \n",
       "58696  57526.0  South Hurlburt                   82                    224.75   \n",
       "58803  57526.0  South Hurlburt                   82                    205.00   \n",
       "58697  57526.0  South Hurlburt                   23                     63.25   \n",
       "\n",
       "       retrofit (y/n)  retrofit_year     eia_id_project_name  \n",
       "58757               0            NaN  57526.0_South Hurlburt  \n",
       "58696               1         2021.0  57526.0_South Hurlburt  \n",
       "58803               1         2021.0  57526.0_South Hurlburt  \n",
       "58697               1         2021.0  57526.0_South Hurlburt  "
      ]
     },
     "execution_count": 197,
     "metadata": {},
     "output_type": "execute_result"
    }
   ],
   "source": [
    "pd.set_option('display.max_columns', None)\n",
    "wind_turbine_df[wind_turbine_df['eia_id_project_name'] == '57526.0_South Hurlburt']\\\n",
    "[['eia_id',\n",
    " 'project_name',\n",
    " 'project_turbine_num',\n",
    " 'cumulative_capacity (MW)',\n",
    " 'retrofit (y/n)',\n",
    " 'retrofit_year',\n",
    " 'eia_id_project_name']].drop_duplicates().sort_values(by=['cumulative_capacity (MW)'], ascending=False)"
   ]
  },
  {
   "cell_type": "code",
   "execution_count": 176,
   "metadata": {},
   "outputs": [
    {
     "data": {
      "text/plain": [
       "['case_id',\n",
       " 'faa_digital_obstacle_id',\n",
       " 'faa_obstruction_evaluation_id',\n",
       " 'usgs_id',\n",
       " 'eia_id',\n",
       " 'state',\n",
       " 'county',\n",
       " 'state_county_id',\n",
       " 'project_name',\n",
       " 'operational_year',\n",
       " 'project_turbine_num',\n",
       " 'cumulative_capacity (MW)',\n",
       " 'manufacturer',\n",
       " 'model_name',\n",
       " 'turbine_capacity (KW)',\n",
       " 'hub_height (m)',\n",
       " 'rotor_diameter (m)',\n",
       " 'rotor_swept area (m2)',\n",
       " 'max_height (m)',\n",
       " 'retrofit (y/n)',\n",
       " 'retrofit_year',\n",
       " 'attribute_confidence_level (1/2/3)',\n",
       " 'location_confidence_level (1/2/3)',\n",
       " 'location_verification_date',\n",
       " 'image_source',\n",
       " 'xlong',\n",
       " 'ylat',\n",
       " 'eia_id_project_name']"
      ]
     },
     "execution_count": 176,
     "metadata": {},
     "output_type": "execute_result"
    }
   ],
   "source": [
    "# list of all the columns\n",
    "list(wind_turbine_df.columns)"
   ]
  },
  {
   "cell_type": "code",
   "execution_count": null,
   "metadata": {},
   "outputs": [],
   "source": []
  }
 ],
 "metadata": {
  "kernelspec": {
   "display_name": "Python 3",
   "language": "python",
   "name": "python3"
  },
  "language_info": {
   "codemirror_mode": {
    "name": "ipython",
    "version": 3
   },
   "file_extension": ".py",
   "mimetype": "text/x-python",
   "name": "python",
   "nbconvert_exporter": "python",
   "pygments_lexer": "ipython3",
   "version": "3.10.1"
  },
  "orig_nbformat": 4
 },
 "nbformat": 4,
 "nbformat_minor": 2
}
