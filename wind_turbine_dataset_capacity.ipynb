{
 "cells": [
  {
   "attachments": {},
   "cell_type": "markdown",
   "metadata": {},
   "source": [
    "## Import libraries"
   ]
  },
  {
   "cell_type": "code",
   "execution_count": 29,
   "metadata": {},
   "outputs": [],
   "source": [
    "import pandas as pd\n",
    "import seaborn as sns\n",
    "import matplotlib.pyplot as plt"
   ]
  },
  {
   "cell_type": "code",
   "execution_count": null,
   "metadata": {},
   "outputs": [],
   "source": [
    "import pandas as pd\n",
    "import seaborn as sns\n",
    "import matplotlib.pyplot as plt"
   ]
  },
  {
   "attachments": {},
   "cell_type": "markdown",
   "metadata": {},
   "source": [
    "## Data Preprocessing"
   ]
  },
  {
   "cell_type": "code",
   "execution_count": 55,
   "metadata": {},
   "outputs": [
    {
     "name": "stderr",
     "output_type": "stream",
     "text": [
      "C:\\Users\\quakl\\AppData\\Local\\Temp\\ipykernel_21624\\587385051.py:5: DtypeWarning: Columns (5,19,20,21,22,23,24,25,26,27,28,29,30,31,32,33,34,35,36,37,38,39,40,41,42,43,44,45,46,47,48,49,50,51,52,53,54,55,56,57,58,59,60,61,62,63,64,65,66,67,68,69,70,71,72,73,74,75,76,77,78,79,80,81,82,83,84,85,86,87,88,89,90) have mixed types. Specify dtype option on import or set low_memory=False.\n",
      "  wind_turbine_df = pd.read_csv(filename)\n"
     ]
    },
    {
     "data": {
      "text/plain": [
       "(80103, 124)"
      ]
     },
     "execution_count": 55,
     "metadata": {},
     "output_type": "execute_result"
    }
   ],
   "source": [
    "# define file name\n",
    "filename = r'Use this dataset\\uswtdb_v5_0_20220427_rename.csv'\n",
    "\n",
    "# read csv file\n",
    "wind_turbine_df = pd.read_csv(filename)\n",
    "\n",
    "# check number of rows and columns\n",
    "wind_turbine_df.shape"
   ]
  },
  {
   "cell_type": "code",
   "execution_count": 56,
   "metadata": {},
   "outputs": [
    {
     "data": {
      "text/plain": [
       "Index(['Plant Id', 'Combined Heat And\\nPower Plant', 'Nuclear Unit Id',\n",
       "       'Plant Name', 'Operator Name', 'Operator Id', 'Plant State',\n",
       "       'Census Region', 'NERC Region', 'Reserved',\n",
       "       ...\n",
       "       'rotor_swept area (m2)', 'max_height (m)', 'retrofit (y/n)',\n",
       "       'retrofit_year', 'attribute_confidence_level (1/2/3)',\n",
       "       'location_confidence_level (1/2/3)', 'location_verification_date',\n",
       "       'image_source', 'xlong', 'ylat'],\n",
       "      dtype='object', length=124)"
      ]
     },
     "execution_count": 56,
     "metadata": {},
     "output_type": "execute_result"
    }
   ],
   "source": [
    "# get the columns of the dataframe\n",
    "wind_turbine_df.columns"
   ]
  },
  {
   "cell_type": "code",
   "execution_count": 57,
   "metadata": {},
   "outputs": [
    {
     "data": {
      "text/plain": [
       "15654"
      ]
     },
     "execution_count": 57,
     "metadata": {},
     "output_type": "execute_result"
    }
   ],
   "source": [
    "# filter unecessary columns\n",
    "wind_turbine_df = wind_turbine_df[[#'faa_digital_obstacle_id', 'faa_obstruction_evaluation_id', 'usgs_id', \n",
    "                                   'eia_id', 'state', 'county',\n",
    "                                   # 'state_county_id',\n",
    "                                   'project_name', 'operational_year', 'project_turbine_num',\n",
    "                                   'cumulative_capacity (MW)',\n",
    "                                   # 'manufacturer', 'model_name', \n",
    "                                   'turbine_capacity (KW)',\n",
    "                                   # 'hub_height (m)', \n",
    "                                   # 'rotor_diameter (m)', 'rotor_swept area (m2)', 'max_height (m)', 'retrofit (y/n)',\n",
    "                                   # 'retrofit_year', 'attribute_confidence_level (1/2/3)',\n",
    "                                   # 'location_confidence_level (1/2/3)', 'location_verification_date', 'image_source', \n",
    "                                   'xlong', 'ylat']]\n",
    "\n",
    "# check for duplicates\n",
    "wind_turbine_df.duplicated().sum()"
   ]
  },
  {
   "cell_type": "code",
   "execution_count": 58,
   "metadata": {},
   "outputs": [
    {
     "data": {
      "text/plain": [
       "(64449, 10)"
      ]
     },
     "execution_count": 58,
     "metadata": {},
     "output_type": "execute_result"
    }
   ],
   "source": [
    "# remove duplicates\n",
    "wind_turbine_df = wind_turbine_df.drop_duplicates()\n",
    "\n",
    "# check number of rows and columns\n",
    "wind_turbine_df.shape"
   ]
  },
  {
   "cell_type": "code",
   "execution_count": 59,
   "metadata": {},
   "outputs": [
    {
     "data": {
      "text/plain": [
       "eia_id                        1\n",
       "state                         1\n",
       "county                        1\n",
       "project_name                  1\n",
       "operational_year              3\n",
       "project_turbine_num           1\n",
       "cumulative_capacity (MW)      3\n",
       "turbine_capacity (KW)       756\n",
       "xlong                         1\n",
       "ylat                          1\n",
       "dtype: int64"
      ]
     },
     "execution_count": 59,
     "metadata": {},
     "output_type": "execute_result"
    }
   ],
   "source": [
    "# check null values\n",
    "wind_turbine_df.isnull().sum()"
   ]
  },
  {
   "cell_type": "code",
   "execution_count": 83,
   "metadata": {},
   "outputs": [
    {
     "data": {
      "text/plain": [
       "cumulative_capacity (MW)      2\n",
       "turbine_capacity (KW)       755\n",
       "dtype: int64"
      ]
     },
     "execution_count": 83,
     "metadata": {},
     "output_type": "execute_result"
    }
   ],
   "source": [
    "# remove eia_id null values\n",
    "wind_turbine_df = wind_turbine_df[wind_turbine_df['eia_id'].notna()]\n",
    "\n",
    "# check null values\n",
    "wind_turbine_df.isnull().sum()[lambda x: x > 0]"
   ]
  },
  {
   "cell_type": "code",
   "execution_count": 68,
   "metadata": {},
   "outputs": [
    {
     "data": {
      "text/plain": [
       "eia_id                      float64\n",
       "state                        object\n",
       "county                       object\n",
       "project_name                 object\n",
       "operational_year            float64\n",
       "project_turbine_num         float64\n",
       "cumulative_capacity (MW)    float64\n",
       "turbine_capacity (KW)       float64\n",
       "xlong                       float64\n",
       "ylat                        float64\n",
       "dtype: object"
      ]
     },
     "execution_count": 68,
     "metadata": {},
     "output_type": "execute_result"
    }
   ],
   "source": [
    "# check data types\n",
    "wind_turbine_df.dtypes"
   ]
  },
  {
   "cell_type": "code",
   "execution_count": 70,
   "metadata": {},
   "outputs": [
    {
     "data": {
      "text/plain": [
       "0"
      ]
     },
     "execution_count": 70,
     "metadata": {},
     "output_type": "execute_result"
    }
   ],
   "source": [
    "# check eia_id using is_integer function\n",
    "wind_turbine_df['eia_id'].apply(lambda x: pd.api.types.is_integer(x)).sum()"
   ]
  },
  {
   "cell_type": "code",
   "execution_count": 72,
   "metadata": {},
   "outputs": [
    {
     "data": {
      "text/plain": [
       "0"
      ]
     },
     "execution_count": 72,
     "metadata": {},
     "output_type": "execute_result"
    }
   ],
   "source": [
    "# change eia_id data type to integer\n",
    "wind_turbine_df['eia_id'] = wind_turbine_df['eia_id'].astype('int64')\n",
    "\n",
    "# check operational_year using is_integer function\n",
    "wind_turbine_df['operational_year'].apply(lambda x: pd.api.types.is_integer(x)).sum()"
   ]
  },
  {
   "cell_type": "code",
   "execution_count": 74,
   "metadata": {},
   "outputs": [
    {
     "data": {
      "text/html": [
       "<div>\n",
       "<style scoped>\n",
       "    .dataframe tbody tr th:only-of-type {\n",
       "        vertical-align: middle;\n",
       "    }\n",
       "\n",
       "    .dataframe tbody tr th {\n",
       "        vertical-align: top;\n",
       "    }\n",
       "\n",
       "    .dataframe thead th {\n",
       "        text-align: right;\n",
       "    }\n",
       "</style>\n",
       "<table border=\"1\" class=\"dataframe\">\n",
       "  <thead>\n",
       "    <tr style=\"text-align: right;\">\n",
       "      <th></th>\n",
       "      <th>eia_id</th>\n",
       "      <th>state</th>\n",
       "      <th>county</th>\n",
       "      <th>project_name</th>\n",
       "      <th>operational_year</th>\n",
       "      <th>project_turbine_num</th>\n",
       "      <th>cumulative_capacity (MW)</th>\n",
       "      <th>turbine_capacity (KW)</th>\n",
       "      <th>xlong</th>\n",
       "      <th>ylat</th>\n",
       "    </tr>\n",
       "  </thead>\n",
       "  <tbody>\n",
       "    <tr>\n",
       "      <th>6733</th>\n",
       "      <td>50532</td>\n",
       "      <td>CA</td>\n",
       "      <td>Kern County</td>\n",
       "      <td>Historic Victory Garden (Wind Stream)</td>\n",
       "      <td>NaN</td>\n",
       "      <td>215.0</td>\n",
       "      <td>17.0</td>\n",
       "      <td>NaN</td>\n",
       "      <td>-118.375799</td>\n",
       "      <td>35.074235</td>\n",
       "    </tr>\n",
       "    <tr>\n",
       "      <th>6777</th>\n",
       "      <td>50532</td>\n",
       "      <td>CA</td>\n",
       "      <td>Kern County</td>\n",
       "      <td>Historic Victory Garden (Wind Stream)</td>\n",
       "      <td>NaN</td>\n",
       "      <td>215.0</td>\n",
       "      <td>17.0</td>\n",
       "      <td>NaN</td>\n",
       "      <td>-118.375610</td>\n",
       "      <td>35.074281</td>\n",
       "    </tr>\n",
       "  </tbody>\n",
       "</table>\n",
       "</div>"
      ],
      "text/plain": [
       "      eia_id state       county                           project_name  \\\n",
       "6733   50532    CA  Kern County  Historic Victory Garden (Wind Stream)   \n",
       "6777   50532    CA  Kern County  Historic Victory Garden (Wind Stream)   \n",
       "\n",
       "      operational_year  project_turbine_num  cumulative_capacity (MW)  \\\n",
       "6733               NaN                215.0                      17.0   \n",
       "6777               NaN                215.0                      17.0   \n",
       "\n",
       "      turbine_capacity (KW)       xlong       ylat  \n",
       "6733                    NaN -118.375799  35.074235  \n",
       "6777                    NaN -118.375610  35.074281  "
      ]
     },
     "execution_count": 74,
     "metadata": {},
     "output_type": "execute_result"
    }
   ],
   "source": [
    "# show operational_year null values\n",
    "wind_turbine_df[wind_turbine_df['operational_year'].isnull()]"
   ]
  },
  {
   "cell_type": "code",
   "execution_count": 75,
   "metadata": {},
   "outputs": [
    {
     "data": {
      "text/plain": [
       "0"
      ]
     },
     "execution_count": 75,
     "metadata": {},
     "output_type": "execute_result"
    }
   ],
   "source": [
    "# replace project_name = \"Historic Victory Garden (Wind Stream)\" with operational_year = 1982\n",
    "# http://www.windstreamproperties.com/victory-garden.html - proj details\n",
    "# https://eerscmap.usgs.gov/uswtdb/viewer/#13.39/35.06889/-118.38267 - proj operational date\n",
    "wind_turbine_df.loc[wind_turbine_df['project_name'] == 'Historic Victory Garden (Wind Stream)', 'operational_year'] = 1982\n",
    "\n",
    "# convert operational_year to integer\n",
    "wind_turbine_df['operational_year'] = wind_turbine_df['operational_year'].astype('int64')\n",
    "\n",
    "# check project_turbine_num using is_integer function\n",
    "wind_turbine_df['project_turbine_num'].apply(lambda x: pd.api.types.is_integer(x)).sum()"
   ]
  },
  {
   "cell_type": "code",
   "execution_count": 77,
   "metadata": {},
   "outputs": [
    {
     "data": {
      "text/plain": [
       "0"
      ]
     },
     "execution_count": 77,
     "metadata": {},
     "output_type": "execute_result"
    }
   ],
   "source": [
    "# convert project_turbine_num to integer\n",
    "wind_turbine_df['project_turbine_num'] = wind_turbine_df['project_turbine_num'].astype('int64')\n",
    "\n",
    "# check cumulative_capacity (MW) using is_integer function\n",
    "wind_turbine_df['cumulative_capacity (MW)'].apply(lambda x: pd.api.types.is_integer(x)).sum()"
   ]
  },
  {
   "cell_type": "code",
   "execution_count": 80,
   "metadata": {},
   "outputs": [
    {
     "data": {
      "text/html": [
       "<div>\n",
       "<style scoped>\n",
       "    .dataframe tbody tr th:only-of-type {\n",
       "        vertical-align: middle;\n",
       "    }\n",
       "\n",
       "    .dataframe tbody tr th {\n",
       "        vertical-align: top;\n",
       "    }\n",
       "\n",
       "    .dataframe thead th {\n",
       "        text-align: right;\n",
       "    }\n",
       "</style>\n",
       "<table border=\"1\" class=\"dataframe\">\n",
       "  <thead>\n",
       "    <tr style=\"text-align: right;\">\n",
       "      <th></th>\n",
       "      <th>eia_id</th>\n",
       "      <th>state</th>\n",
       "      <th>county</th>\n",
       "      <th>project_name</th>\n",
       "      <th>operational_year</th>\n",
       "      <th>project_turbine_num</th>\n",
       "      <th>cumulative_capacity (MW)</th>\n",
       "      <th>turbine_capacity (KW)</th>\n",
       "      <th>xlong</th>\n",
       "      <th>ylat</th>\n",
       "    </tr>\n",
       "  </thead>\n",
       "  <tbody>\n",
       "    <tr>\n",
       "      <th>71342</th>\n",
       "      <td>62442</td>\n",
       "      <td>MN</td>\n",
       "      <td>Freeborn County</td>\n",
       "      <td>Lake Region Community Hybrid, LLC</td>\n",
       "      <td>2018</td>\n",
       "      <td>1</td>\n",
       "      <td>NaN</td>\n",
       "      <td>NaN</td>\n",
       "      <td>-93.307907</td>\n",
       "      <td>43.580891</td>\n",
       "    </tr>\n",
       "    <tr>\n",
       "      <th>73015</th>\n",
       "      <td>62642</td>\n",
       "      <td>TX</td>\n",
       "      <td>Lubbock County</td>\n",
       "      <td>unknown Lubbock County</td>\n",
       "      <td>2015</td>\n",
       "      <td>6</td>\n",
       "      <td>NaN</td>\n",
       "      <td>NaN</td>\n",
       "      <td>-102.056847</td>\n",
       "      <td>33.591496</td>\n",
       "    </tr>\n",
       "  </tbody>\n",
       "</table>\n",
       "</div>"
      ],
      "text/plain": [
       "       eia_id state           county                       project_name  \\\n",
       "71342   62442    MN  Freeborn County  Lake Region Community Hybrid, LLC   \n",
       "73015   62642    TX   Lubbock County             unknown Lubbock County   \n",
       "\n",
       "       operational_year  project_turbine_num  cumulative_capacity (MW)  \\\n",
       "71342              2018                    1                       NaN   \n",
       "73015              2015                    6                       NaN   \n",
       "\n",
       "       turbine_capacity (KW)       xlong       ylat  \n",
       "71342                    NaN  -93.307907  43.580891  \n",
       "73015                    NaN -102.056847  33.591496  "
      ]
     },
     "execution_count": 80,
     "metadata": {},
     "output_type": "execute_result"
    }
   ],
   "source": [
    "# show cumulative_capacity (MW) null values\n",
    "wind_turbine_df[wind_turbine_df['cumulative_capacity (MW)'].isnull()]"
   ]
  },
  {
   "cell_type": "code",
   "execution_count": 81,
   "metadata": {},
   "outputs": [
    {
     "data": {
      "text/html": [
       "<div>\n",
       "<style scoped>\n",
       "    .dataframe tbody tr th:only-of-type {\n",
       "        vertical-align: middle;\n",
       "    }\n",
       "\n",
       "    .dataframe tbody tr th {\n",
       "        vertical-align: top;\n",
       "    }\n",
       "\n",
       "    .dataframe thead th {\n",
       "        text-align: right;\n",
       "    }\n",
       "</style>\n",
       "<table border=\"1\" class=\"dataframe\">\n",
       "  <thead>\n",
       "    <tr style=\"text-align: right;\">\n",
       "      <th></th>\n",
       "      <th>eia_id</th>\n",
       "      <th>state</th>\n",
       "      <th>county</th>\n",
       "      <th>project_name</th>\n",
       "      <th>operational_year</th>\n",
       "      <th>project_turbine_num</th>\n",
       "      <th>cumulative_capacity (MW)</th>\n",
       "      <th>turbine_capacity (KW)</th>\n",
       "      <th>xlong</th>\n",
       "      <th>ylat</th>\n",
       "    </tr>\n",
       "  </thead>\n",
       "  <tbody>\n",
       "    <tr>\n",
       "      <th>73015</th>\n",
       "      <td>62642</td>\n",
       "      <td>TX</td>\n",
       "      <td>Lubbock County</td>\n",
       "      <td>unknown Lubbock County</td>\n",
       "      <td>2015</td>\n",
       "      <td>6</td>\n",
       "      <td>NaN</td>\n",
       "      <td>NaN</td>\n",
       "      <td>-102.056847</td>\n",
       "      <td>33.591496</td>\n",
       "    </tr>\n",
       "  </tbody>\n",
       "</table>\n",
       "</div>"
      ],
      "text/plain": [
       "       eia_id state          county            project_name  operational_year  \\\n",
       "73015   62642    TX  Lubbock County  unknown Lubbock County              2015   \n",
       "\n",
       "       project_turbine_num  cumulative_capacity (MW)  turbine_capacity (KW)  \\\n",
       "73015                    6                       NaN                    NaN   \n",
       "\n",
       "            xlong       ylat  \n",
       "73015 -102.056847  33.591496  "
      ]
     },
     "execution_count": 81,
     "metadata": {},
     "output_type": "execute_result"
    }
   ],
   "source": [
    "# show eia_id = 62642\n",
    "wind_turbine_df[wind_turbine_df['eia_id'] == 62642]"
   ]
  },
  {
   "cell_type": "code",
   "execution_count": 79,
   "metadata": {},
   "outputs": [
    {
     "ename": "IntCastingNaNError",
     "evalue": "Cannot convert non-finite values (NA or inf) to integer",
     "output_type": "error",
     "traceback": [
      "\u001b[1;31m---------------------------------------------------------------------------\u001b[0m",
      "\u001b[1;31mIntCastingNaNError\u001b[0m                        Traceback (most recent call last)",
      "Cell \u001b[1;32mIn[79], line 2\u001b[0m\n\u001b[0;32m      1\u001b[0m \u001b[39m# convert cumulative_capacity (MW) to integer\u001b[39;00m\n\u001b[1;32m----> 2\u001b[0m wind_turbine_df[\u001b[39m'\u001b[39m\u001b[39mcumulative_capacity (MW)\u001b[39m\u001b[39m'\u001b[39m] \u001b[39m=\u001b[39m wind_turbine_df[\u001b[39m'\u001b[39;49m\u001b[39mcumulative_capacity (MW)\u001b[39;49m\u001b[39m'\u001b[39;49m]\u001b[39m.\u001b[39;49mastype(\u001b[39m'\u001b[39;49m\u001b[39mint64\u001b[39;49m\u001b[39m'\u001b[39;49m)\n",
      "File \u001b[1;32mc:\\Python310\\lib\\site-packages\\pandas\\core\\generic.py:6240\u001b[0m, in \u001b[0;36mNDFrame.astype\u001b[1;34m(self, dtype, copy, errors)\u001b[0m\n\u001b[0;32m   6233\u001b[0m     results \u001b[39m=\u001b[39m [\n\u001b[0;32m   6234\u001b[0m         \u001b[39mself\u001b[39m\u001b[39m.\u001b[39miloc[:, i]\u001b[39m.\u001b[39mastype(dtype, copy\u001b[39m=\u001b[39mcopy)\n\u001b[0;32m   6235\u001b[0m         \u001b[39mfor\u001b[39;00m i \u001b[39min\u001b[39;00m \u001b[39mrange\u001b[39m(\u001b[39mlen\u001b[39m(\u001b[39mself\u001b[39m\u001b[39m.\u001b[39mcolumns))\n\u001b[0;32m   6236\u001b[0m     ]\n\u001b[0;32m   6238\u001b[0m \u001b[39melse\u001b[39;00m:\n\u001b[0;32m   6239\u001b[0m     \u001b[39m# else, only a single dtype is given\u001b[39;00m\n\u001b[1;32m-> 6240\u001b[0m     new_data \u001b[39m=\u001b[39m \u001b[39mself\u001b[39;49m\u001b[39m.\u001b[39;49m_mgr\u001b[39m.\u001b[39;49mastype(dtype\u001b[39m=\u001b[39;49mdtype, copy\u001b[39m=\u001b[39;49mcopy, errors\u001b[39m=\u001b[39;49merrors)\n\u001b[0;32m   6241\u001b[0m     \u001b[39mreturn\u001b[39;00m \u001b[39mself\u001b[39m\u001b[39m.\u001b[39m_constructor(new_data)\u001b[39m.\u001b[39m__finalize__(\u001b[39mself\u001b[39m, method\u001b[39m=\u001b[39m\u001b[39m\"\u001b[39m\u001b[39mastype\u001b[39m\u001b[39m\"\u001b[39m)\n\u001b[0;32m   6243\u001b[0m \u001b[39m# GH 33113: handle empty frame or series\u001b[39;00m\n",
      "File \u001b[1;32mc:\\Python310\\lib\\site-packages\\pandas\\core\\internals\\managers.py:448\u001b[0m, in \u001b[0;36mBaseBlockManager.astype\u001b[1;34m(self, dtype, copy, errors)\u001b[0m\n\u001b[0;32m    447\u001b[0m \u001b[39mdef\u001b[39;00m \u001b[39mastype\u001b[39m(\u001b[39mself\u001b[39m: T, dtype, copy: \u001b[39mbool\u001b[39m \u001b[39m=\u001b[39m \u001b[39mFalse\u001b[39;00m, errors: \u001b[39mstr\u001b[39m \u001b[39m=\u001b[39m \u001b[39m\"\u001b[39m\u001b[39mraise\u001b[39m\u001b[39m\"\u001b[39m) \u001b[39m-\u001b[39m\u001b[39m>\u001b[39m T:\n\u001b[1;32m--> 448\u001b[0m     \u001b[39mreturn\u001b[39;00m \u001b[39mself\u001b[39;49m\u001b[39m.\u001b[39;49mapply(\u001b[39m\"\u001b[39;49m\u001b[39mastype\u001b[39;49m\u001b[39m\"\u001b[39;49m, dtype\u001b[39m=\u001b[39;49mdtype, copy\u001b[39m=\u001b[39;49mcopy, errors\u001b[39m=\u001b[39;49merrors)\n",
      "File \u001b[1;32mc:\\Python310\\lib\\site-packages\\pandas\\core\\internals\\managers.py:352\u001b[0m, in \u001b[0;36mBaseBlockManager.apply\u001b[1;34m(self, f, align_keys, ignore_failures, **kwargs)\u001b[0m\n\u001b[0;32m    350\u001b[0m         applied \u001b[39m=\u001b[39m b\u001b[39m.\u001b[39mapply(f, \u001b[39m*\u001b[39m\u001b[39m*\u001b[39mkwargs)\n\u001b[0;32m    351\u001b[0m     \u001b[39melse\u001b[39;00m:\n\u001b[1;32m--> 352\u001b[0m         applied \u001b[39m=\u001b[39m \u001b[39mgetattr\u001b[39m(b, f)(\u001b[39m*\u001b[39m\u001b[39m*\u001b[39mkwargs)\n\u001b[0;32m    353\u001b[0m \u001b[39mexcept\u001b[39;00m (\u001b[39mTypeError\u001b[39;00m, \u001b[39mNotImplementedError\u001b[39;00m):\n\u001b[0;32m    354\u001b[0m     \u001b[39mif\u001b[39;00m \u001b[39mnot\u001b[39;00m ignore_failures:\n",
      "File \u001b[1;32mc:\\Python310\\lib\\site-packages\\pandas\\core\\internals\\blocks.py:526\u001b[0m, in \u001b[0;36mBlock.astype\u001b[1;34m(self, dtype, copy, errors)\u001b[0m\n\u001b[0;32m    508\u001b[0m \u001b[39m\u001b[39m\u001b[39m\"\"\"\u001b[39;00m\n\u001b[0;32m    509\u001b[0m \u001b[39mCoerce to the new dtype.\u001b[39;00m\n\u001b[0;32m    510\u001b[0m \n\u001b[1;32m   (...)\u001b[0m\n\u001b[0;32m    522\u001b[0m \u001b[39mBlock\u001b[39;00m\n\u001b[0;32m    523\u001b[0m \u001b[39m\"\"\"\u001b[39;00m\n\u001b[0;32m    524\u001b[0m values \u001b[39m=\u001b[39m \u001b[39mself\u001b[39m\u001b[39m.\u001b[39mvalues\n\u001b[1;32m--> 526\u001b[0m new_values \u001b[39m=\u001b[39m astype_array_safe(values, dtype, copy\u001b[39m=\u001b[39;49mcopy, errors\u001b[39m=\u001b[39;49merrors)\n\u001b[0;32m    528\u001b[0m new_values \u001b[39m=\u001b[39m maybe_coerce_values(new_values)\n\u001b[0;32m    529\u001b[0m newb \u001b[39m=\u001b[39m \u001b[39mself\u001b[39m\u001b[39m.\u001b[39mmake_block(new_values)\n",
      "File \u001b[1;32mc:\\Python310\\lib\\site-packages\\pandas\\core\\dtypes\\astype.py:299\u001b[0m, in \u001b[0;36mastype_array_safe\u001b[1;34m(values, dtype, copy, errors)\u001b[0m\n\u001b[0;32m    296\u001b[0m     \u001b[39mreturn\u001b[39;00m values\u001b[39m.\u001b[39mcopy()\n\u001b[0;32m    298\u001b[0m \u001b[39mtry\u001b[39;00m:\n\u001b[1;32m--> 299\u001b[0m     new_values \u001b[39m=\u001b[39m astype_array(values, dtype, copy\u001b[39m=\u001b[39;49mcopy)\n\u001b[0;32m    300\u001b[0m \u001b[39mexcept\u001b[39;00m (\u001b[39mValueError\u001b[39;00m, \u001b[39mTypeError\u001b[39;00m):\n\u001b[0;32m    301\u001b[0m     \u001b[39m# e.g. astype_nansafe can fail on object-dtype of strings\u001b[39;00m\n\u001b[0;32m    302\u001b[0m     \u001b[39m#  trying to convert to float\u001b[39;00m\n\u001b[0;32m    303\u001b[0m     \u001b[39mif\u001b[39;00m errors \u001b[39m==\u001b[39m \u001b[39m\"\u001b[39m\u001b[39mignore\u001b[39m\u001b[39m\"\u001b[39m:\n",
      "File \u001b[1;32mc:\\Python310\\lib\\site-packages\\pandas\\core\\dtypes\\astype.py:230\u001b[0m, in \u001b[0;36mastype_array\u001b[1;34m(values, dtype, copy)\u001b[0m\n\u001b[0;32m    227\u001b[0m     values \u001b[39m=\u001b[39m values\u001b[39m.\u001b[39mastype(dtype, copy\u001b[39m=\u001b[39mcopy)\n\u001b[0;32m    229\u001b[0m \u001b[39melse\u001b[39;00m:\n\u001b[1;32m--> 230\u001b[0m     values \u001b[39m=\u001b[39m astype_nansafe(values, dtype, copy\u001b[39m=\u001b[39;49mcopy)\n\u001b[0;32m    232\u001b[0m \u001b[39m# in pandas we don't store numpy str dtypes, so convert to object\u001b[39;00m\n\u001b[0;32m    233\u001b[0m \u001b[39mif\u001b[39;00m \u001b[39misinstance\u001b[39m(dtype, np\u001b[39m.\u001b[39mdtype) \u001b[39mand\u001b[39;00m \u001b[39missubclass\u001b[39m(values\u001b[39m.\u001b[39mdtype\u001b[39m.\u001b[39mtype, \u001b[39mstr\u001b[39m):\n",
      "File \u001b[1;32mc:\\Python310\\lib\\site-packages\\pandas\\core\\dtypes\\astype.py:140\u001b[0m, in \u001b[0;36mastype_nansafe\u001b[1;34m(arr, dtype, copy, skipna)\u001b[0m\n\u001b[0;32m    137\u001b[0m     \u001b[39mraise\u001b[39;00m \u001b[39mTypeError\u001b[39;00m(\u001b[39mf\u001b[39m\u001b[39m\"\u001b[39m\u001b[39mcannot astype a timedelta from [\u001b[39m\u001b[39m{\u001b[39;00marr\u001b[39m.\u001b[39mdtype\u001b[39m}\u001b[39;00m\u001b[39m] to [\u001b[39m\u001b[39m{\u001b[39;00mdtype\u001b[39m}\u001b[39;00m\u001b[39m]\u001b[39m\u001b[39m\"\u001b[39m)\n\u001b[0;32m    139\u001b[0m \u001b[39melif\u001b[39;00m np\u001b[39m.\u001b[39missubdtype(arr\u001b[39m.\u001b[39mdtype, np\u001b[39m.\u001b[39mfloating) \u001b[39mand\u001b[39;00m is_integer_dtype(dtype):\n\u001b[1;32m--> 140\u001b[0m     \u001b[39mreturn\u001b[39;00m _astype_float_to_int_nansafe(arr, dtype, copy)\n\u001b[0;32m    142\u001b[0m \u001b[39melif\u001b[39;00m is_object_dtype(arr\u001b[39m.\u001b[39mdtype):\n\u001b[0;32m    143\u001b[0m \n\u001b[0;32m    144\u001b[0m     \u001b[39m# if we have a datetime/timedelta array of objects\u001b[39;00m\n\u001b[0;32m    145\u001b[0m     \u001b[39m# then coerce to a proper dtype and recall astype_nansafe\u001b[39;00m\n\u001b[0;32m    147\u001b[0m     \u001b[39mif\u001b[39;00m is_datetime64_dtype(dtype):\n",
      "File \u001b[1;32mc:\\Python310\\lib\\site-packages\\pandas\\core\\dtypes\\astype.py:182\u001b[0m, in \u001b[0;36m_astype_float_to_int_nansafe\u001b[1;34m(values, dtype, copy)\u001b[0m\n\u001b[0;32m    178\u001b[0m \u001b[39m\u001b[39m\u001b[39m\"\"\"\u001b[39;00m\n\u001b[0;32m    179\u001b[0m \u001b[39mastype with a check preventing converting NaN to an meaningless integer value.\u001b[39;00m\n\u001b[0;32m    180\u001b[0m \u001b[39m\"\"\"\u001b[39;00m\n\u001b[0;32m    181\u001b[0m \u001b[39mif\u001b[39;00m \u001b[39mnot\u001b[39;00m np\u001b[39m.\u001b[39misfinite(values)\u001b[39m.\u001b[39mall():\n\u001b[1;32m--> 182\u001b[0m     \u001b[39mraise\u001b[39;00m IntCastingNaNError(\n\u001b[0;32m    183\u001b[0m         \u001b[39m\"\u001b[39m\u001b[39mCannot convert non-finite values (NA or inf) to integer\u001b[39m\u001b[39m\"\u001b[39m\n\u001b[0;32m    184\u001b[0m     )\n\u001b[0;32m    185\u001b[0m \u001b[39mif\u001b[39;00m dtype\u001b[39m.\u001b[39mkind \u001b[39m==\u001b[39m \u001b[39m\"\u001b[39m\u001b[39mu\u001b[39m\u001b[39m\"\u001b[39m:\n\u001b[0;32m    186\u001b[0m     \u001b[39m# GH#45151\u001b[39;00m\n\u001b[0;32m    187\u001b[0m     \u001b[39mif\u001b[39;00m \u001b[39mnot\u001b[39;00m (values \u001b[39m>\u001b[39m\u001b[39m=\u001b[39m \u001b[39m0\u001b[39m)\u001b[39m.\u001b[39mall():\n",
      "\u001b[1;31mIntCastingNaNError\u001b[0m: Cannot convert non-finite values (NA or inf) to integer"
     ]
    }
   ],
   "source": [
    "# convert cumulative_capacity (MW) to integer\n",
    "wind_turbine_df['cumulative_capacity (MW)'] = wind_turbine_df['cumulative_capacity (MW)'].astype('int64')"
   ]
  },
  {
   "cell_type": "code",
   "execution_count": 62,
   "metadata": {},
   "outputs": [
    {
     "data": {
      "text/plain": [
       "2"
      ]
     },
     "execution_count": 62,
     "metadata": {},
     "output_type": "execute_result"
    }
   ],
   "source": [
    "# filter for both cumulative_capacity (MW) and turbine_capacity (KW)  = null\n",
    "wind_turbine_df[wind_turbine_df['cumulative_capacity (MW)'].isnull() & wind_turbine_df['turbine_capacity (KW)'].isnull()].shape[0]\n"
   ]
  },
  {
   "cell_type": "code",
   "execution_count": 61,
   "metadata": {},
   "outputs": [
    {
     "data": {
      "text/html": [
       "<div>\n",
       "<style scoped>\n",
       "    .dataframe tbody tr th:only-of-type {\n",
       "        vertical-align: middle;\n",
       "    }\n",
       "\n",
       "    .dataframe tbody tr th {\n",
       "        vertical-align: top;\n",
       "    }\n",
       "\n",
       "    .dataframe thead th {\n",
       "        text-align: right;\n",
       "    }\n",
       "</style>\n",
       "<table border=\"1\" class=\"dataframe\">\n",
       "  <thead>\n",
       "    <tr style=\"text-align: right;\">\n",
       "      <th></th>\n",
       "      <th>eia_id</th>\n",
       "      <th>state</th>\n",
       "      <th>county</th>\n",
       "      <th>project_name</th>\n",
       "      <th>operational_year</th>\n",
       "      <th>project_turbine_num</th>\n",
       "      <th>cumulative_capacity (MW)</th>\n",
       "      <th>turbine_capacity (KW)</th>\n",
       "      <th>xlong</th>\n",
       "      <th>ylat</th>\n",
       "    </tr>\n",
       "  </thead>\n",
       "  <tbody>\n",
       "    <tr>\n",
       "      <th>71342</th>\n",
       "      <td>62442.0</td>\n",
       "      <td>MN</td>\n",
       "      <td>Freeborn County</td>\n",
       "      <td>Lake Region Community Hybrid, LLC</td>\n",
       "      <td>2018.0</td>\n",
       "      <td>1.0</td>\n",
       "      <td>NaN</td>\n",
       "      <td>NaN</td>\n",
       "      <td>-93.307907</td>\n",
       "      <td>43.580891</td>\n",
       "    </tr>\n",
       "    <tr>\n",
       "      <th>73015</th>\n",
       "      <td>62642.0</td>\n",
       "      <td>TX</td>\n",
       "      <td>Lubbock County</td>\n",
       "      <td>unknown Lubbock County</td>\n",
       "      <td>2015.0</td>\n",
       "      <td>6.0</td>\n",
       "      <td>NaN</td>\n",
       "      <td>NaN</td>\n",
       "      <td>-102.056847</td>\n",
       "      <td>33.591496</td>\n",
       "    </tr>\n",
       "  </tbody>\n",
       "</table>\n",
       "</div>"
      ],
      "text/plain": [
       "        eia_id state           county                       project_name  \\\n",
       "71342  62442.0    MN  Freeborn County  Lake Region Community Hybrid, LLC   \n",
       "73015  62642.0    TX   Lubbock County             unknown Lubbock County   \n",
       "\n",
       "       operational_year  project_turbine_num  cumulative_capacity (MW)  \\\n",
       "71342            2018.0                  1.0                       NaN   \n",
       "73015            2015.0                  6.0                       NaN   \n",
       "\n",
       "       turbine_capacity (KW)       xlong       ylat  \n",
       "71342                    NaN  -93.307907  43.580891  \n",
       "73015                    NaN -102.056847  33.591496  "
      ]
     },
     "execution_count": 61,
     "metadata": {},
     "output_type": "execute_result"
    }
   ],
   "source": [
    "# show only turbine_capacity (KW) = null and cumulative_capacity (MW) = null\n",
    "wind_turbine_df[(wind_turbine_df['turbine_capacity (KW)'].isnull()) & (wind_turbine_df['cumulative_capacity (MW)'].isnull())]"
   ]
  },
  {
   "cell_type": "code",
   "execution_count": null,
   "metadata": {},
   "outputs": [],
   "source": [
    "# filter eia_id = 62642.0"
   ]
  },
  {
   "cell_type": "code",
   "execution_count": 67,
   "metadata": {},
   "outputs": [
    {
     "data": {
      "text/plain": [
       "(753, 10)"
      ]
     },
     "execution_count": 67,
     "metadata": {},
     "output_type": "execute_result"
    }
   ],
   "source": [
    "# show turbine_capacity (KW) = null and cumulative_capacity (MW) != null\n",
    "wind_turbine_df[(wind_turbine_df['turbine_capacity (KW)'].isnull()) & (wind_turbine_df['cumulative_capacity (MW)'].notnull())].shape"
   ]
  },
  {
   "cell_type": "code",
   "execution_count": 64,
   "metadata": {},
   "outputs": [
    {
     "data": {
      "text/html": [
       "<div>\n",
       "<style scoped>\n",
       "    .dataframe tbody tr th:only-of-type {\n",
       "        vertical-align: middle;\n",
       "    }\n",
       "\n",
       "    .dataframe tbody tr th {\n",
       "        vertical-align: top;\n",
       "    }\n",
       "\n",
       "    .dataframe thead th {\n",
       "        text-align: right;\n",
       "    }\n",
       "</style>\n",
       "<table border=\"1\" class=\"dataframe\">\n",
       "  <thead>\n",
       "    <tr style=\"text-align: right;\">\n",
       "      <th></th>\n",
       "      <th>eia_id</th>\n",
       "      <th>state</th>\n",
       "      <th>county</th>\n",
       "      <th>project_name</th>\n",
       "      <th>operational_year</th>\n",
       "      <th>project_turbine_num</th>\n",
       "      <th>cumulative_capacity (MW)</th>\n",
       "      <th>turbine_capacity (KW)</th>\n",
       "      <th>xlong</th>\n",
       "      <th>ylat</th>\n",
       "    </tr>\n",
       "  </thead>\n",
       "  <tbody>\n",
       "    <tr>\n",
       "      <th>5482</th>\n",
       "      <td>10597.0</td>\n",
       "      <td>CA</td>\n",
       "      <td>Kern County</td>\n",
       "      <td>Ridgetop</td>\n",
       "      <td>1985.0</td>\n",
       "      <td>236.0</td>\n",
       "      <td>29.0</td>\n",
       "      <td>NaN</td>\n",
       "      <td>-118.303085</td>\n",
       "      <td>35.081696</td>\n",
       "    </tr>\n",
       "    <tr>\n",
       "      <th>5483</th>\n",
       "      <td>10597.0</td>\n",
       "      <td>CA</td>\n",
       "      <td>Kern County</td>\n",
       "      <td>Ridgetop</td>\n",
       "      <td>1985.0</td>\n",
       "      <td>236.0</td>\n",
       "      <td>29.0</td>\n",
       "      <td>NaN</td>\n",
       "      <td>-118.295344</td>\n",
       "      <td>35.077554</td>\n",
       "    </tr>\n",
       "    <tr>\n",
       "      <th>5484</th>\n",
       "      <td>10597.0</td>\n",
       "      <td>CA</td>\n",
       "      <td>Kern County</td>\n",
       "      <td>Ridgetop</td>\n",
       "      <td>1985.0</td>\n",
       "      <td>236.0</td>\n",
       "      <td>29.0</td>\n",
       "      <td>NaN</td>\n",
       "      <td>-118.328491</td>\n",
       "      <td>35.076195</td>\n",
       "    </tr>\n",
       "    <tr>\n",
       "      <th>5485</th>\n",
       "      <td>10597.0</td>\n",
       "      <td>CA</td>\n",
       "      <td>Kern County</td>\n",
       "      <td>Ridgetop</td>\n",
       "      <td>1985.0</td>\n",
       "      <td>236.0</td>\n",
       "      <td>29.0</td>\n",
       "      <td>NaN</td>\n",
       "      <td>-118.304154</td>\n",
       "      <td>35.077404</td>\n",
       "    </tr>\n",
       "    <tr>\n",
       "      <th>5486</th>\n",
       "      <td>10597.0</td>\n",
       "      <td>CA</td>\n",
       "      <td>Kern County</td>\n",
       "      <td>Ridgetop</td>\n",
       "      <td>1985.0</td>\n",
       "      <td>236.0</td>\n",
       "      <td>29.0</td>\n",
       "      <td>NaN</td>\n",
       "      <td>-118.331490</td>\n",
       "      <td>35.074795</td>\n",
       "    </tr>\n",
       "    <tr>\n",
       "      <th>...</th>\n",
       "      <td>...</td>\n",
       "      <td>...</td>\n",
       "      <td>...</td>\n",
       "      <td>...</td>\n",
       "      <td>...</td>\n",
       "      <td>...</td>\n",
       "      <td>...</td>\n",
       "      <td>...</td>\n",
       "      <td>...</td>\n",
       "      <td>...</td>\n",
       "    </tr>\n",
       "    <tr>\n",
       "      <th>5692</th>\n",
       "      <td>10597.0</td>\n",
       "      <td>CA</td>\n",
       "      <td>Kern County</td>\n",
       "      <td>Ridgetop</td>\n",
       "      <td>1985.0</td>\n",
       "      <td>236.0</td>\n",
       "      <td>29.0</td>\n",
       "      <td>NaN</td>\n",
       "      <td>-118.307396</td>\n",
       "      <td>35.073655</td>\n",
       "    </tr>\n",
       "    <tr>\n",
       "      <th>5693</th>\n",
       "      <td>10597.0</td>\n",
       "      <td>CA</td>\n",
       "      <td>Kern County</td>\n",
       "      <td>Ridgetop</td>\n",
       "      <td>1985.0</td>\n",
       "      <td>236.0</td>\n",
       "      <td>29.0</td>\n",
       "      <td>NaN</td>\n",
       "      <td>-118.306786</td>\n",
       "      <td>35.074097</td>\n",
       "    </tr>\n",
       "    <tr>\n",
       "      <th>5694</th>\n",
       "      <td>10597.0</td>\n",
       "      <td>CA</td>\n",
       "      <td>Kern County</td>\n",
       "      <td>Ridgetop</td>\n",
       "      <td>1985.0</td>\n",
       "      <td>236.0</td>\n",
       "      <td>29.0</td>\n",
       "      <td>NaN</td>\n",
       "      <td>-118.326286</td>\n",
       "      <td>35.073696</td>\n",
       "    </tr>\n",
       "    <tr>\n",
       "      <th>5695</th>\n",
       "      <td>10597.0</td>\n",
       "      <td>CA</td>\n",
       "      <td>Kern County</td>\n",
       "      <td>Ridgetop</td>\n",
       "      <td>1985.0</td>\n",
       "      <td>236.0</td>\n",
       "      <td>29.0</td>\n",
       "      <td>NaN</td>\n",
       "      <td>-118.324989</td>\n",
       "      <td>35.073296</td>\n",
       "    </tr>\n",
       "    <tr>\n",
       "      <th>5696</th>\n",
       "      <td>10597.0</td>\n",
       "      <td>CA</td>\n",
       "      <td>Kern County</td>\n",
       "      <td>Ridgetop</td>\n",
       "      <td>1985.0</td>\n",
       "      <td>236.0</td>\n",
       "      <td>29.0</td>\n",
       "      <td>NaN</td>\n",
       "      <td>-118.302589</td>\n",
       "      <td>35.077496</td>\n",
       "    </tr>\n",
       "  </tbody>\n",
       "</table>\n",
       "<p>215 rows × 10 columns</p>\n",
       "</div>"
      ],
      "text/plain": [
       "       eia_id state       county project_name  operational_year  \\\n",
       "5482  10597.0    CA  Kern County     Ridgetop            1985.0   \n",
       "5483  10597.0    CA  Kern County     Ridgetop            1985.0   \n",
       "5484  10597.0    CA  Kern County     Ridgetop            1985.0   \n",
       "5485  10597.0    CA  Kern County     Ridgetop            1985.0   \n",
       "5486  10597.0    CA  Kern County     Ridgetop            1985.0   \n",
       "...       ...   ...          ...          ...               ...   \n",
       "5692  10597.0    CA  Kern County     Ridgetop            1985.0   \n",
       "5693  10597.0    CA  Kern County     Ridgetop            1985.0   \n",
       "5694  10597.0    CA  Kern County     Ridgetop            1985.0   \n",
       "5695  10597.0    CA  Kern County     Ridgetop            1985.0   \n",
       "5696  10597.0    CA  Kern County     Ridgetop            1985.0   \n",
       "\n",
       "      project_turbine_num  cumulative_capacity (MW)  turbine_capacity (KW)  \\\n",
       "5482                236.0                      29.0                    NaN   \n",
       "5483                236.0                      29.0                    NaN   \n",
       "5484                236.0                      29.0                    NaN   \n",
       "5485                236.0                      29.0                    NaN   \n",
       "5486                236.0                      29.0                    NaN   \n",
       "...                   ...                       ...                    ...   \n",
       "5692                236.0                      29.0                    NaN   \n",
       "5693                236.0                      29.0                    NaN   \n",
       "5694                236.0                      29.0                    NaN   \n",
       "5695                236.0                      29.0                    NaN   \n",
       "5696                236.0                      29.0                    NaN   \n",
       "\n",
       "           xlong       ylat  \n",
       "5482 -118.303085  35.081696  \n",
       "5483 -118.295344  35.077554  \n",
       "5484 -118.328491  35.076195  \n",
       "5485 -118.304154  35.077404  \n",
       "5486 -118.331490  35.074795  \n",
       "...          ...        ...  \n",
       "5692 -118.307396  35.073655  \n",
       "5693 -118.306786  35.074097  \n",
       "5694 -118.326286  35.073696  \n",
       "5695 -118.324989  35.073296  \n",
       "5696 -118.302589  35.077496  \n",
       "\n",
       "[215 rows x 10 columns]"
      ]
     },
     "execution_count": 64,
     "metadata": {},
     "output_type": "execute_result"
    }
   ],
   "source": [
    "# show eia_id = 10597.0 and project_turbine_num = 236.0\t\n",
    "wind_turbine_df[(wind_turbine_df['eia_id'] == 10597.0) & (wind_turbine_df['project_turbine_num'] == 236.0)]"
   ]
  },
  {
   "cell_type": "code",
   "execution_count": 66,
   "metadata": {},
   "outputs": [
    {
     "data": {
      "text/plain": [
       "eia_id\n",
       "57833.0    6\n",
       "57294.0    5\n",
       "56252.0    4\n",
       "6304.0     4\n",
       "57291.0    4\n",
       "          ..\n",
       "55574.0    1\n",
       "55566.0    1\n",
       "57296.0    1\n",
       "57299.0    1\n",
       "57744.0    1\n",
       "Name: project_turbine_num, Length: 1172, dtype: int64"
      ]
     },
     "execution_count": 66,
     "metadata": {},
     "output_type": "execute_result"
    }
   ],
   "source": [
    "# check if the project_turbine_num equals to the count of each eia_id\n",
    "wind_turbine_df.groupby('eia_id')['project_turbine_num'].nunique()[lambda x: x > 0].sort_values(ascending=False)\n"
   ]
  },
  {
   "cell_type": "code",
   "execution_count": 149,
   "metadata": {},
   "outputs": [
    {
     "data": {
      "text/html": [
       "<div>\n",
       "<style scoped>\n",
       "    .dataframe tbody tr th:only-of-type {\n",
       "        vertical-align: middle;\n",
       "    }\n",
       "\n",
       "    .dataframe tbody tr th {\n",
       "        vertical-align: top;\n",
       "    }\n",
       "\n",
       "    .dataframe thead th {\n",
       "        text-align: right;\n",
       "    }\n",
       "</style>\n",
       "<table border=\"1\" class=\"dataframe\">\n",
       "  <thead>\n",
       "    <tr style=\"text-align: right;\">\n",
       "      <th></th>\n",
       "      <th>eia_id</th>\n",
       "      <th>project_name</th>\n",
       "      <th>project_turbine_num</th>\n",
       "      <th>cumulative_capacity (MW)</th>\n",
       "      <th>turbine_capacity (KW)</th>\n",
       "    </tr>\n",
       "  </thead>\n",
       "  <tbody>\n",
       "    <tr>\n",
       "      <th>394</th>\n",
       "      <td>57833.0</td>\n",
       "      <td>Alta II</td>\n",
       "      <td>50</td>\n",
       "      <td>150.0</td>\n",
       "      <td>3000.0</td>\n",
       "    </tr>\n",
       "    <tr>\n",
       "      <th>487</th>\n",
       "      <td>57833.0</td>\n",
       "      <td>Alta IV</td>\n",
       "      <td>34</td>\n",
       "      <td>102.0</td>\n",
       "      <td>3000.0</td>\n",
       "    </tr>\n",
       "    <tr>\n",
       "      <th>556</th>\n",
       "      <td>57833.0</td>\n",
       "      <td>Alta V</td>\n",
       "      <td>56</td>\n",
       "      <td>168.0</td>\n",
       "      <td>3000.0</td>\n",
       "    </tr>\n",
       "    <tr>\n",
       "      <th>602</th>\n",
       "      <td>57833.0</td>\n",
       "      <td>Alta VI (partial)</td>\n",
       "      <td>44</td>\n",
       "      <td>132.0</td>\n",
       "      <td>3000.0</td>\n",
       "    </tr>\n",
       "    <tr>\n",
       "      <th>645</th>\n",
       "      <td>57833.0</td>\n",
       "      <td>Alta VIII (partial)</td>\n",
       "      <td>43</td>\n",
       "      <td>129.0</td>\n",
       "      <td>3000.0</td>\n",
       "    </tr>\n",
       "    <tr>\n",
       "      <th>42034</th>\n",
       "      <td>57833.0</td>\n",
       "      <td>Mustang Hills</td>\n",
       "      <td>6</td>\n",
       "      <td>18.0</td>\n",
       "      <td>3000.0</td>\n",
       "    </tr>\n",
       "  </tbody>\n",
       "</table>\n",
       "</div>"
      ],
      "text/plain": [
       "        eia_id         project_name  project_turbine_num  \\\n",
       "394    57833.0              Alta II                   50   \n",
       "487    57833.0              Alta IV                   34   \n",
       "556    57833.0               Alta V                   56   \n",
       "602    57833.0    Alta VI (partial)                   44   \n",
       "645    57833.0  Alta VIII (partial)                   43   \n",
       "42034  57833.0        Mustang Hills                    6   \n",
       "\n",
       "       cumulative_capacity (MW)  turbine_capacity (KW)  \n",
       "394                       150.0                 3000.0  \n",
       "487                       102.0                 3000.0  \n",
       "556                       168.0                 3000.0  \n",
       "602                       132.0                 3000.0  \n",
       "645                       129.0                 3000.0  \n",
       "42034                      18.0                 3000.0  "
      ]
     },
     "execution_count": 149,
     "metadata": {},
     "output_type": "execute_result"
    }
   ],
   "source": [
    "# show the unique values for turbine number for eia_id = 57833.0\n",
    "wind_turbine_df[wind_turbine_df['eia_id'] == 57833.0]\\\n",
    "    [['eia_id','project_name', 'project_turbine_num', 'cumulative_capacity (MW)', 'turbine_capacity (KW)']]\\\n",
    "    .drop_duplicates()"
   ]
  },
  {
   "cell_type": "code",
   "execution_count": 157,
   "metadata": {},
   "outputs": [
    {
     "data": {
      "text/plain": [
       "eia_id\n",
       "57833.0    6\n",
       "57294.0    5\n",
       "6304.0     4\n",
       "57291.0    4\n",
       "56357.0    4\n",
       "          ..\n",
       "57239.0    1\n",
       "57240.0    1\n",
       "57244.0    1\n",
       "57251.0    1\n",
       "65525.0    1\n",
       "Name: cumulative_capacity (MW), Length: 1254, dtype: int64"
      ]
     },
     "execution_count": 157,
     "metadata": {},
     "output_type": "execute_result"
    }
   ],
   "source": [
    "# check if the cumulative_capacity (MW) equals to the count of each eia_id\n",
    "wind_turbine_df.groupby('eia_id')['cumulative_capacity (MW)'].nunique()[lambda x: x > 0].sort_values(ascending=False)"
   ]
  },
  {
   "cell_type": "code",
   "execution_count": 172,
   "metadata": {},
   "outputs": [
    {
     "data": {
      "text/plain": [
       "eia_id_project_name\n",
       "57526.0_South Hurlburt                  4\n",
       "56357.0_Wilton Wind Farm                4\n",
       "56252.0_Century Expansion               3\n",
       "56925.0_Crystal Lake II                 3\n",
       "56843.0_Seven Mile Hill I & II          3\n",
       "                                       ..\n",
       "57195.0_Lower Snake River Phase I       2\n",
       "50281.0_San Gorgonio Farms Wind Farm    2\n",
       "57296.0_Carleton College                2\n",
       "57332.0_Crossroads                      2\n",
       "nan_unknown Riverside County            2\n",
       "Name: cumulative_capacity (MW), Length: 66, dtype: int64"
      ]
     },
     "execution_count": 172,
     "metadata": {},
     "output_type": "execute_result"
    }
   ],
   "source": [
    "# concatenate the eia_id and project_name\n",
    "wind_turbine_df['eia_id_project_name'] = wind_turbine_df['eia_id'].astype(str) + '_' + wind_turbine_df['project_name'] #+ '_' + wind_turbine_df['location_verification_date'].astype(str)\n",
    "\n",
    "# show the unique values for eia_id_project_name\n",
    "wind_turbine_df.groupby('eia_id_project_name')['cumulative_capacity (MW)'].nunique()[lambda x: x > 1].sort_values(ascending=False)"
   ]
  },
  {
   "cell_type": "code",
   "execution_count": 173,
   "metadata": {},
   "outputs": [
    {
     "data": {
      "text/html": [
       "<div>\n",
       "<style scoped>\n",
       "    .dataframe tbody tr th:only-of-type {\n",
       "        vertical-align: middle;\n",
       "    }\n",
       "\n",
       "    .dataframe tbody tr th {\n",
       "        vertical-align: top;\n",
       "    }\n",
       "\n",
       "    .dataframe thead th {\n",
       "        text-align: right;\n",
       "    }\n",
       "</style>\n",
       "<table border=\"1\" class=\"dataframe\">\n",
       "  <thead>\n",
       "    <tr style=\"text-align: right;\">\n",
       "      <th></th>\n",
       "      <th>eia_id_project_name</th>\n",
       "      <th>eia_id</th>\n",
       "      <th>project_name</th>\n",
       "      <th>project_turbine_num</th>\n",
       "      <th>cumulative_capacity (MW)</th>\n",
       "      <th>turbine_capacity (KW)</th>\n",
       "      <th>operational_year</th>\n",
       "    </tr>\n",
       "  </thead>\n",
       "  <tbody>\n",
       "    <tr>\n",
       "      <th>58696</th>\n",
       "      <td>57526.0_South Hurlburt</td>\n",
       "      <td>57526.0</td>\n",
       "      <td>South Hurlburt</td>\n",
       "      <td>82</td>\n",
       "      <td>224.75</td>\n",
       "      <td>2750.0</td>\n",
       "      <td>2011.0</td>\n",
       "    </tr>\n",
       "    <tr>\n",
       "      <th>58697</th>\n",
       "      <td>57526.0_South Hurlburt</td>\n",
       "      <td>57526.0</td>\n",
       "      <td>South Hurlburt</td>\n",
       "      <td>23</td>\n",
       "      <td>63.25</td>\n",
       "      <td>2750.0</td>\n",
       "      <td>2012.0</td>\n",
       "    </tr>\n",
       "    <tr>\n",
       "      <th>58699</th>\n",
       "      <td>57526.0_South Hurlburt</td>\n",
       "      <td>57526.0</td>\n",
       "      <td>South Hurlburt</td>\n",
       "      <td>82</td>\n",
       "      <td>224.75</td>\n",
       "      <td>2500.0</td>\n",
       "      <td>2011.0</td>\n",
       "    </tr>\n",
       "    <tr>\n",
       "      <th>58757</th>\n",
       "      <td>57526.0_South Hurlburt</td>\n",
       "      <td>57526.0</td>\n",
       "      <td>South Hurlburt</td>\n",
       "      <td>116</td>\n",
       "      <td>290.00</td>\n",
       "      <td>2500.0</td>\n",
       "      <td>2012.0</td>\n",
       "    </tr>\n",
       "    <tr>\n",
       "      <th>58803</th>\n",
       "      <td>57526.0_South Hurlburt</td>\n",
       "      <td>57526.0</td>\n",
       "      <td>South Hurlburt</td>\n",
       "      <td>82</td>\n",
       "      <td>205.00</td>\n",
       "      <td>2500.0</td>\n",
       "      <td>2011.0</td>\n",
       "    </tr>\n",
       "  </tbody>\n",
       "</table>\n",
       "</div>"
      ],
      "text/plain": [
       "          eia_id_project_name   eia_id    project_name  project_turbine_num  \\\n",
       "58696  57526.0_South Hurlburt  57526.0  South Hurlburt                   82   \n",
       "58697  57526.0_South Hurlburt  57526.0  South Hurlburt                   23   \n",
       "58699  57526.0_South Hurlburt  57526.0  South Hurlburt                   82   \n",
       "58757  57526.0_South Hurlburt  57526.0  South Hurlburt                  116   \n",
       "58803  57526.0_South Hurlburt  57526.0  South Hurlburt                   82   \n",
       "\n",
       "       cumulative_capacity (MW)  turbine_capacity (KW)  operational_year  \n",
       "58696                    224.75                 2750.0            2011.0  \n",
       "58697                     63.25                 2750.0            2012.0  \n",
       "58699                    224.75                 2500.0            2011.0  \n",
       "58757                    290.00                 2500.0            2012.0  \n",
       "58803                    205.00                 2500.0            2011.0  "
      ]
     },
     "execution_count": 173,
     "metadata": {},
     "output_type": "execute_result"
    }
   ],
   "source": [
    "# show the unique values for eia_id_project_name equals to '56357.0_Wilton Wind Farm'\n",
    "wind_turbine_df[wind_turbine_df['eia_id_project_name'] == '57526.0_South Hurlburt']\\\n",
    "[['eia_id_project_name','eia_id','project_name', 'project_turbine_num', 'cumulative_capacity (MW)', 'turbine_capacity (KW)', 'operational_year']]\\\n",
    ".drop_duplicates()"
   ]
  },
  {
   "cell_type": "code",
   "execution_count": 167,
   "metadata": {},
   "outputs": [
    {
     "data": {
      "text/plain": [
       "Index(['case_id', 'faa_digital_obstacle_id', 'faa_obstruction_evaluation_id',\n",
       "       'usgs_id', 'eia_id', 'state', 'county', 'state_county_id',\n",
       "       'project_name', 'operational_year', 'project_turbine_num',\n",
       "       'cumulative_capacity (MW)', 'manufacturer', 'model_name',\n",
       "       'turbine_capacity (KW)', 'hub_height (m)', 'rotor_diameter (m)',\n",
       "       'rotor_swept area (m2)', 'max_height (m)', 'retrofit (y/n)',\n",
       "       'retrofit_year', 'attribute_confidence_level (1/2/3)',\n",
       "       'location_confidence_level (1/2/3)', 'location_verification_date',\n",
       "       'image_source', 'xlong', 'ylat', 'eia_id_project_name'],\n",
       "      dtype='object')"
      ]
     },
     "execution_count": 167,
     "metadata": {},
     "output_type": "execute_result"
    }
   ],
   "source": [
    "wind_turbine_df.columns"
   ]
  },
  {
   "cell_type": "code",
   "execution_count": 197,
   "metadata": {},
   "outputs": [
    {
     "data": {
      "text/html": [
       "<div>\n",
       "<style scoped>\n",
       "    .dataframe tbody tr th:only-of-type {\n",
       "        vertical-align: middle;\n",
       "    }\n",
       "\n",
       "    .dataframe tbody tr th {\n",
       "        vertical-align: top;\n",
       "    }\n",
       "\n",
       "    .dataframe thead th {\n",
       "        text-align: right;\n",
       "    }\n",
       "</style>\n",
       "<table border=\"1\" class=\"dataframe\">\n",
       "  <thead>\n",
       "    <tr style=\"text-align: right;\">\n",
       "      <th></th>\n",
       "      <th>eia_id</th>\n",
       "      <th>project_name</th>\n",
       "      <th>project_turbine_num</th>\n",
       "      <th>cumulative_capacity (MW)</th>\n",
       "      <th>retrofit (y/n)</th>\n",
       "      <th>retrofit_year</th>\n",
       "      <th>eia_id_project_name</th>\n",
       "    </tr>\n",
       "  </thead>\n",
       "  <tbody>\n",
       "    <tr>\n",
       "      <th>58757</th>\n",
       "      <td>57526.0</td>\n",
       "      <td>South Hurlburt</td>\n",
       "      <td>116</td>\n",
       "      <td>290.00</td>\n",
       "      <td>0</td>\n",
       "      <td>NaN</td>\n",
       "      <td>57526.0_South Hurlburt</td>\n",
       "    </tr>\n",
       "    <tr>\n",
       "      <th>58696</th>\n",
       "      <td>57526.0</td>\n",
       "      <td>South Hurlburt</td>\n",
       "      <td>82</td>\n",
       "      <td>224.75</td>\n",
       "      <td>1</td>\n",
       "      <td>2021.0</td>\n",
       "      <td>57526.0_South Hurlburt</td>\n",
       "    </tr>\n",
       "    <tr>\n",
       "      <th>58803</th>\n",
       "      <td>57526.0</td>\n",
       "      <td>South Hurlburt</td>\n",
       "      <td>82</td>\n",
       "      <td>205.00</td>\n",
       "      <td>1</td>\n",
       "      <td>2021.0</td>\n",
       "      <td>57526.0_South Hurlburt</td>\n",
       "    </tr>\n",
       "    <tr>\n",
       "      <th>58697</th>\n",
       "      <td>57526.0</td>\n",
       "      <td>South Hurlburt</td>\n",
       "      <td>23</td>\n",
       "      <td>63.25</td>\n",
       "      <td>1</td>\n",
       "      <td>2021.0</td>\n",
       "      <td>57526.0_South Hurlburt</td>\n",
       "    </tr>\n",
       "  </tbody>\n",
       "</table>\n",
       "</div>"
      ],
      "text/plain": [
       "        eia_id    project_name  project_turbine_num  cumulative_capacity (MW)  \\\n",
       "58757  57526.0  South Hurlburt                  116                    290.00   \n",
       "58696  57526.0  South Hurlburt                   82                    224.75   \n",
       "58803  57526.0  South Hurlburt                   82                    205.00   \n",
       "58697  57526.0  South Hurlburt                   23                     63.25   \n",
       "\n",
       "       retrofit (y/n)  retrofit_year     eia_id_project_name  \n",
       "58757               0            NaN  57526.0_South Hurlburt  \n",
       "58696               1         2021.0  57526.0_South Hurlburt  \n",
       "58803               1         2021.0  57526.0_South Hurlburt  \n",
       "58697               1         2021.0  57526.0_South Hurlburt  "
      ]
     },
     "execution_count": 197,
     "metadata": {},
     "output_type": "execute_result"
    }
   ],
   "source": [
    "pd.set_option('display.max_columns', None)\n",
    "wind_turbine_df[wind_turbine_df['eia_id_project_name'] == '57526.0_South Hurlburt']\\\n",
    "[['eia_id',\n",
    " 'project_name',\n",
    " 'project_turbine_num',\n",
    " 'cumulative_capacity (MW)',\n",
    " 'retrofit (y/n)',\n",
    " 'retrofit_year',\n",
    " 'eia_id_project_name']].drop_duplicates().sort_values(by=['cumulative_capacity (MW)'], ascending=False)"
   ]
  },
  {
   "cell_type": "code",
   "execution_count": 176,
   "metadata": {},
   "outputs": [
    {
     "data": {
      "text/plain": [
       "['case_id',\n",
       " 'faa_digital_obstacle_id',\n",
       " 'faa_obstruction_evaluation_id',\n",
       " 'usgs_id',\n",
       " 'eia_id',\n",
       " 'state',\n",
       " 'county',\n",
       " 'state_county_id',\n",
       " 'project_name',\n",
       " 'operational_year',\n",
       " 'project_turbine_num',\n",
       " 'cumulative_capacity (MW)',\n",
       " 'manufacturer',\n",
       " 'model_name',\n",
       " 'turbine_capacity (KW)',\n",
       " 'hub_height (m)',\n",
       " 'rotor_diameter (m)',\n",
       " 'rotor_swept area (m2)',\n",
       " 'max_height (m)',\n",
       " 'retrofit (y/n)',\n",
       " 'retrofit_year',\n",
       " 'attribute_confidence_level (1/2/3)',\n",
       " 'location_confidence_level (1/2/3)',\n",
       " 'location_verification_date',\n",
       " 'image_source',\n",
       " 'xlong',\n",
       " 'ylat',\n",
       " 'eia_id_project_name']"
      ]
     },
     "execution_count": 176,
     "metadata": {},
     "output_type": "execute_result"
    }
   ],
   "source": [
    "# list of all the columns\n",
    "list(wind_turbine_df.columns)"
   ]
  },
  {
   "cell_type": "code",
   "execution_count": null,
   "metadata": {},
   "outputs": [],
   "source": []
  }
 ],
 "metadata": {
  "kernelspec": {
   "display_name": "Python 3",
   "language": "python",
   "name": "python3"
  },
  "language_info": {
   "codemirror_mode": {
    "name": "ipython",
    "version": 3
   },
   "file_extension": ".py",
   "mimetype": "text/x-python",
   "name": "python",
   "nbconvert_exporter": "python",
   "pygments_lexer": "ipython3",
   "version": "3.10.1"
  },
  "orig_nbformat": 4
 },
 "nbformat": 4,
 "nbformat_minor": 2
}
