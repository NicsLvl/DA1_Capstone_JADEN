{
 "cells": [
  {
   "attachments": {},
   "cell_type": "markdown",
   "metadata": {},
   "source": [
    "## Import libraries"
   ]
  },
  {
   "cell_type": "code",
   "execution_count": 1,
   "metadata": {},
   "outputs": [],
   "source": [
    "import pandas as pd\n",
    "import seaborn as sns\n",
    "import matplotlib.pyplot as plt"
   ]
  },
  {
   "attachments": {},
   "cell_type": "markdown",
   "metadata": {},
   "source": [
    "## Data Preprocessing"
   ]
  },
  {
   "cell_type": "code",
   "execution_count": 14,
   "metadata": {},
   "outputs": [
    {
     "name": "stderr",
     "output_type": "stream",
     "text": [
      "C:\\Users\\quakl\\AppData\\Local\\Temp\\ipykernel_16508\\587385051.py:5: DtypeWarning: Columns (1,2,3,4,6,7,8,12,13,14,15,16,17,19,20,21,22,23,24,25,26,27,28,29,30,31,32,33,34,35,36,37,38,39,40,41,42,43,44,45,46,47,48,49,50,51,52,53,54,55,56,57,58,59,60,61,62,63,64,65,66,67,68,69,70,71,72,73,74,75,76,77,78,79,80,81,82,83,84,85,86,87,88,89,90) have mixed types. Specify dtype option on import or set low_memory=False.\n",
      "  wind_turbine_df = pd.read_csv(filename)\n"
     ]
    },
    {
     "data": {
      "text/plain": [
       "(71787, 124)"
      ]
     },
     "execution_count": 14,
     "metadata": {},
     "output_type": "execute_result"
    }
   ],
   "source": [
    "# define file name\n",
    "filename = r'Use this dataset\\uswtdb_v5_0_20220427_rename.csv'\n",
    "\n",
    "# read csv file\n",
    "wind_turbine_df = pd.read_csv(filename)\n",
    "\n",
    "# check number of rows and columns\n",
    "wind_turbine_df.shape"
   ]
  },
  {
   "cell_type": "code",
   "execution_count": 15,
   "metadata": {},
   "outputs": [
    {
     "data": {
      "text/plain": [
       "Index(['Plant Id', 'Combined Heat And\\nPower Plant', 'Nuclear Unit Id',\n",
       "       'Plant Name', 'Operator Name', 'Operator Id', 'Plant State',\n",
       "       'Census Region', 'NERC Region', 'Reserved',\n",
       "       ...\n",
       "       'rotor_swept area (m2)', 'max_height (m)', 'retrofit (y/n)',\n",
       "       'retrofit_year', 'attribute_confidence_level (1/2/3)',\n",
       "       'location_confidence_level (1/2/3)', 'location_verification_date',\n",
       "       'image_source', 'xlong', 'ylat'],\n",
       "      dtype='object', length=124)"
      ]
     },
     "execution_count": 15,
     "metadata": {},
     "output_type": "execute_result"
    }
   ],
   "source": [
    "# get the columns of the dataframe\n",
    "wind_turbine_df.columns"
   ]
  },
  {
   "cell_type": "code",
   "execution_count": 16,
   "metadata": {},
   "outputs": [
    {
     "data": {
      "text/plain": [
       "1"
      ]
     },
     "execution_count": 16,
     "metadata": {},
     "output_type": "execute_result"
    }
   ],
   "source": [
    "# filter unecessary columns\n",
    "wind_turbine_df = wind_turbine_df[[#'faa_digital_obstacle_id', 'faa_obstruction_evaluation_id', 'usgs_id', \n",
    "                                   'Plant Id', 'eia_id', 'state', 'county',\n",
    "                                   # 'state_county_id',\n",
    "                                   'project_name', 'operational_year', 'project_turbine_num',\n",
    "                                   'cumulative_capacity (MW)',\n",
    "                                   # 'manufacturer', 'model_name', \n",
    "                                   'turbine_capacity (KW)',\n",
    "                                   # 'hub_height (m)', \n",
    "                                   # 'rotor_diameter (m)', 'rotor_swept area (m2)', 'max_height (m)', 'retrofit (y/n)',\n",
    "                                   # 'retrofit_year', 'attribute_confidence_level (1/2/3)',\n",
    "                                   # 'location_confidence_level (1/2/3)', 'location_verification_date', 'image_source', \n",
    "                                   'xlong', 'ylat']]\n",
    "\n",
    "# check for duplicates\n",
    "wind_turbine_df.duplicated().sum()"
   ]
  },
  {
   "cell_type": "code",
   "execution_count": 17,
   "metadata": {},
   "outputs": [
    {
     "data": {
      "text/html": [
       "<div>\n",
       "<style scoped>\n",
       "    .dataframe tbody tr th:only-of-type {\n",
       "        vertical-align: middle;\n",
       "    }\n",
       "\n",
       "    .dataframe tbody tr th {\n",
       "        vertical-align: top;\n",
       "    }\n",
       "\n",
       "    .dataframe thead th {\n",
       "        text-align: right;\n",
       "    }\n",
       "</style>\n",
       "<table border=\"1\" class=\"dataframe\">\n",
       "  <thead>\n",
       "    <tr style=\"text-align: right;\">\n",
       "      <th></th>\n",
       "      <th>Plant Id</th>\n",
       "      <th>eia_id</th>\n",
       "      <th>state</th>\n",
       "      <th>county</th>\n",
       "      <th>project_name</th>\n",
       "      <th>operational_year</th>\n",
       "      <th>project_turbine_num</th>\n",
       "      <th>cumulative_capacity (MW)</th>\n",
       "      <th>turbine_capacity (KW)</th>\n",
       "      <th>xlong</th>\n",
       "      <th>ylat</th>\n",
       "    </tr>\n",
       "  </thead>\n",
       "  <tbody>\n",
       "    <tr>\n",
       "      <th>64538</th>\n",
       "      <td>99999.0</td>\n",
       "      <td>NaN</td>\n",
       "      <td>NaN</td>\n",
       "      <td>NaN</td>\n",
       "      <td>NaN</td>\n",
       "      <td>NaN</td>\n",
       "      <td>NaN</td>\n",
       "      <td>NaN</td>\n",
       "      <td>NaN</td>\n",
       "      <td>NaN</td>\n",
       "      <td>NaN</td>\n",
       "    </tr>\n",
       "  </tbody>\n",
       "</table>\n",
       "</div>"
      ],
      "text/plain": [
       "       Plant Id  eia_id state county project_name  operational_year  \\\n",
       "64538   99999.0     NaN   NaN    NaN          NaN               NaN   \n",
       "\n",
       "       project_turbine_num  cumulative_capacity (MW)  turbine_capacity (KW)  \\\n",
       "64538                  NaN                       NaN                    NaN   \n",
       "\n",
       "       xlong  ylat  \n",
       "64538    NaN   NaN  "
      ]
     },
     "execution_count": 17,
     "metadata": {},
     "output_type": "execute_result"
    }
   ],
   "source": [
    "# show duplicated rows\n",
    "wind_turbine_df[wind_turbine_df.duplicated()]"
   ]
  },
  {
   "cell_type": "code",
   "execution_count": 20,
   "metadata": {},
   "outputs": [
    {
     "data": {
      "text/plain": [
       "0"
      ]
     },
     "execution_count": 20,
     "metadata": {},
     "output_type": "execute_result"
    }
   ],
   "source": [
    "# drop Plant Id = 99999.0\n",
    "wind_turbine_df = wind_turbine_df[wind_turbine_df['Plant Id'] != 99999.0]\n",
    "\n",
    "# check for duplicates\n",
    "wind_turbine_df.duplicated().sum()"
   ]
  },
  {
   "cell_type": "code",
   "execution_count": 22,
   "metadata": {},
   "outputs": [
    {
     "data": {
      "text/plain": [
       "Plant Id                    7248\n",
       "eia_id                      6208\n",
       "turbine_capacity (KW)       4442\n",
       "cumulative_capacity (MW)    3454\n",
       "operational_year             682\n",
       "state                        119\n",
       "county                       119\n",
       "project_name                 119\n",
       "project_turbine_num          119\n",
       "xlong                        119\n",
       "ylat                         119\n",
       "dtype: int64"
      ]
     },
     "execution_count": 22,
     "metadata": {},
     "output_type": "execute_result"
    }
   ],
   "source": [
    "# check null values\n",
    "wind_turbine_df.isnull().sum()[lambda x: x > 0].sort_values(ascending=False)"
   ]
  },
  {
   "cell_type": "code",
   "execution_count": 23,
   "metadata": {},
   "outputs": [
    {
     "data": {
      "text/plain": [
       "turbine_capacity (KW)       874\n",
       "operational_year            121\n",
       "cumulative_capacity (MW)    121\n",
       "eia_id                      119\n",
       "state                       119\n",
       "county                      119\n",
       "project_name                119\n",
       "project_turbine_num         119\n",
       "xlong                       119\n",
       "ylat                        119\n",
       "dtype: int64"
      ]
     },
     "execution_count": 23,
     "metadata": {},
     "output_type": "execute_result"
    }
   ],
   "source": [
    "# drop for Plant Id that is null\n",
    "wind_turbine_df = wind_turbine_df[wind_turbine_df['Plant Id'].notna()]\n",
    "\n",
    "# check null values\n",
    "wind_turbine_df.isnull().sum()[lambda x: x > 0].sort_values(ascending=False)"
   ]
  },
  {
   "cell_type": "code",
   "execution_count": 24,
   "metadata": {},
   "outputs": [
    {
     "data": {
      "text/html": [
       "<div>\n",
       "<style scoped>\n",
       "    .dataframe tbody tr th:only-of-type {\n",
       "        vertical-align: middle;\n",
       "    }\n",
       "\n",
       "    .dataframe tbody tr th {\n",
       "        vertical-align: top;\n",
       "    }\n",
       "\n",
       "    .dataframe thead th {\n",
       "        text-align: right;\n",
       "    }\n",
       "</style>\n",
       "<table border=\"1\" class=\"dataframe\">\n",
       "  <thead>\n",
       "    <tr style=\"text-align: right;\">\n",
       "      <th></th>\n",
       "      <th>Plant Id</th>\n",
       "      <th>eia_id</th>\n",
       "      <th>state</th>\n",
       "      <th>county</th>\n",
       "      <th>project_name</th>\n",
       "      <th>operational_year</th>\n",
       "      <th>project_turbine_num</th>\n",
       "      <th>cumulative_capacity (MW)</th>\n",
       "      <th>turbine_capacity (KW)</th>\n",
       "      <th>xlong</th>\n",
       "      <th>ylat</th>\n",
       "    </tr>\n",
       "  </thead>\n",
       "  <tbody>\n",
       "    <tr>\n",
       "      <th>0</th>\n",
       "      <td>1.0</td>\n",
       "      <td>NaN</td>\n",
       "      <td>NaN</td>\n",
       "      <td>NaN</td>\n",
       "      <td>NaN</td>\n",
       "      <td>NaN</td>\n",
       "      <td>NaN</td>\n",
       "      <td>NaN</td>\n",
       "      <td>NaN</td>\n",
       "      <td>NaN</td>\n",
       "      <td>NaN</td>\n",
       "    </tr>\n",
       "    <tr>\n",
       "      <th>44</th>\n",
       "      <td>2240.0</td>\n",
       "      <td>NaN</td>\n",
       "      <td>NaN</td>\n",
       "      <td>NaN</td>\n",
       "      <td>NaN</td>\n",
       "      <td>NaN</td>\n",
       "      <td>NaN</td>\n",
       "      <td>NaN</td>\n",
       "      <td>NaN</td>\n",
       "      <td>NaN</td>\n",
       "      <td>NaN</td>\n",
       "    </tr>\n",
       "    <tr>\n",
       "      <th>1869</th>\n",
       "      <td>52142.0</td>\n",
       "      <td>NaN</td>\n",
       "      <td>NaN</td>\n",
       "      <td>NaN</td>\n",
       "      <td>NaN</td>\n",
       "      <td>NaN</td>\n",
       "      <td>NaN</td>\n",
       "      <td>NaN</td>\n",
       "      <td>NaN</td>\n",
       "      <td>NaN</td>\n",
       "      <td>NaN</td>\n",
       "    </tr>\n",
       "    <tr>\n",
       "      <th>1942</th>\n",
       "      <td>54299.0</td>\n",
       "      <td>NaN</td>\n",
       "      <td>NaN</td>\n",
       "      <td>NaN</td>\n",
       "      <td>NaN</td>\n",
       "      <td>NaN</td>\n",
       "      <td>NaN</td>\n",
       "      <td>NaN</td>\n",
       "      <td>NaN</td>\n",
       "      <td>NaN</td>\n",
       "      <td>NaN</td>\n",
       "    </tr>\n",
       "    <tr>\n",
       "      <th>1943</th>\n",
       "      <td>54300.0</td>\n",
       "      <td>NaN</td>\n",
       "      <td>NaN</td>\n",
       "      <td>NaN</td>\n",
       "      <td>NaN</td>\n",
       "      <td>NaN</td>\n",
       "      <td>NaN</td>\n",
       "      <td>NaN</td>\n",
       "      <td>NaN</td>\n",
       "      <td>NaN</td>\n",
       "      <td>NaN</td>\n",
       "    </tr>\n",
       "    <tr>\n",
       "      <th>...</th>\n",
       "      <td>...</td>\n",
       "      <td>...</td>\n",
       "      <td>...</td>\n",
       "      <td>...</td>\n",
       "      <td>...</td>\n",
       "      <td>...</td>\n",
       "      <td>...</td>\n",
       "      <td>...</td>\n",
       "      <td>...</td>\n",
       "      <td>...</td>\n",
       "      <td>...</td>\n",
       "    </tr>\n",
       "    <tr>\n",
       "      <th>64532</th>\n",
       "      <td>65143.0</td>\n",
       "      <td>NaN</td>\n",
       "      <td>NaN</td>\n",
       "      <td>NaN</td>\n",
       "      <td>NaN</td>\n",
       "      <td>NaN</td>\n",
       "      <td>NaN</td>\n",
       "      <td>NaN</td>\n",
       "      <td>NaN</td>\n",
       "      <td>NaN</td>\n",
       "      <td>NaN</td>\n",
       "    </tr>\n",
       "    <tr>\n",
       "      <th>64533</th>\n",
       "      <td>65316.0</td>\n",
       "      <td>NaN</td>\n",
       "      <td>NaN</td>\n",
       "      <td>NaN</td>\n",
       "      <td>NaN</td>\n",
       "      <td>NaN</td>\n",
       "      <td>NaN</td>\n",
       "      <td>NaN</td>\n",
       "      <td>NaN</td>\n",
       "      <td>NaN</td>\n",
       "      <td>NaN</td>\n",
       "    </tr>\n",
       "    <tr>\n",
       "      <th>64534</th>\n",
       "      <td>65478.0</td>\n",
       "      <td>NaN</td>\n",
       "      <td>NaN</td>\n",
       "      <td>NaN</td>\n",
       "      <td>NaN</td>\n",
       "      <td>NaN</td>\n",
       "      <td>NaN</td>\n",
       "      <td>NaN</td>\n",
       "      <td>NaN</td>\n",
       "      <td>NaN</td>\n",
       "      <td>NaN</td>\n",
       "    </tr>\n",
       "    <tr>\n",
       "      <th>64535</th>\n",
       "      <td>65479.0</td>\n",
       "      <td>NaN</td>\n",
       "      <td>NaN</td>\n",
       "      <td>NaN</td>\n",
       "      <td>NaN</td>\n",
       "      <td>NaN</td>\n",
       "      <td>NaN</td>\n",
       "      <td>NaN</td>\n",
       "      <td>NaN</td>\n",
       "      <td>NaN</td>\n",
       "      <td>NaN</td>\n",
       "    </tr>\n",
       "    <tr>\n",
       "      <th>64536</th>\n",
       "      <td>65484.0</td>\n",
       "      <td>NaN</td>\n",
       "      <td>NaN</td>\n",
       "      <td>NaN</td>\n",
       "      <td>NaN</td>\n",
       "      <td>NaN</td>\n",
       "      <td>NaN</td>\n",
       "      <td>NaN</td>\n",
       "      <td>NaN</td>\n",
       "      <td>NaN</td>\n",
       "      <td>NaN</td>\n",
       "    </tr>\n",
       "  </tbody>\n",
       "</table>\n",
       "<p>119 rows × 11 columns</p>\n",
       "</div>"
      ],
      "text/plain": [
       "       Plant Id  eia_id state county project_name  operational_year  \\\n",
       "0           1.0     NaN   NaN    NaN          NaN               NaN   \n",
       "44       2240.0     NaN   NaN    NaN          NaN               NaN   \n",
       "1869    52142.0     NaN   NaN    NaN          NaN               NaN   \n",
       "1942    54299.0     NaN   NaN    NaN          NaN               NaN   \n",
       "1943    54300.0     NaN   NaN    NaN          NaN               NaN   \n",
       "...         ...     ...   ...    ...          ...               ...   \n",
       "64532   65143.0     NaN   NaN    NaN          NaN               NaN   \n",
       "64533   65316.0     NaN   NaN    NaN          NaN               NaN   \n",
       "64534   65478.0     NaN   NaN    NaN          NaN               NaN   \n",
       "64535   65479.0     NaN   NaN    NaN          NaN               NaN   \n",
       "64536   65484.0     NaN   NaN    NaN          NaN               NaN   \n",
       "\n",
       "       project_turbine_num  cumulative_capacity (MW)  turbine_capacity (KW)  \\\n",
       "0                      NaN                       NaN                    NaN   \n",
       "44                     NaN                       NaN                    NaN   \n",
       "1869                   NaN                       NaN                    NaN   \n",
       "1942                   NaN                       NaN                    NaN   \n",
       "1943                   NaN                       NaN                    NaN   \n",
       "...                    ...                       ...                    ...   \n",
       "64532                  NaN                       NaN                    NaN   \n",
       "64533                  NaN                       NaN                    NaN   \n",
       "64534                  NaN                       NaN                    NaN   \n",
       "64535                  NaN                       NaN                    NaN   \n",
       "64536                  NaN                       NaN                    NaN   \n",
       "\n",
       "       xlong  ylat  \n",
       "0        NaN   NaN  \n",
       "44       NaN   NaN  \n",
       "1869     NaN   NaN  \n",
       "1942     NaN   NaN  \n",
       "1943     NaN   NaN  \n",
       "...      ...   ...  \n",
       "64532    NaN   NaN  \n",
       "64533    NaN   NaN  \n",
       "64534    NaN   NaN  \n",
       "64535    NaN   NaN  \n",
       "64536    NaN   NaN  \n",
       "\n",
       "[119 rows x 11 columns]"
      ]
     },
     "execution_count": 24,
     "metadata": {},
     "output_type": "execute_result"
    }
   ],
   "source": [
    "# show values for eia_id that are null\n",
    "wind_turbine_df[wind_turbine_df['eia_id'].isnull()]"
   ]
  },
  {
   "cell_type": "code",
   "execution_count": 25,
   "metadata": {},
   "outputs": [
    {
     "data": {
      "text/plain": [
       "turbine_capacity (KW)       755\n",
       "operational_year              2\n",
       "cumulative_capacity (MW)      2\n",
       "dtype: int64"
      ]
     },
     "execution_count": 25,
     "metadata": {},
     "output_type": "execute_result"
    }
   ],
   "source": [
    "# remove for eia_id that are null\n",
    "wind_turbine_df = wind_turbine_df[wind_turbine_df['eia_id'].notna()]\n",
    "\n",
    "# check null values\n",
    "wind_turbine_df.isnull().sum()[lambda x: x > 0].sort_values(ascending=False)"
   ]
  },
  {
   "cell_type": "code",
   "execution_count": 26,
   "metadata": {},
   "outputs": [
    {
     "data": {
      "text/html": [
       "<div>\n",
       "<style scoped>\n",
       "    .dataframe tbody tr th:only-of-type {\n",
       "        vertical-align: middle;\n",
       "    }\n",
       "\n",
       "    .dataframe tbody tr th {\n",
       "        vertical-align: top;\n",
       "    }\n",
       "\n",
       "    .dataframe thead th {\n",
       "        text-align: right;\n",
       "    }\n",
       "</style>\n",
       "<table border=\"1\" class=\"dataframe\">\n",
       "  <thead>\n",
       "    <tr style=\"text-align: right;\">\n",
       "      <th></th>\n",
       "      <th>Plant Id</th>\n",
       "      <th>eia_id</th>\n",
       "      <th>state</th>\n",
       "      <th>county</th>\n",
       "      <th>project_name</th>\n",
       "      <th>operational_year</th>\n",
       "      <th>project_turbine_num</th>\n",
       "      <th>cumulative_capacity (MW)</th>\n",
       "      <th>turbine_capacity (KW)</th>\n",
       "      <th>xlong</th>\n",
       "      <th>ylat</th>\n",
       "    </tr>\n",
       "  </thead>\n",
       "  <tbody>\n",
       "  </tbody>\n",
       "</table>\n",
       "</div>"
      ],
      "text/plain": [
       "Empty DataFrame\n",
       "Columns: [Plant Id, eia_id, state, county, project_name, operational_year, project_turbine_num, cumulative_capacity (MW), turbine_capacity (KW), xlong, ylat]\n",
       "Index: []"
      ]
     },
     "execution_count": 26,
     "metadata": {},
     "output_type": "execute_result"
    }
   ],
   "source": [
    "# check if all Plant Id = eia_id\n",
    "wind_turbine_df[wind_turbine_df['Plant Id'] != wind_turbine_df['eia_id']]"
   ]
  },
  {
   "cell_type": "code",
   "execution_count": 27,
   "metadata": {},
   "outputs": [
    {
     "data": {
      "text/html": [
       "<div>\n",
       "<style scoped>\n",
       "    .dataframe tbody tr th:only-of-type {\n",
       "        vertical-align: middle;\n",
       "    }\n",
       "\n",
       "    .dataframe tbody tr th {\n",
       "        vertical-align: top;\n",
       "    }\n",
       "\n",
       "    .dataframe thead th {\n",
       "        text-align: right;\n",
       "    }\n",
       "</style>\n",
       "<table border=\"1\" class=\"dataframe\">\n",
       "  <thead>\n",
       "    <tr style=\"text-align: right;\">\n",
       "      <th></th>\n",
       "      <th>Plant Id</th>\n",
       "      <th>eia_id</th>\n",
       "      <th>state</th>\n",
       "      <th>county</th>\n",
       "      <th>project_name</th>\n",
       "      <th>operational_year</th>\n",
       "      <th>project_turbine_num</th>\n",
       "      <th>cumulative_capacity (MW)</th>\n",
       "      <th>turbine_capacity (KW)</th>\n",
       "      <th>xlong</th>\n",
       "      <th>ylat</th>\n",
       "    </tr>\n",
       "  </thead>\n",
       "  <tbody>\n",
       "    <tr>\n",
       "      <th>977</th>\n",
       "      <td>50532.0</td>\n",
       "      <td>50532.0</td>\n",
       "      <td>CA</td>\n",
       "      <td>Kern County</td>\n",
       "      <td>Historic Victory Garden (Wind Stream)</td>\n",
       "      <td>NaN</td>\n",
       "      <td>215.0</td>\n",
       "      <td>17.0</td>\n",
       "      <td>NaN</td>\n",
       "      <td>-118.375799</td>\n",
       "      <td>35.074235</td>\n",
       "    </tr>\n",
       "    <tr>\n",
       "      <th>1021</th>\n",
       "      <td>50532.0</td>\n",
       "      <td>50532.0</td>\n",
       "      <td>CA</td>\n",
       "      <td>Kern County</td>\n",
       "      <td>Historic Victory Garden (Wind Stream)</td>\n",
       "      <td>NaN</td>\n",
       "      <td>215.0</td>\n",
       "      <td>17.0</td>\n",
       "      <td>NaN</td>\n",
       "      <td>-118.375610</td>\n",
       "      <td>35.074281</td>\n",
       "    </tr>\n",
       "  </tbody>\n",
       "</table>\n",
       "</div>"
      ],
      "text/plain": [
       "      Plant Id   eia_id state       county  \\\n",
       "977    50532.0  50532.0    CA  Kern County   \n",
       "1021   50532.0  50532.0    CA  Kern County   \n",
       "\n",
       "                               project_name  operational_year  \\\n",
       "977   Historic Victory Garden (Wind Stream)               NaN   \n",
       "1021  Historic Victory Garden (Wind Stream)               NaN   \n",
       "\n",
       "      project_turbine_num  cumulative_capacity (MW)  turbine_capacity (KW)  \\\n",
       "977                 215.0                      17.0                    NaN   \n",
       "1021                215.0                      17.0                    NaN   \n",
       "\n",
       "           xlong       ylat  \n",
       "977  -118.375799  35.074235  \n",
       "1021 -118.375610  35.074281  "
      ]
     },
     "execution_count": 27,
     "metadata": {},
     "output_type": "execute_result"
    }
   ],
   "source": [
    "# show values for operational_year that are null\n",
    "wind_turbine_df[wind_turbine_df['operational_year'].isnull()]"
   ]
  },
  {
   "cell_type": "code",
   "execution_count": 28,
   "metadata": {},
   "outputs": [
    {
     "data": {
      "text/plain": [
       "turbine_capacity (KW)       755\n",
       "cumulative_capacity (MW)      2\n",
       "dtype: int64"
      ]
     },
     "execution_count": 28,
     "metadata": {},
     "output_type": "execute_result"
    }
   ],
   "source": [
    "# replace project_name = \"Historic Victory Garden (Wind Stream)\" with operational_year = 1982\n",
    "# http://www.windstreamproperties.com/victory-garden.html - proj details\n",
    "# https://eerscmap.usgs.gov/uswtdb/viewer/#13.39/35.06889/-118.38267 - proj operational date\n",
    "wind_turbine_df.loc[wind_turbine_df['project_name'] == 'Historic Victory Garden (Wind Stream)', 'operational_year'] = 1982\n",
    "\n",
    "# check null values\n",
    "wind_turbine_df.isnull().sum()[lambda x: x > 0].sort_values(ascending=False)"
   ]
  },
  {
   "cell_type": "code",
   "execution_count": 29,
   "metadata": {},
   "outputs": [
    {
     "data": {
      "text/html": [
       "<div>\n",
       "<style scoped>\n",
       "    .dataframe tbody tr th:only-of-type {\n",
       "        vertical-align: middle;\n",
       "    }\n",
       "\n",
       "    .dataframe tbody tr th {\n",
       "        vertical-align: top;\n",
       "    }\n",
       "\n",
       "    .dataframe thead th {\n",
       "        text-align: right;\n",
       "    }\n",
       "</style>\n",
       "<table border=\"1\" class=\"dataframe\">\n",
       "  <thead>\n",
       "    <tr style=\"text-align: right;\">\n",
       "      <th></th>\n",
       "      <th>Plant Id</th>\n",
       "      <th>eia_id</th>\n",
       "      <th>state</th>\n",
       "      <th>county</th>\n",
       "      <th>project_name</th>\n",
       "      <th>operational_year</th>\n",
       "      <th>project_turbine_num</th>\n",
       "      <th>cumulative_capacity (MW)</th>\n",
       "      <th>turbine_capacity (KW)</th>\n",
       "      <th>xlong</th>\n",
       "      <th>ylat</th>\n",
       "    </tr>\n",
       "  </thead>\n",
       "  <tbody>\n",
       "    <tr>\n",
       "      <th>57947</th>\n",
       "      <td>62442.0</td>\n",
       "      <td>62442.0</td>\n",
       "      <td>MN</td>\n",
       "      <td>Freeborn County</td>\n",
       "      <td>Lake Region Community Hybrid, LLC</td>\n",
       "      <td>2018.0</td>\n",
       "      <td>1.0</td>\n",
       "      <td>NaN</td>\n",
       "      <td>NaN</td>\n",
       "      <td>-93.307907</td>\n",
       "      <td>43.580891</td>\n",
       "    </tr>\n",
       "    <tr>\n",
       "      <th>59477</th>\n",
       "      <td>62642.0</td>\n",
       "      <td>62642.0</td>\n",
       "      <td>TX</td>\n",
       "      <td>Lubbock County</td>\n",
       "      <td>unknown Lubbock County</td>\n",
       "      <td>2015.0</td>\n",
       "      <td>6.0</td>\n",
       "      <td>NaN</td>\n",
       "      <td>NaN</td>\n",
       "      <td>-102.056847</td>\n",
       "      <td>33.591496</td>\n",
       "    </tr>\n",
       "  </tbody>\n",
       "</table>\n",
       "</div>"
      ],
      "text/plain": [
       "       Plant Id   eia_id state           county  \\\n",
       "57947   62442.0  62442.0    MN  Freeborn County   \n",
       "59477   62642.0  62642.0    TX   Lubbock County   \n",
       "\n",
       "                            project_name  operational_year  \\\n",
       "57947  Lake Region Community Hybrid, LLC            2018.0   \n",
       "59477             unknown Lubbock County            2015.0   \n",
       "\n",
       "       project_turbine_num  cumulative_capacity (MW)  turbine_capacity (KW)  \\\n",
       "57947                  1.0                       NaN                    NaN   \n",
       "59477                  6.0                       NaN                    NaN   \n",
       "\n",
       "            xlong       ylat  \n",
       "57947  -93.307907  43.580891  \n",
       "59477 -102.056847  33.591496  "
      ]
     },
     "execution_count": 29,
     "metadata": {},
     "output_type": "execute_result"
    }
   ],
   "source": [
    "# check for cumulative_capacity (MW) that are null\n",
    "wind_turbine_df[wind_turbine_df['cumulative_capacity (MW)'].isnull()]"
   ]
  },
  {
   "cell_type": "code",
   "execution_count": 32,
   "metadata": {},
   "outputs": [
    {
     "data": {
      "text/html": [
       "<div>\n",
       "<style scoped>\n",
       "    .dataframe tbody tr th:only-of-type {\n",
       "        vertical-align: middle;\n",
       "    }\n",
       "\n",
       "    .dataframe tbody tr th {\n",
       "        vertical-align: top;\n",
       "    }\n",
       "\n",
       "    .dataframe thead th {\n",
       "        text-align: right;\n",
       "    }\n",
       "</style>\n",
       "<table border=\"1\" class=\"dataframe\">\n",
       "  <thead>\n",
       "    <tr style=\"text-align: right;\">\n",
       "      <th></th>\n",
       "      <th>Plant Id</th>\n",
       "      <th>eia_id</th>\n",
       "      <th>state</th>\n",
       "      <th>county</th>\n",
       "      <th>project_name</th>\n",
       "      <th>operational_year</th>\n",
       "      <th>project_turbine_num</th>\n",
       "      <th>cumulative_capacity (MW)</th>\n",
       "      <th>turbine_capacity (KW)</th>\n",
       "      <th>xlong</th>\n",
       "      <th>ylat</th>\n",
       "    </tr>\n",
       "  </thead>\n",
       "  <tbody>\n",
       "    <tr>\n",
       "      <th>57947</th>\n",
       "      <td>62442.0</td>\n",
       "      <td>62442.0</td>\n",
       "      <td>MN</td>\n",
       "      <td>Freeborn County</td>\n",
       "      <td>Lake Region Community Hybrid, LLC</td>\n",
       "      <td>2020.0</td>\n",
       "      <td>1.0</td>\n",
       "      <td>NaN</td>\n",
       "      <td>2500.0</td>\n",
       "      <td>-93.307907</td>\n",
       "      <td>43.580891</td>\n",
       "    </tr>\n",
       "  </tbody>\n",
       "</table>\n",
       "</div>"
      ],
      "text/plain": [
       "       Plant Id   eia_id state           county  \\\n",
       "57947   62442.0  62442.0    MN  Freeborn County   \n",
       "\n",
       "                            project_name  operational_year  \\\n",
       "57947  Lake Region Community Hybrid, LLC            2020.0   \n",
       "\n",
       "       project_turbine_num  cumulative_capacity (MW)  turbine_capacity (KW)  \\\n",
       "57947                  1.0                       NaN                 2500.0   \n",
       "\n",
       "           xlong       ylat  \n",
       "57947 -93.307907  43.580891  "
      ]
     },
     "execution_count": 32,
     "metadata": {},
     "output_type": "execute_result"
    }
   ],
   "source": [
    "# replace project_name = \"Lake Region Community Hybrid, LLC\" with operational_year = 2020, turbine_capacity (KW) = 2500\n",
    "# https://www.albertleatribune.com/2020/08/county-board-gives-go-ahead-for-new-wind-turbine-project/ - proj details\n",
    "# https://eerscmap.usgs.gov/uswtdb/viewer/#10.02/43.6746/-93.3486\n",
    "wind_turbine_df.loc[wind_turbine_df['project_name'] == 'Lake Region Community Hybrid, LLC', ['operational_year', 'turbine_capacity (KW)']] = [2020, 2500]\n",
    "\n",
    "# check project_name = \"Lake Region Community Hybrid, LLC\"\n",
    "wind_turbine_df[wind_turbine_df['project_name'] == 'Lake Region Community Hybrid, LLC']"
   ]
  },
  {
   "cell_type": "code",
   "execution_count": 33,
   "metadata": {},
   "outputs": [
    {
     "data": {
      "text/html": [
       "<div>\n",
       "<style scoped>\n",
       "    .dataframe tbody tr th:only-of-type {\n",
       "        vertical-align: middle;\n",
       "    }\n",
       "\n",
       "    .dataframe tbody tr th {\n",
       "        vertical-align: top;\n",
       "    }\n",
       "\n",
       "    .dataframe thead th {\n",
       "        text-align: right;\n",
       "    }\n",
       "</style>\n",
       "<table border=\"1\" class=\"dataframe\">\n",
       "  <thead>\n",
       "    <tr style=\"text-align: right;\">\n",
       "      <th></th>\n",
       "      <th>Plant Id</th>\n",
       "      <th>eia_id</th>\n",
       "      <th>state</th>\n",
       "      <th>county</th>\n",
       "      <th>project_name</th>\n",
       "      <th>operational_year</th>\n",
       "      <th>project_turbine_num</th>\n",
       "      <th>cumulative_capacity (MW)</th>\n",
       "      <th>turbine_capacity (KW)</th>\n",
       "      <th>xlong</th>\n",
       "      <th>ylat</th>\n",
       "      <th>project_turbine_capacity (MW)</th>\n",
       "      <th>2021_project_turbine_num</th>\n",
       "    </tr>\n",
       "  </thead>\n",
       "  <tbody>\n",
       "    <tr>\n",
       "      <th>1</th>\n",
       "      <td>90.0</td>\n",
       "      <td>90.0</td>\n",
       "      <td>AK</td>\n",
       "      <td>Nome Census Area</td>\n",
       "      <td>Nome</td>\n",
       "      <td>2008.0</td>\n",
       "      <td>18.0</td>\n",
       "      <td>0.9</td>\n",
       "      <td>50.0</td>\n",
       "      <td>-165.426483</td>\n",
       "      <td>64.571999</td>\n",
       "      <td>0.75</td>\n",
       "      <td>15</td>\n",
       "    </tr>\n",
       "    <tr>\n",
       "      <th>2</th>\n",
       "      <td>90.0</td>\n",
       "      <td>90.0</td>\n",
       "      <td>AK</td>\n",
       "      <td>Nome Census Area</td>\n",
       "      <td>Nome</td>\n",
       "      <td>2008.0</td>\n",
       "      <td>18.0</td>\n",
       "      <td>0.9</td>\n",
       "      <td>50.0</td>\n",
       "      <td>-165.427277</td>\n",
       "      <td>64.571198</td>\n",
       "      <td>0.75</td>\n",
       "      <td>15</td>\n",
       "    </tr>\n",
       "    <tr>\n",
       "      <th>3</th>\n",
       "      <td>90.0</td>\n",
       "      <td>90.0</td>\n",
       "      <td>AK</td>\n",
       "      <td>Nome Census Area</td>\n",
       "      <td>Nome</td>\n",
       "      <td>2008.0</td>\n",
       "      <td>18.0</td>\n",
       "      <td>0.9</td>\n",
       "      <td>50.0</td>\n",
       "      <td>-165.433680</td>\n",
       "      <td>64.565158</td>\n",
       "      <td>0.75</td>\n",
       "      <td>15</td>\n",
       "    </tr>\n",
       "    <tr>\n",
       "      <th>4</th>\n",
       "      <td>90.0</td>\n",
       "      <td>90.0</td>\n",
       "      <td>AK</td>\n",
       "      <td>Nome Census Area</td>\n",
       "      <td>Nome</td>\n",
       "      <td>2008.0</td>\n",
       "      <td>18.0</td>\n",
       "      <td>0.9</td>\n",
       "      <td>50.0</td>\n",
       "      <td>-165.425278</td>\n",
       "      <td>64.572205</td>\n",
       "      <td>0.75</td>\n",
       "      <td>15</td>\n",
       "    </tr>\n",
       "    <tr>\n",
       "      <th>5</th>\n",
       "      <td>90.0</td>\n",
       "      <td>90.0</td>\n",
       "      <td>AK</td>\n",
       "      <td>Nome Census Area</td>\n",
       "      <td>Nome</td>\n",
       "      <td>2008.0</td>\n",
       "      <td>18.0</td>\n",
       "      <td>0.9</td>\n",
       "      <td>50.0</td>\n",
       "      <td>-165.433380</td>\n",
       "      <td>64.563202</td>\n",
       "      <td>0.75</td>\n",
       "      <td>15</td>\n",
       "    </tr>\n",
       "  </tbody>\n",
       "</table>\n",
       "</div>"
      ],
      "text/plain": [
       "   Plant Id  eia_id state            county project_name  operational_year  \\\n",
       "1      90.0    90.0    AK  Nome Census Area         Nome            2008.0   \n",
       "2      90.0    90.0    AK  Nome Census Area         Nome            2008.0   \n",
       "3      90.0    90.0    AK  Nome Census Area         Nome            2008.0   \n",
       "4      90.0    90.0    AK  Nome Census Area         Nome            2008.0   \n",
       "5      90.0    90.0    AK  Nome Census Area         Nome            2008.0   \n",
       "\n",
       "   project_turbine_num  cumulative_capacity (MW)  turbine_capacity (KW)  \\\n",
       "1                 18.0                       0.9                   50.0   \n",
       "2                 18.0                       0.9                   50.0   \n",
       "3                 18.0                       0.9                   50.0   \n",
       "4                 18.0                       0.9                   50.0   \n",
       "5                 18.0                       0.9                   50.0   \n",
       "\n",
       "        xlong       ylat  project_turbine_capacity (MW)  \\\n",
       "1 -165.426483  64.571999                           0.75   \n",
       "2 -165.427277  64.571198                           0.75   \n",
       "3 -165.433680  64.565158                           0.75   \n",
       "4 -165.425278  64.572205                           0.75   \n",
       "5 -165.433380  64.563202                           0.75   \n",
       "\n",
       "   2021_project_turbine_num  \n",
       "1                        15  \n",
       "2                        15  \n",
       "3                        15  \n",
       "4                        15  \n",
       "5                        15  "
      ]
     },
     "execution_count": 33,
     "metadata": {},
     "output_type": "execute_result"
    }
   ],
   "source": [
    "# add a column for project_turbine_capacity (MW) by summing turbine_capacity (KW) grouped by project_name\n",
    "wind_turbine_df['project_turbine_capacity (MW)'] = wind_turbine_df.groupby('project_name')['turbine_capacity (KW)'].transform('sum') / 1000\n",
    "\n",
    "# add a column for 2021_project_num by counting number of rows grouped by project_name\n",
    "wind_turbine_df['2021_project_turbine_num'] = wind_turbine_df.groupby('project_name')['project_name'].transform('count')\n",
    "\n",
    "# print first 5 rows\n",
    "wind_turbine_df.head()"
   ]
  },
  {
   "cell_type": "code",
   "execution_count": null,
   "metadata": {},
   "outputs": [],
   "source": []
  },
  {
   "cell_type": "code",
   "execution_count": null,
   "metadata": {},
   "outputs": [],
   "source": [
    "# show eia_id = 62642\n",
    "wind_turbine_df[wind_turbine_df['eia_id'] == 62642]"
   ]
  },
  {
   "cell_type": "code",
   "execution_count": null,
   "metadata": {},
   "outputs": [],
   "source": [
    "# convert cumulative_capacity (MW) to integer\n",
    "wind_turbine_df['cumulative_capacity (MW)'] = wind_turbine_df['cumulative_capacity (MW)'].astype('int64')"
   ]
  },
  {
   "cell_type": "code",
   "execution_count": null,
   "metadata": {},
   "outputs": [],
   "source": [
    "# filter for both cumulative_capacity (MW) and turbine_capacity (KW)  = null\n",
    "wind_turbine_df[wind_turbine_df['cumulative_capacity (MW)'].isnull() & wind_turbine_df['turbine_capacity (KW)'].isnull()].shape[0]\n"
   ]
  },
  {
   "cell_type": "code",
   "execution_count": null,
   "metadata": {},
   "outputs": [],
   "source": [
    "# show only turbine_capacity (KW) = null and cumulative_capacity (MW) = null\n",
    "wind_turbine_df[(wind_turbine_df['turbine_capacity (KW)'].isnull()) & (wind_turbine_df['cumulative_capacity (MW)'].isnull())]"
   ]
  },
  {
   "cell_type": "code",
   "execution_count": null,
   "metadata": {},
   "outputs": [],
   "source": [
    "# filter eia_id = 62642.0"
   ]
  },
  {
   "cell_type": "code",
   "execution_count": null,
   "metadata": {},
   "outputs": [],
   "source": [
    "# show turbine_capacity (KW) = null and cumulative_capacity (MW) != null\n",
    "wind_turbine_df[(wind_turbine_df['turbine_capacity (KW)'].isnull()) & (wind_turbine_df['cumulative_capacity (MW)'].notnull())].shape"
   ]
  },
  {
   "cell_type": "code",
   "execution_count": null,
   "metadata": {},
   "outputs": [],
   "source": [
    "# show eia_id = 10597.0 and project_turbine_num = 236.0\t\n",
    "wind_turbine_df[(wind_turbine_df['eia_id'] == 10597.0) & (wind_turbine_df['project_turbine_num'] == 236.0)]"
   ]
  },
  {
   "cell_type": "code",
   "execution_count": null,
   "metadata": {},
   "outputs": [],
   "source": [
    "# check if the project_turbine_num equals to the count of each eia_id\n",
    "wind_turbine_df.groupby('eia_id')['project_turbine_num'].nunique()[lambda x: x > 0].sort_values(ascending=False)\n"
   ]
  },
  {
   "cell_type": "code",
   "execution_count": null,
   "metadata": {},
   "outputs": [],
   "source": [
    "# show the unique values for turbine number for eia_id = 57833.0\n",
    "wind_turbine_df[wind_turbine_df['eia_id'] == 57833.0]\\\n",
    "    [['eia_id','project_name', 'project_turbine_num', 'cumulative_capacity (MW)', 'turbine_capacity (KW)']]\\\n",
    "    .drop_duplicates()"
   ]
  },
  {
   "cell_type": "code",
   "execution_count": null,
   "metadata": {},
   "outputs": [],
   "source": [
    "# check if the cumulative_capacity (MW) equals to the count of each eia_id\n",
    "wind_turbine_df.groupby('eia_id')['cumulative_capacity (MW)'].nunique()[lambda x: x > 0].sort_values(ascending=False)"
   ]
  },
  {
   "cell_type": "code",
   "execution_count": null,
   "metadata": {},
   "outputs": [],
   "source": [
    "# concatenate the eia_id and project_name\n",
    "wind_turbine_df['eia_id_project_name'] = wind_turbine_df['eia_id'].astype(str) + '_' + wind_turbine_df['project_name'] #+ '_' + wind_turbine_df['location_verification_date'].astype(str)\n",
    "\n",
    "# show the unique values for eia_id_project_name\n",
    "wind_turbine_df.groupby('eia_id_project_name')['cumulative_capacity (MW)'].nunique()[lambda x: x > 1].sort_values(ascending=False)"
   ]
  },
  {
   "cell_type": "code",
   "execution_count": null,
   "metadata": {},
   "outputs": [],
   "source": [
    "# show the unique values for eia_id_project_name equals to '56357.0_Wilton Wind Farm'\n",
    "wind_turbine_df[wind_turbine_df['eia_id_project_name'] == '57526.0_South Hurlburt']\\\n",
    "[['eia_id_project_name','eia_id','project_name', 'project_turbine_num', 'cumulative_capacity (MW)', 'turbine_capacity (KW)', 'operational_year']]\\\n",
    ".drop_duplicates()"
   ]
  },
  {
   "cell_type": "code",
   "execution_count": null,
   "metadata": {},
   "outputs": [],
   "source": [
    "wind_turbine_df.columns"
   ]
  },
  {
   "cell_type": "code",
   "execution_count": null,
   "metadata": {},
   "outputs": [],
   "source": [
    "pd.set_option('display.max_columns', None)\n",
    "wind_turbine_df[wind_turbine_df['eia_id_project_name'] == '57526.0_South Hurlburt']\\\n",
    "[['eia_id',\n",
    " 'project_name',\n",
    " 'project_turbine_num',\n",
    " 'cumulative_capacity (MW)',\n",
    " 'retrofit (y/n)',\n",
    " 'retrofit_year',\n",
    " 'eia_id_project_name']].drop_duplicates().sort_values(by=['cumulative_capacity (MW)'], ascending=False)"
   ]
  },
  {
   "cell_type": "code",
   "execution_count": null,
   "metadata": {},
   "outputs": [],
   "source": [
    "# list of all the columns\n",
    "list(wind_turbine_df.columns)"
   ]
  },
  {
   "cell_type": "code",
   "execution_count": null,
   "metadata": {},
   "outputs": [],
   "source": []
  }
 ],
 "metadata": {
  "kernelspec": {
   "display_name": "Python 3",
   "language": "python",
   "name": "python3"
  },
  "language_info": {
   "codemirror_mode": {
    "name": "ipython",
    "version": 3
   },
   "file_extension": ".py",
   "mimetype": "text/x-python",
   "name": "python",
   "nbconvert_exporter": "python",
   "pygments_lexer": "ipython3",
   "version": "3.10.1"
  },
  "orig_nbformat": 4
 },
 "nbformat": 4,
 "nbformat_minor": 2
}
