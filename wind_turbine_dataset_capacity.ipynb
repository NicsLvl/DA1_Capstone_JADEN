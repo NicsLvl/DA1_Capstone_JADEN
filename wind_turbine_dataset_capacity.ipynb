{
 "cells": [
  {
   "attachments": {},
   "cell_type": "markdown",
   "metadata": {},
   "source": [
    "## Import libraries"
   ]
  },
  {
   "cell_type": "code",
   "execution_count": 1,
   "metadata": {},
   "outputs": [],
   "source": [
    "import pandas as pd\n",
    "import seaborn as sns\n",
    "import matplotlib.pyplot as plt"
   ]
  },
  {
   "attachments": {},
   "cell_type": "markdown",
   "metadata": {},
   "source": [
    "## Initial EDA"
   ]
  },
  {
   "cell_type": "code",
   "execution_count": 13,
   "metadata": {},
   "outputs": [
    {
     "name": "stdout",
     "output_type": "stream",
     "text": [
      "<class 'pandas.core.frame.DataFrame'>\n",
      "RangeIndex: 71666 entries, 0 to 71665\n",
      "Data columns (total 27 columns):\n",
      " #   Column                              Non-Null Count  Dtype  \n",
      "---  ------                              --------------  -----  \n",
      " 0   case_id                             71666 non-null  int64  \n",
      " 1   faa_digital_obstacle_id             66165 non-null  object \n",
      " 2   faa_obstruction_evaluation_id       66505 non-null  object \n",
      " 3   usgs_id                             38229 non-null  float64\n",
      " 4   eia_id                              65577 non-null  float64\n",
      " 5   state                               71666 non-null  object \n",
      " 6   county                              71666 non-null  object \n",
      " 7   state_county_id                     71666 non-null  int64  \n",
      " 8   project_name                        71666 non-null  object \n",
      " 9   operational_year                    71103 non-null  float64\n",
      " 10  project_turbine_num                 71666 non-null  int64  \n",
      " 11  cumulative_capacity (MW)            68331 non-null  float64\n",
      " 12  manufacturer                        67173 non-null  object \n",
      " 13  model_name                          67036 non-null  object \n",
      " 14  turbine_capacity (KW)               67343 non-null  float64\n",
      " 15  hub_height (m)                      66644 non-null  float64\n",
      " 16  rotor_diameter (m)                  66889 non-null  float64\n",
      " 17  rotor_swept area (m2)               66889 non-null  float64\n",
      " 18  max_height (m)                      66643 non-null  float64\n",
      " 19  retrofit (y/n)                      71666 non-null  int64  \n",
      " 20  retrofit_year                       5986 non-null   float64\n",
      " 21  attribute_confidence_level (1/2/3)  71666 non-null  int64  \n",
      " 22  location_confidence_level (1/2/3)   71666 non-null  int64  \n",
      " 23  location_verification_date          63372 non-null  object \n",
      " 24  image_source                        71666 non-null  object \n",
      " 25  xlong                               71666 non-null  float64\n",
      " 26  ylat                                71666 non-null  float64\n",
      "dtypes: float64(12), int64(6), object(9)\n",
      "memory usage: 14.8+ MB\n"
     ]
    }
   ],
   "source": [
    "# define file name\n",
    "filename = r'Use this dataset\\uswtdb_v5_0_20220427_rename.csv'\n",
    "\n",
    "# read csv file\n",
    "wind_turbine_df = pd.read_csv(filename)\n",
    "\n",
    "# get information about the dataframe\n",
    "wind_turbine_df.info()"
   ]
  },
  {
   "cell_type": "code",
   "execution_count": 14,
   "metadata": {},
   "outputs": [
    {
     "data": {
      "text/plain": [
       "(71666, 27)"
      ]
     },
     "execution_count": 14,
     "metadata": {},
     "output_type": "execute_result"
    }
   ],
   "source": [
    "# check number of rows and columns\n",
    "wind_turbine_df.shape"
   ]
  },
  {
   "cell_type": "code",
   "execution_count": 11,
   "metadata": {},
   "outputs": [
    {
     "data": {
      "text/plain": [
       "Index(['case_id', 'faa_digital_obstacle_id', 'faa_obstruction_evaluation_id',\n",
       "       'usgs_id', 'eia_id', 'state', 'county', 'state_county_id',\n",
       "       'project_name', 'operational_year', 'project_turbine_num',\n",
       "       'cumulative_capacity (MW)', 'manufacturer', 'model_name',\n",
       "       'turbine_capacity (KW)', 'hub_height (m)', 'rotor_diameter (m)',\n",
       "       'rotor_swept area (m2)', 'max_height (m)', 'retrofit (y/n)',\n",
       "       'retrofit_year', 'attribute_confidence_level (1/2/3)',\n",
       "       'location_confidence_level (1/2/3)', 'location_verification_date',\n",
       "       'image_source', 'xlong', 'ylat'],\n",
       "      dtype='object')"
      ]
     },
     "execution_count": 11,
     "metadata": {},
     "output_type": "execute_result"
    }
   ],
   "source": [
    "# get the columns of the dataframe\n",
    "wind_turbine_df.columns"
   ]
  },
  {
   "cell_type": "code",
   "execution_count": 12,
   "metadata": {},
   "outputs": [],
   "source": [
    "# filter unecessary columns\n",
    "wind_turbine_df = wind_turbine_df[['case_id',\n",
    "                                   #'faa_digital_obstacle_id', 'faa_obstruction_evaluation_id', 'usgs_id', \n",
    "                                   'eia_id', 'state', 'county',\n",
    "                                   # 'state_county_id',\n",
    "                                   'project_name', 'operational_year', 'project_turbine_num',\n",
    "                                   'cumulative_capacity (MW)',\n",
    "                                   # 'manufacturer', 'model_name', \n",
    "                                   'turbine_capacity (KW)',\n",
    "                                   # 'hub_height (m)', \n",
    "                                   # 'rotor_diameter (m)', 'rotor_swept area (m2)', 'max_height (m)', 'retrofit (y/n)',\n",
    "                                   # 'retrofit_year', 'attribute_confidence_level (1/2/3)',\n",
    "                                   # 'location_confidence_level (1/2/3)', 'location_verification_date', 'image_source', \n",
    "                                   'xlong', 'ylat']]"
   ]
  },
  {
   "cell_type": "code",
   "execution_count": 32,
   "metadata": {},
   "outputs": [
    {
     "data": {
      "text/plain": [
       "eia_id                      6089\n",
       "turbine_capacity (KW)       4323\n",
       "cumulative_capacity (MW)    3335\n",
       "operational_year             563\n",
       "dtype: int64"
      ]
     },
     "execution_count": 32,
     "metadata": {},
     "output_type": "execute_result"
    }
   ],
   "source": [
    "# check for missing values\n",
    "wind_turbine_df.isnull().sum().sort_values(ascending=False)[lambda x: x > 0]"
   ]
  },
  {
   "cell_type": "code",
   "execution_count": 26,
   "metadata": {},
   "outputs": [
    {
     "data": {
      "text/plain": [
       "3414"
      ]
     },
     "execution_count": 26,
     "metadata": {},
     "output_type": "execute_result"
    }
   ],
   "source": [
    "# filter for both cumulative_capacity (MW) and turbine_capacity (KW)  = null\n",
    "wind_turbine_df[wind_turbine_df['cumulative_capacity (MW)'].isnull() & wind_turbine_df['turbine_capacity (KW)'].isnull()].shape[0]\n"
   ]
  },
  {
   "cell_type": "code",
   "execution_count": 106,
   "metadata": {},
   "outputs": [
    {
     "data": {
      "text/plain": [
       "NaN    10\n",
       "Name: manufacturer, dtype: int64"
      ]
     },
     "execution_count": 106,
     "metadata": {},
     "output_type": "execute_result"
    }
   ],
   "source": [
    "# count the number of 'Danwind 23/160' owned by each manufacturer\n",
    "wind_turbine_df[wind_turbine_df['model_name'] == 'Danwind 23/160']['manufacturer'].value_counts(dropna=False)"
   ]
  },
  {
   "cell_type": "code",
   "execution_count": 107,
   "metadata": {},
   "outputs": [
    {
     "data": {
      "text/plain": [
       "NaN      4401\n",
       "NW100       1\n",
       "Name: model_name, dtype: int64"
      ]
     },
     "execution_count": 107,
     "metadata": {},
     "output_type": "execute_result"
    }
   ],
   "source": [
    "# count the number of missing values in turbine_capcity (KW) for every model\n",
    "wind_turbine_df[wind_turbine_df['turbine_capacity (KW)'].isnull()]['model_name'].value_counts(dropna=False)"
   ]
  },
  {
   "cell_type": "code",
   "execution_count": 108,
   "metadata": {},
   "outputs": [
    {
     "data": {
      "text/plain": [
       "100.0    58\n",
       "NaN       1\n",
       "Name: turbine_capacity (KW), dtype: int64"
      ]
     },
     "execution_count": 108,
     "metadata": {},
     "output_type": "execute_result"
    }
   ],
   "source": [
    "# show the turbine_capacity (KW) for model_name = 'NW100'\n",
    "wind_turbine_df[wind_turbine_df['model_name'] == 'NW100']['turbine_capacity (KW)'].value_counts(dropna=False)"
   ]
  },
  {
   "cell_type": "code",
   "execution_count": 110,
   "metadata": {},
   "outputs": [
    {
     "data": {
      "text/plain": [
       "100.0    59\n",
       "Name: turbine_capacity (KW), dtype: int64"
      ]
     },
     "execution_count": 110,
     "metadata": {},
     "output_type": "execute_result"
    }
   ],
   "source": [
    "# replace the missing values in turbine_capacity (KW) with the value in model_name = 'NW100' with turbine_capacity (KW) = 100\n",
    "wind_turbine_df.loc[(wind_turbine_df['model_name'] == 'NW100') &\n",
    "                    (wind_turbine_df['turbine_capacity (KW)'].isnull()), 'turbine_capacity (KW)'] = 100\n",
    "\n",
    "# check the change in turbine_capacity (KW) for model_name = 'NW100'\n",
    "wind_turbine_df[wind_turbine_df['model_name'] == 'NW100']['turbine_capacity (KW)'].value_counts(dropna=False)"
   ]
  },
  {
   "attachments": {},
   "cell_type": "markdown",
   "metadata": {},
   "source": [
    "eia_id probably not useful, defined as: \"Plant ID from Energy Information Administration (EIA)\" "
   ]
  },
  {
   "cell_type": "code",
   "execution_count": 112,
   "metadata": {},
   "outputs": [
    {
     "data": {
      "text/plain": [
       "unknown Tehachapi Wind Resource Area 1    713\n",
       "Stateline Wind Project                    454\n",
       "Mesa Wind Farm                            432\n",
       "Western Spirit                            377\n",
       "Traverse Wind                             323\n",
       "                                         ... \n",
       "Gaines Cavern Wind Project                  1\n",
       "Mount St. Mary's Abbey                      1\n",
       "GobNob                                      1\n",
       "Golden Acorn Casino                         1\n",
       "Scituate Wind                               1\n",
       "Name: project_name, Length: 1736, dtype: int64"
      ]
     },
     "execution_count": 112,
     "metadata": {},
     "output_type": "execute_result"
    }
   ],
   "source": [
    "# obtain value counts for project_name\n",
    "wind_turbine_df['project_name'].value_counts(dropna=False)"
   ]
  },
  {
   "cell_type": "code",
   "execution_count": 117,
   "metadata": {},
   "outputs": [
    {
     "data": {
      "text/plain": [
       "project_name\n",
       "McNeilus                4\n",
       "South Hurlburt          4\n",
       "Wilton Wind Farm        4\n",
       "Crow Lake               3\n",
       "Shepherds Flat          3\n",
       "                       ..\n",
       "Green Mountain Power    1\n",
       "Gratiot County          1\n",
       "Gratiot                 1\n",
       "Grant Wind              1\n",
       "Grant Plains            1\n",
       "Name: cumulative_capacity (MW), Length: 1548, dtype: int64"
      ]
     },
     "execution_count": 117,
     "metadata": {},
     "output_type": "execute_result"
    }
   ],
   "source": [
    "# check if the cumulative_capacity (KW) is equal across the same project_name\n",
    "wind_turbine_df.groupby('project_name')['cumulative_capacity (MW)'].nunique().sort_values(ascending=False)[lambda x: x > 0]"
   ]
  },
  {
   "cell_type": "code",
   "execution_count": 122,
   "metadata": {},
   "outputs": [
    {
     "data": {
      "text/html": [
       "<div>\n",
       "<style scoped>\n",
       "    .dataframe tbody tr th:only-of-type {\n",
       "        vertical-align: middle;\n",
       "    }\n",
       "\n",
       "    .dataframe tbody tr th {\n",
       "        vertical-align: top;\n",
       "    }\n",
       "\n",
       "    .dataframe thead th {\n",
       "        text-align: right;\n",
       "    }\n",
       "</style>\n",
       "<table border=\"1\" class=\"dataframe\">\n",
       "  <thead>\n",
       "    <tr style=\"text-align: right;\">\n",
       "      <th></th>\n",
       "      <th>cumulative_capacity (MW)</th>\n",
       "    </tr>\n",
       "  </thead>\n",
       "  <tbody>\n",
       "    <tr>\n",
       "      <th>0</th>\n",
       "      <td>9.00</td>\n",
       "    </tr>\n",
       "    <tr>\n",
       "      <th>1</th>\n",
       "      <td>22.80</td>\n",
       "    </tr>\n",
       "    <tr>\n",
       "      <th>2</th>\n",
       "      <td>9.90</td>\n",
       "    </tr>\n",
       "    <tr>\n",
       "      <th>3</th>\n",
       "      <td>1.65</td>\n",
       "    </tr>\n",
       "  </tbody>\n",
       "</table>\n",
       "</div>"
      ],
      "text/plain": [
       "   cumulative_capacity (MW)\n",
       "0                      9.00\n",
       "1                     22.80\n",
       "2                      9.90\n",
       "3                      1.65"
      ]
     },
     "execution_count": 122,
     "metadata": {},
     "output_type": "execute_result"
    }
   ],
   "source": [
    "# show the unique values for cumulative_capacity (MW) for project_name = 'McNeilus'\n",
    "pd.DataFrame(wind_turbine_df[wind_turbine_df['project_name'] == 'McNeilus']['cumulative_capacity (MW)'].unique(), columns=['cumulative_capacity (MW)'])"
   ]
  },
  {
   "cell_type": "code",
   "execution_count": 154,
   "metadata": {},
   "outputs": [
    {
     "data": {
      "text/plain": [
       "project_name\n",
       "San Gorgonio Farms Wind Farm    5\n",
       "McNeilus                        4\n",
       "Twin Groves II                  3\n",
       "Mars Hill                       3\n",
       "Seven Mile Hill I & II          3\n",
       "                               ..\n",
       "Hidalgo                         1\n",
       "Heritage Garden                 1\n",
       "Heritage Flight                 1\n",
       "Hereford 1                      1\n",
       "unknown Yuma County             1\n",
       "Name: project_turbine_num, Length: 1736, dtype: int64"
      ]
     },
     "execution_count": 154,
     "metadata": {},
     "output_type": "execute_result"
    }
   ],
   "source": [
    "# check if the turbine_num is equal across the same project_name\n",
    "wind_turbine_df.groupby('project_name')['project_turbine_num'].nunique().sort_values(ascending=False)[lambda x: x > 0]"
   ]
  },
  {
   "cell_type": "code",
   "execution_count": 125,
   "metadata": {},
   "outputs": [
    {
     "data": {
      "text/html": [
       "<div>\n",
       "<style scoped>\n",
       "    .dataframe tbody tr th:only-of-type {\n",
       "        vertical-align: middle;\n",
       "    }\n",
       "\n",
       "    .dataframe tbody tr th {\n",
       "        vertical-align: top;\n",
       "    }\n",
       "\n",
       "    .dataframe thead th {\n",
       "        text-align: right;\n",
       "    }\n",
       "</style>\n",
       "<table border=\"1\" class=\"dataframe\">\n",
       "  <thead>\n",
       "    <tr style=\"text-align: right;\">\n",
       "      <th></th>\n",
       "      <th>project_turbine_num</th>\n",
       "    </tr>\n",
       "  </thead>\n",
       "  <tbody>\n",
       "    <tr>\n",
       "      <th>0</th>\n",
       "      <td>6</td>\n",
       "    </tr>\n",
       "    <tr>\n",
       "      <th>1</th>\n",
       "      <td>24</td>\n",
       "    </tr>\n",
       "    <tr>\n",
       "      <th>2</th>\n",
       "      <td>10</td>\n",
       "    </tr>\n",
       "    <tr>\n",
       "      <th>3</th>\n",
       "      <td>1</td>\n",
       "    </tr>\n",
       "  </tbody>\n",
       "</table>\n",
       "</div>"
      ],
      "text/plain": [
       "   project_turbine_num\n",
       "0                    6\n",
       "1                   24\n",
       "2                   10\n",
       "3                    1"
      ]
     },
     "execution_count": 125,
     "metadata": {},
     "output_type": "execute_result"
    }
   ],
   "source": [
    "# show the unique values for turbine number for project_name = 'McNeilus'\n",
    "pd.DataFrame(wind_turbine_df[wind_turbine_df['project_name'] == 'McNeilus']['project_turbine_num'].unique(), columns=['project_turbine_num'])"
   ]
  },
  {
   "cell_type": "code",
   "execution_count": 152,
   "metadata": {},
   "outputs": [
    {
     "data": {
      "text/html": [
       "<div>\n",
       "<style scoped>\n",
       "    .dataframe tbody tr th:only-of-type {\n",
       "        vertical-align: middle;\n",
       "    }\n",
       "\n",
       "    .dataframe tbody tr th {\n",
       "        vertical-align: top;\n",
       "    }\n",
       "\n",
       "    .dataframe thead th {\n",
       "        text-align: right;\n",
       "    }\n",
       "</style>\n",
       "<table border=\"1\" class=\"dataframe\">\n",
       "  <thead>\n",
       "    <tr style=\"text-align: right;\">\n",
       "      <th></th>\n",
       "      <th>eia_id</th>\n",
       "      <th>project_name</th>\n",
       "      <th>project_turbine_num</th>\n",
       "      <th>cumulative_capacity (MW)</th>\n",
       "      <th>turbine_capacity (KW)</th>\n",
       "    </tr>\n",
       "  </thead>\n",
       "  <tbody>\n",
       "    <tr>\n",
       "      <th>38306</th>\n",
       "      <td>56054.0</td>\n",
       "      <td>McNeilus</td>\n",
       "      <td>6</td>\n",
       "      <td>9.00</td>\n",
       "      <td>1500.0</td>\n",
       "    </tr>\n",
       "    <tr>\n",
       "      <th>38307</th>\n",
       "      <td>56054.0</td>\n",
       "      <td>McNeilus</td>\n",
       "      <td>24</td>\n",
       "      <td>22.80</td>\n",
       "      <td>950.0</td>\n",
       "    </tr>\n",
       "    <tr>\n",
       "      <th>38310</th>\n",
       "      <td>56307.0</td>\n",
       "      <td>McNeilus</td>\n",
       "      <td>6</td>\n",
       "      <td>9.90</td>\n",
       "      <td>1650.0</td>\n",
       "    </tr>\n",
       "    <tr>\n",
       "      <th>38317</th>\n",
       "      <td>56054.0</td>\n",
       "      <td>McNeilus</td>\n",
       "      <td>10</td>\n",
       "      <td>9.00</td>\n",
       "      <td>900.0</td>\n",
       "    </tr>\n",
       "    <tr>\n",
       "      <th>38319</th>\n",
       "      <td>56054.0</td>\n",
       "      <td>McNeilus</td>\n",
       "      <td>1</td>\n",
       "      <td>1.65</td>\n",
       "      <td>1650.0</td>\n",
       "    </tr>\n",
       "  </tbody>\n",
       "</table>\n",
       "</div>"
      ],
      "text/plain": [
       "        eia_id project_name  project_turbine_num  cumulative_capacity (MW)  \\\n",
       "38306  56054.0     McNeilus                    6                      9.00   \n",
       "38307  56054.0     McNeilus                   24                     22.80   \n",
       "38310  56307.0     McNeilus                    6                      9.90   \n",
       "38317  56054.0     McNeilus                   10                      9.00   \n",
       "38319  56054.0     McNeilus                    1                      1.65   \n",
       "\n",
       "       turbine_capacity (KW)  \n",
       "38306                 1500.0  \n",
       "38307                  950.0  \n",
       "38310                 1650.0  \n",
       "38317                  900.0  \n",
       "38319                 1650.0  "
      ]
     },
     "execution_count": 152,
     "metadata": {},
     "output_type": "execute_result"
    }
   ],
   "source": [
    "# show unique values for project_name equals to 'McNeilus'\n",
    "wind_turbine_df[wind_turbine_df['project_name'] == 'McNeilus']\\\n",
    "[['eia_id','project_name', 'project_turbine_num', 'cumulative_capacity (MW)', 'turbine_capacity (KW)']]\\\n",
    ".drop_duplicates()"
   ]
  },
  {
   "cell_type": "code",
   "execution_count": 155,
   "metadata": {},
   "outputs": [
    {
     "data": {
      "text/plain": [
       "eia_id\n",
       "57833.0    6\n",
       "57294.0    5\n",
       "56608.0    4\n",
       "7526.0     4\n",
       "57291.0    4\n",
       "          ..\n",
       "57214.0    1\n",
       "57239.0    1\n",
       "57240.0    1\n",
       "57244.0    1\n",
       "65525.0    1\n",
       "Name: project_turbine_num, Length: 1255, dtype: int64"
      ]
     },
     "execution_count": 155,
     "metadata": {},
     "output_type": "execute_result"
    }
   ],
   "source": [
    "# check if the project_turbine_num equals to the count of each eia_id\n",
    "wind_turbine_df.groupby('eia_id')['project_turbine_num'].nunique()[lambda x: x > 0].sort_values(ascending=False)\n"
   ]
  },
  {
   "cell_type": "code",
   "execution_count": 149,
   "metadata": {},
   "outputs": [
    {
     "data": {
      "text/html": [
       "<div>\n",
       "<style scoped>\n",
       "    .dataframe tbody tr th:only-of-type {\n",
       "        vertical-align: middle;\n",
       "    }\n",
       "\n",
       "    .dataframe tbody tr th {\n",
       "        vertical-align: top;\n",
       "    }\n",
       "\n",
       "    .dataframe thead th {\n",
       "        text-align: right;\n",
       "    }\n",
       "</style>\n",
       "<table border=\"1\" class=\"dataframe\">\n",
       "  <thead>\n",
       "    <tr style=\"text-align: right;\">\n",
       "      <th></th>\n",
       "      <th>eia_id</th>\n",
       "      <th>project_name</th>\n",
       "      <th>project_turbine_num</th>\n",
       "      <th>cumulative_capacity (MW)</th>\n",
       "      <th>turbine_capacity (KW)</th>\n",
       "    </tr>\n",
       "  </thead>\n",
       "  <tbody>\n",
       "    <tr>\n",
       "      <th>394</th>\n",
       "      <td>57833.0</td>\n",
       "      <td>Alta II</td>\n",
       "      <td>50</td>\n",
       "      <td>150.0</td>\n",
       "      <td>3000.0</td>\n",
       "    </tr>\n",
       "    <tr>\n",
       "      <th>487</th>\n",
       "      <td>57833.0</td>\n",
       "      <td>Alta IV</td>\n",
       "      <td>34</td>\n",
       "      <td>102.0</td>\n",
       "      <td>3000.0</td>\n",
       "    </tr>\n",
       "    <tr>\n",
       "      <th>556</th>\n",
       "      <td>57833.0</td>\n",
       "      <td>Alta V</td>\n",
       "      <td>56</td>\n",
       "      <td>168.0</td>\n",
       "      <td>3000.0</td>\n",
       "    </tr>\n",
       "    <tr>\n",
       "      <th>602</th>\n",
       "      <td>57833.0</td>\n",
       "      <td>Alta VI (partial)</td>\n",
       "      <td>44</td>\n",
       "      <td>132.0</td>\n",
       "      <td>3000.0</td>\n",
       "    </tr>\n",
       "    <tr>\n",
       "      <th>645</th>\n",
       "      <td>57833.0</td>\n",
       "      <td>Alta VIII (partial)</td>\n",
       "      <td>43</td>\n",
       "      <td>129.0</td>\n",
       "      <td>3000.0</td>\n",
       "    </tr>\n",
       "    <tr>\n",
       "      <th>42034</th>\n",
       "      <td>57833.0</td>\n",
       "      <td>Mustang Hills</td>\n",
       "      <td>6</td>\n",
       "      <td>18.0</td>\n",
       "      <td>3000.0</td>\n",
       "    </tr>\n",
       "  </tbody>\n",
       "</table>\n",
       "</div>"
      ],
      "text/plain": [
       "        eia_id         project_name  project_turbine_num  \\\n",
       "394    57833.0              Alta II                   50   \n",
       "487    57833.0              Alta IV                   34   \n",
       "556    57833.0               Alta V                   56   \n",
       "602    57833.0    Alta VI (partial)                   44   \n",
       "645    57833.0  Alta VIII (partial)                   43   \n",
       "42034  57833.0        Mustang Hills                    6   \n",
       "\n",
       "       cumulative_capacity (MW)  turbine_capacity (KW)  \n",
       "394                       150.0                 3000.0  \n",
       "487                       102.0                 3000.0  \n",
       "556                       168.0                 3000.0  \n",
       "602                       132.0                 3000.0  \n",
       "645                       129.0                 3000.0  \n",
       "42034                      18.0                 3000.0  "
      ]
     },
     "execution_count": 149,
     "metadata": {},
     "output_type": "execute_result"
    }
   ],
   "source": [
    "# show the unique values for turbine number for eia_id = 57833.0\n",
    "wind_turbine_df[wind_turbine_df['eia_id'] == 57833.0]\\\n",
    "    [['eia_id','project_name', 'project_turbine_num', 'cumulative_capacity (MW)', 'turbine_capacity (KW)']]\\\n",
    "    .drop_duplicates()"
   ]
  },
  {
   "cell_type": "code",
   "execution_count": 157,
   "metadata": {},
   "outputs": [
    {
     "data": {
      "text/plain": [
       "eia_id\n",
       "57833.0    6\n",
       "57294.0    5\n",
       "6304.0     4\n",
       "57291.0    4\n",
       "56357.0    4\n",
       "          ..\n",
       "57239.0    1\n",
       "57240.0    1\n",
       "57244.0    1\n",
       "57251.0    1\n",
       "65525.0    1\n",
       "Name: cumulative_capacity (MW), Length: 1254, dtype: int64"
      ]
     },
     "execution_count": 157,
     "metadata": {},
     "output_type": "execute_result"
    }
   ],
   "source": [
    "# check if the cumulative_capacity (MW) equals to the count of each eia_id\n",
    "wind_turbine_df.groupby('eia_id')['cumulative_capacity (MW)'].nunique()[lambda x: x > 0].sort_values(ascending=False)"
   ]
  },
  {
   "cell_type": "code",
   "execution_count": 172,
   "metadata": {},
   "outputs": [
    {
     "data": {
      "text/plain": [
       "eia_id_project_name\n",
       "57526.0_South Hurlburt                  4\n",
       "56357.0_Wilton Wind Farm                4\n",
       "56252.0_Century Expansion               3\n",
       "56925.0_Crystal Lake II                 3\n",
       "56843.0_Seven Mile Hill I & II          3\n",
       "                                       ..\n",
       "57195.0_Lower Snake River Phase I       2\n",
       "50281.0_San Gorgonio Farms Wind Farm    2\n",
       "57296.0_Carleton College                2\n",
       "57332.0_Crossroads                      2\n",
       "nan_unknown Riverside County            2\n",
       "Name: cumulative_capacity (MW), Length: 66, dtype: int64"
      ]
     },
     "execution_count": 172,
     "metadata": {},
     "output_type": "execute_result"
    }
   ],
   "source": [
    "# concatenate the eia_id and project_name\n",
    "wind_turbine_df['eia_id_project_name'] = wind_turbine_df['eia_id'].astype(str) + '_' + wind_turbine_df['project_name'] #+ '_' + wind_turbine_df['location_verification_date'].astype(str)\n",
    "\n",
    "# show the unique values for eia_id_project_name\n",
    "wind_turbine_df.groupby('eia_id_project_name')['cumulative_capacity (MW)'].nunique()[lambda x: x > 1].sort_values(ascending=False)"
   ]
  },
  {
   "cell_type": "code",
   "execution_count": 173,
   "metadata": {},
   "outputs": [
    {
     "data": {
      "text/html": [
       "<div>\n",
       "<style scoped>\n",
       "    .dataframe tbody tr th:only-of-type {\n",
       "        vertical-align: middle;\n",
       "    }\n",
       "\n",
       "    .dataframe tbody tr th {\n",
       "        vertical-align: top;\n",
       "    }\n",
       "\n",
       "    .dataframe thead th {\n",
       "        text-align: right;\n",
       "    }\n",
       "</style>\n",
       "<table border=\"1\" class=\"dataframe\">\n",
       "  <thead>\n",
       "    <tr style=\"text-align: right;\">\n",
       "      <th></th>\n",
       "      <th>eia_id_project_name</th>\n",
       "      <th>eia_id</th>\n",
       "      <th>project_name</th>\n",
       "      <th>project_turbine_num</th>\n",
       "      <th>cumulative_capacity (MW)</th>\n",
       "      <th>turbine_capacity (KW)</th>\n",
       "      <th>operational_year</th>\n",
       "    </tr>\n",
       "  </thead>\n",
       "  <tbody>\n",
       "    <tr>\n",
       "      <th>58696</th>\n",
       "      <td>57526.0_South Hurlburt</td>\n",
       "      <td>57526.0</td>\n",
       "      <td>South Hurlburt</td>\n",
       "      <td>82</td>\n",
       "      <td>224.75</td>\n",
       "      <td>2750.0</td>\n",
       "      <td>2011.0</td>\n",
       "    </tr>\n",
       "    <tr>\n",
       "      <th>58697</th>\n",
       "      <td>57526.0_South Hurlburt</td>\n",
       "      <td>57526.0</td>\n",
       "      <td>South Hurlburt</td>\n",
       "      <td>23</td>\n",
       "      <td>63.25</td>\n",
       "      <td>2750.0</td>\n",
       "      <td>2012.0</td>\n",
       "    </tr>\n",
       "    <tr>\n",
       "      <th>58699</th>\n",
       "      <td>57526.0_South Hurlburt</td>\n",
       "      <td>57526.0</td>\n",
       "      <td>South Hurlburt</td>\n",
       "      <td>82</td>\n",
       "      <td>224.75</td>\n",
       "      <td>2500.0</td>\n",
       "      <td>2011.0</td>\n",
       "    </tr>\n",
       "    <tr>\n",
       "      <th>58757</th>\n",
       "      <td>57526.0_South Hurlburt</td>\n",
       "      <td>57526.0</td>\n",
       "      <td>South Hurlburt</td>\n",
       "      <td>116</td>\n",
       "      <td>290.00</td>\n",
       "      <td>2500.0</td>\n",
       "      <td>2012.0</td>\n",
       "    </tr>\n",
       "    <tr>\n",
       "      <th>58803</th>\n",
       "      <td>57526.0_South Hurlburt</td>\n",
       "      <td>57526.0</td>\n",
       "      <td>South Hurlburt</td>\n",
       "      <td>82</td>\n",
       "      <td>205.00</td>\n",
       "      <td>2500.0</td>\n",
       "      <td>2011.0</td>\n",
       "    </tr>\n",
       "  </tbody>\n",
       "</table>\n",
       "</div>"
      ],
      "text/plain": [
       "          eia_id_project_name   eia_id    project_name  project_turbine_num  \\\n",
       "58696  57526.0_South Hurlburt  57526.0  South Hurlburt                   82   \n",
       "58697  57526.0_South Hurlburt  57526.0  South Hurlburt                   23   \n",
       "58699  57526.0_South Hurlburt  57526.0  South Hurlburt                   82   \n",
       "58757  57526.0_South Hurlburt  57526.0  South Hurlburt                  116   \n",
       "58803  57526.0_South Hurlburt  57526.0  South Hurlburt                   82   \n",
       "\n",
       "       cumulative_capacity (MW)  turbine_capacity (KW)  operational_year  \n",
       "58696                    224.75                 2750.0            2011.0  \n",
       "58697                     63.25                 2750.0            2012.0  \n",
       "58699                    224.75                 2500.0            2011.0  \n",
       "58757                    290.00                 2500.0            2012.0  \n",
       "58803                    205.00                 2500.0            2011.0  "
      ]
     },
     "execution_count": 173,
     "metadata": {},
     "output_type": "execute_result"
    }
   ],
   "source": [
    "# show the unique values for eia_id_project_name equals to '56357.0_Wilton Wind Farm'\n",
    "wind_turbine_df[wind_turbine_df['eia_id_project_name'] == '57526.0_South Hurlburt']\\\n",
    "[['eia_id_project_name','eia_id','project_name', 'project_turbine_num', 'cumulative_capacity (MW)', 'turbine_capacity (KW)', 'operational_year']]\\\n",
    ".drop_duplicates()"
   ]
  },
  {
   "cell_type": "code",
   "execution_count": 167,
   "metadata": {},
   "outputs": [
    {
     "data": {
      "text/plain": [
       "Index(['case_id', 'faa_digital_obstacle_id', 'faa_obstruction_evaluation_id',\n",
       "       'usgs_id', 'eia_id', 'state', 'county', 'state_county_id',\n",
       "       'project_name', 'operational_year', 'project_turbine_num',\n",
       "       'cumulative_capacity (MW)', 'manufacturer', 'model_name',\n",
       "       'turbine_capacity (KW)', 'hub_height (m)', 'rotor_diameter (m)',\n",
       "       'rotor_swept area (m2)', 'max_height (m)', 'retrofit (y/n)',\n",
       "       'retrofit_year', 'attribute_confidence_level (1/2/3)',\n",
       "       'location_confidence_level (1/2/3)', 'location_verification_date',\n",
       "       'image_source', 'xlong', 'ylat', 'eia_id_project_name'],\n",
       "      dtype='object')"
      ]
     },
     "execution_count": 167,
     "metadata": {},
     "output_type": "execute_result"
    }
   ],
   "source": [
    "wind_turbine_df.columns"
   ]
  },
  {
   "cell_type": "code",
   "execution_count": 197,
   "metadata": {},
   "outputs": [
    {
     "data": {
      "text/html": [
       "<div>\n",
       "<style scoped>\n",
       "    .dataframe tbody tr th:only-of-type {\n",
       "        vertical-align: middle;\n",
       "    }\n",
       "\n",
       "    .dataframe tbody tr th {\n",
       "        vertical-align: top;\n",
       "    }\n",
       "\n",
       "    .dataframe thead th {\n",
       "        text-align: right;\n",
       "    }\n",
       "</style>\n",
       "<table border=\"1\" class=\"dataframe\">\n",
       "  <thead>\n",
       "    <tr style=\"text-align: right;\">\n",
       "      <th></th>\n",
       "      <th>eia_id</th>\n",
       "      <th>project_name</th>\n",
       "      <th>project_turbine_num</th>\n",
       "      <th>cumulative_capacity (MW)</th>\n",
       "      <th>retrofit (y/n)</th>\n",
       "      <th>retrofit_year</th>\n",
       "      <th>eia_id_project_name</th>\n",
       "    </tr>\n",
       "  </thead>\n",
       "  <tbody>\n",
       "    <tr>\n",
       "      <th>58757</th>\n",
       "      <td>57526.0</td>\n",
       "      <td>South Hurlburt</td>\n",
       "      <td>116</td>\n",
       "      <td>290.00</td>\n",
       "      <td>0</td>\n",
       "      <td>NaN</td>\n",
       "      <td>57526.0_South Hurlburt</td>\n",
       "    </tr>\n",
       "    <tr>\n",
       "      <th>58696</th>\n",
       "      <td>57526.0</td>\n",
       "      <td>South Hurlburt</td>\n",
       "      <td>82</td>\n",
       "      <td>224.75</td>\n",
       "      <td>1</td>\n",
       "      <td>2021.0</td>\n",
       "      <td>57526.0_South Hurlburt</td>\n",
       "    </tr>\n",
       "    <tr>\n",
       "      <th>58803</th>\n",
       "      <td>57526.0</td>\n",
       "      <td>South Hurlburt</td>\n",
       "      <td>82</td>\n",
       "      <td>205.00</td>\n",
       "      <td>1</td>\n",
       "      <td>2021.0</td>\n",
       "      <td>57526.0_South Hurlburt</td>\n",
       "    </tr>\n",
       "    <tr>\n",
       "      <th>58697</th>\n",
       "      <td>57526.0</td>\n",
       "      <td>South Hurlburt</td>\n",
       "      <td>23</td>\n",
       "      <td>63.25</td>\n",
       "      <td>1</td>\n",
       "      <td>2021.0</td>\n",
       "      <td>57526.0_South Hurlburt</td>\n",
       "    </tr>\n",
       "  </tbody>\n",
       "</table>\n",
       "</div>"
      ],
      "text/plain": [
       "        eia_id    project_name  project_turbine_num  cumulative_capacity (MW)  \\\n",
       "58757  57526.0  South Hurlburt                  116                    290.00   \n",
       "58696  57526.0  South Hurlburt                   82                    224.75   \n",
       "58803  57526.0  South Hurlburt                   82                    205.00   \n",
       "58697  57526.0  South Hurlburt                   23                     63.25   \n",
       "\n",
       "       retrofit (y/n)  retrofit_year     eia_id_project_name  \n",
       "58757               0            NaN  57526.0_South Hurlburt  \n",
       "58696               1         2021.0  57526.0_South Hurlburt  \n",
       "58803               1         2021.0  57526.0_South Hurlburt  \n",
       "58697               1         2021.0  57526.0_South Hurlburt  "
      ]
     },
     "execution_count": 197,
     "metadata": {},
     "output_type": "execute_result"
    }
   ],
   "source": [
    "pd.set_option('display.max_columns', None)\n",
    "wind_turbine_df[wind_turbine_df['eia_id_project_name'] == '57526.0_South Hurlburt']\\\n",
    "[['eia_id',\n",
    " 'project_name',\n",
    " 'project_turbine_num',\n",
    " 'cumulative_capacity (MW)',\n",
    " 'retrofit (y/n)',\n",
    " 'retrofit_year',\n",
    " 'eia_id_project_name']].drop_duplicates().sort_values(by=['cumulative_capacity (MW)'], ascending=False)"
   ]
  },
  {
   "cell_type": "code",
   "execution_count": 176,
   "metadata": {},
   "outputs": [
    {
     "data": {
      "text/plain": [
       "['case_id',\n",
       " 'faa_digital_obstacle_id',\n",
       " 'faa_obstruction_evaluation_id',\n",
       " 'usgs_id',\n",
       " 'eia_id',\n",
       " 'state',\n",
       " 'county',\n",
       " 'state_county_id',\n",
       " 'project_name',\n",
       " 'operational_year',\n",
       " 'project_turbine_num',\n",
       " 'cumulative_capacity (MW)',\n",
       " 'manufacturer',\n",
       " 'model_name',\n",
       " 'turbine_capacity (KW)',\n",
       " 'hub_height (m)',\n",
       " 'rotor_diameter (m)',\n",
       " 'rotor_swept area (m2)',\n",
       " 'max_height (m)',\n",
       " 'retrofit (y/n)',\n",
       " 'retrofit_year',\n",
       " 'attribute_confidence_level (1/2/3)',\n",
       " 'location_confidence_level (1/2/3)',\n",
       " 'location_verification_date',\n",
       " 'image_source',\n",
       " 'xlong',\n",
       " 'ylat',\n",
       " 'eia_id_project_name']"
      ]
     },
     "execution_count": 176,
     "metadata": {},
     "output_type": "execute_result"
    }
   ],
   "source": [
    "# list of all the columns\n",
    "list(wind_turbine_df.columns)"
   ]
  },
  {
   "cell_type": "code",
   "execution_count": null,
   "metadata": {},
   "outputs": [],
   "source": []
  }
 ],
 "metadata": {
  "kernelspec": {
   "display_name": "Python 3",
   "language": "python",
   "name": "python3"
  },
  "language_info": {
   "codemirror_mode": {
    "name": "ipython",
    "version": 3
   },
   "file_extension": ".py",
   "mimetype": "text/x-python",
   "name": "python",
   "nbconvert_exporter": "python",
   "pygments_lexer": "ipython3",
   "version": "3.10.1"
  },
  "orig_nbformat": 4
 },
 "nbformat": 4,
 "nbformat_minor": 2
}
